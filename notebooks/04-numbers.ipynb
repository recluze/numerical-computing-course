{
 "cells": [
  {
   "cell_type": "markdown",
   "id": "extensive-rugby",
   "metadata": {},
   "source": [
    "# Numbers and Types "
   ]
  },
  {
   "cell_type": "markdown",
   "id": "alpine-garage",
   "metadata": {},
   "source": [
    "| Set Name | Symbol  | Description  |\n",
    "|------|------|------------|\n",
    "|   Naturals  | $\\mathbb{N}$| ${\\mathbb{N}} = \\{1, 2, 3, 4, \\cdots\\}$|\n",
    "|   Wholes    | $\\mathbb{W}$| ${\\mathbb{W}} = \\mathbb{N} \\cup \\{0\\}$|\n",
    "|   Integers  | $\\mathbb{Z}$| ${\\mathbb{Z}} = \\mathbb{W} \\cup \\{-1, -2, -3, \\cdots\\}$|\n",
    "|   Rationals | $\\mathbb{Q}$| ${\\mathbb{Q}} = \\{\\frac{p}{q} : p\\in {\\mathbb{Z}}, q\\in {\\mathbb{Z}} \\backslash \\{0\\}\\}$|\n",
    "| Irrationals | $\\mathbb{I}$| ${\\mathbb{I}}$ is the set of real numbers not expressible as a fraction of integers.|\n",
    "|   Reals     | $\\mathbb{R}$| ${\\mathbb{R}} = \\mathbb{Q} \\cup \\mathbb{I}$|\n",
    "|   Complex Numbers     | $\\mathbb{C}$| ${\\mathbb{C}} = \\{a + bi : a,b\\in {\\mathbb{R}}, i = \\sqrt{-1}\\}$|"
   ]
  },
  {
   "cell_type": "code",
   "execution_count": 1,
   "id": "dietary-kennedy",
   "metadata": {},
   "outputs": [
    {
     "name": "stdout",
     "output_type": "stream",
     "text": [
      "(1, 5)\n",
      "(4, 1)\n"
     ]
    }
   ],
   "source": [
    "import numpy as np\n",
    "vector_row = np.array([[1, -5, 3, 2, 4]])\n",
    "vector_column = np.array([[1], \n",
    "                          [2], \n",
    "                          [3], \n",
    "                          [4]])\n",
    "print(vector_row.shape)\n",
    "print(vector_column.shape)"
   ]
  },
  {
   "cell_type": "code",
   "execution_count": 2,
   "id": "intended-arkansas",
   "metadata": {},
   "outputs": [
    {
     "name": "stdout",
     "output_type": "stream",
     "text": [
      "[[ 1 -5  3  2  4]]\n",
      "[[1]\n",
      " [2]\n",
      " [3]\n",
      " [4]]\n"
     ]
    }
   ],
   "source": [
    "print(vector_row)\n",
    "print(vector_column)"
   ]
  },
  {
   "cell_type": "markdown",
   "id": "removable-florist",
   "metadata": {},
   "source": [
    "# Floating Point Numbers"
   ]
  },
  {
   "cell_type": "code",
   "execution_count": 1,
   "id": "breathing-officer",
   "metadata": {},
   "outputs": [
    {
     "data": {
      "text/plain": [
       "sys.float_info(max=1.7976931348623157e+308, max_exp=1024, max_10_exp=308, min=2.2250738585072014e-308, min_exp=-1021, min_10_exp=-307, dig=15, mant_dig=53, epsilon=2.220446049250313e-16, radix=2, rounds=1)"
      ]
     },
     "execution_count": 1,
     "metadata": {},
     "output_type": "execute_result"
    }
   ],
   "source": [
    "import sys\n",
    "sys.float_info"
   ]
  },
  {
   "cell_type": "code",
   "execution_count": 40,
   "id": "related-dublin",
   "metadata": {},
   "outputs": [
    {
     "data": {
      "text/plain": [
       "1.4901161193847656e-08"
      ]
     },
     "execution_count": 40,
     "metadata": {},
     "output_type": "execute_result"
    }
   ],
   "source": [
    "import numpy as np\n",
    "\n",
    "# Spacing tells us how far \"next largest/smallest\" number is\n",
    "np.spacing(100_000_000)"
   ]
  },
  {
   "cell_type": "code",
   "execution_count": 43,
   "id": "satisfied-commerce",
   "metadata": {},
   "outputs": [
    {
     "data": {
      "text/plain": [
       "1.4210854715202004e-14"
      ]
     },
     "execution_count": 43,
     "metadata": {},
     "output_type": "execute_result"
    }
   ],
   "source": [
    "np.spacing(100.2)  # notice smaller spacing at this point"
   ]
  },
  {
   "cell_type": "code",
   "execution_count": 44,
   "id": "false-night",
   "metadata": {},
   "outputs": [
    {
     "name": "stdout",
     "output_type": "stream",
     "text": [
      "1.8189894035458565e-12\n",
      "1.3552527156068805e-20\n"
     ]
    }
   ],
   "source": [
    "print(  np.spacing(1e4)  )\n",
    "print(  np.spacing(1e-4)  )"
   ]
  },
  {
   "cell_type": "code",
   "execution_count": 59,
   "id": "sunrise-withdrawal",
   "metadata": {},
   "outputs": [
    {
     "name": "stdout",
     "output_type": "stream",
     "text": [
      "1000000000.0\n",
      "1.1920928955078125e-07\n",
      "1000000000.0000001\n",
      "Next is same:     False\n",
      "1000000000.0\n",
      "Closer is same:   True\n"
     ]
    }
   ],
   "source": [
    "num = 1e9\n",
    "# num = 100.0\n",
    "spacing = np.spacing(num)\n",
    "print(num)\n",
    "print(spacing)\n",
    "\n",
    "num_next = num + spacing\n",
    "print(num_next)\n",
    "print(\"Next is same:    \", num == num_next)\n",
    "\n",
    "num_closer = num + (spacing/2)\n",
    "print(num_closer)\n",
    "print(\"Closer is same:  \", num == num_closer)"
   ]
  },
  {
   "cell_type": "code",
   "execution_count": 60,
   "id": "rubber-religious",
   "metadata": {},
   "outputs": [
    {
     "data": {
      "text/plain": [
       "1.7976931348623157e+308"
      ]
     },
     "execution_count": 60,
     "metadata": {},
     "output_type": "execute_result"
    }
   ],
   "source": [
    "sys.float_info.max"
   ]
  },
  {
   "cell_type": "code",
   "execution_count": 61,
   "id": "structured-gateway",
   "metadata": {},
   "outputs": [
    {
     "data": {
      "text/plain": [
       "2.2250738585072014e-308"
      ]
     },
     "execution_count": 61,
     "metadata": {},
     "output_type": "execute_result"
    }
   ],
   "source": [
    "sys.float_info.min"
   ]
  },
  {
   "cell_type": "code",
   "execution_count": null,
   "id": "unlikely-demonstration",
   "metadata": {},
   "outputs": [],
   "source": [
    "# Reading assignment: Chop-off and Round-off "
   ]
  }
 ],
 "metadata": {
  "kernelspec": {
   "display_name": "Python 3",
   "language": "python",
   "name": "python3"
  },
  "language_info": {
   "codemirror_mode": {
    "name": "ipython",
    "version": 3
   },
   "file_extension": ".py",
   "mimetype": "text/x-python",
   "name": "python",
   "nbconvert_exporter": "python",
   "pygments_lexer": "ipython3",
   "version": "3.8.6"
  }
 },
 "nbformat": 4,
 "nbformat_minor": 5
}
