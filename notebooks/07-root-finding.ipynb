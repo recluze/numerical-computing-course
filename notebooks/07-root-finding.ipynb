{
 "cells": [
  {
   "cell_type": "markdown",
   "id": "fitted-contemporary",
   "metadata": {},
   "source": [
    "# Root Finding"
   ]
  },
  {
   "cell_type": "markdown",
   "id": "engaging-elite",
   "metadata": {},
   "source": [
    "## Bisection Method "
   ]
  },
  {
   "cell_type": "code",
   "execution_count": null,
   "id": "opposite-kansas",
   "metadata": {},
   "outputs": [],
   "source": [
    "def bisect(a, b): \n",
    "    p = (a + b)/2\n",
    "    fa, fb, fp = f(a), f(p), f(b) \n",
    "\n",
    "    print(a,  \"\\t\", p,  \"\\t\",  b)\n",
    "    print(fa, \"\\t\", fb, \"\\t\", fp)\n",
    "    return p"
   ]
  },
  {
   "cell_type": "code",
   "execution_count": null,
   "id": "vanilla-termination",
   "metadata": {},
   "outputs": [],
   "source": [
    "def f(x): \n",
    "    return x ** 2 - 36 "
   ]
  },
  {
   "cell_type": "code",
   "execution_count": null,
   "id": "noted-tracy",
   "metadata": {},
   "outputs": [],
   "source": [
    "# initial values\n",
    "a = 1\n",
    "b = 10 "
   ]
  },
  {
   "cell_type": "code",
   "execution_count": null,
   "id": "amazing-clerk",
   "metadata": {},
   "outputs": [],
   "source": [
    "fa = f(a) \n",
    "fb = f(b) \n",
    "fa, fb"
   ]
  },
  {
   "cell_type": "code",
   "execution_count": null,
   "id": "anticipated-yemen",
   "metadata": {},
   "outputs": [],
   "source": [
    "a, b = a, b\n",
    "p = bisect(a, b)"
   ]
  },
  {
   "cell_type": "code",
   "execution_count": null,
   "id": "composed-differential",
   "metadata": {},
   "outputs": [],
   "source": [
    "a, b = p, b\n",
    "p = bisect(a, b)"
   ]
  },
  {
   "cell_type": "code",
   "execution_count": null,
   "id": "successful-archive",
   "metadata": {},
   "outputs": [],
   "source": [
    "a, b = a, p\n",
    "p = bisect(a, b)"
   ]
  },
  {
   "cell_type": "code",
   "execution_count": null,
   "id": "technical-torture",
   "metadata": {},
   "outputs": [],
   "source": [
    "a, b = a, p\n",
    "p = bisect(a, b)"
   ]
  },
  {
   "cell_type": "code",
   "execution_count": null,
   "id": "metric-praise",
   "metadata": {},
   "outputs": [],
   "source": [
    "a, b = a, p\n",
    "p = bisect(a, b)"
   ]
  },
  {
   "cell_type": "code",
   "execution_count": null,
   "id": "unique-geology",
   "metadata": {},
   "outputs": [],
   "source": [
    "a, b = p, b\n",
    "p = bisect(a, b)"
   ]
  },
  {
   "cell_type": "code",
   "execution_count": null,
   "id": "aggressive-happiness",
   "metadata": {},
   "outputs": [],
   "source": [
    "a, b = p, b\n",
    "p = bisect(a, b)"
   ]
  },
  {
   "cell_type": "code",
   "execution_count": null,
   "id": "direct-steal",
   "metadata": {},
   "outputs": [],
   "source": [
    "a, b = p, b\n",
    "p = bisect(a, b)"
   ]
  },
  {
   "cell_type": "code",
   "execution_count": null,
   "id": "adaptive-treat",
   "metadata": {},
   "outputs": [],
   "source": [
    "a, b = a, p\n",
    "p = bisect(a, b)"
   ]
  },
  {
   "cell_type": "code",
   "execution_count": null,
   "id": "neutral-essex",
   "metadata": {},
   "outputs": [],
   "source": [
    "a, b = a, p\n",
    "p = bisect(a, b)"
   ]
  },
  {
   "cell_type": "markdown",
   "id": "found-professional",
   "metadata": {},
   "source": [
    "## Newton's Method "
   ]
  },
  {
   "cell_type": "code",
   "execution_count": 1,
   "id": "following-shark",
   "metadata": {},
   "outputs": [],
   "source": [
    "def f(x): \n",
    "    return x ** 2 - 36 "
   ]
  },
  {
   "cell_type": "code",
   "execution_count": 2,
   "id": "freelance-daughter",
   "metadata": {},
   "outputs": [],
   "source": [
    "def fp(x): \n",
    "    return 2 * x "
   ]
  },
  {
   "cell_type": "code",
   "execution_count": 3,
   "id": "forward-albany",
   "metadata": {},
   "outputs": [],
   "source": [
    "def new_val(x): \n",
    "    return x - (   f(x) / fp(x)    )"
   ]
  },
  {
   "cell_type": "code",
   "execution_count": 4,
   "id": "valuable-management",
   "metadata": {},
   "outputs": [],
   "source": [
    "x = 2"
   ]
  },
  {
   "cell_type": "code",
   "execution_count": 5,
   "id": "printable-worship",
   "metadata": {},
   "outputs": [
    {
     "data": {
      "text/plain": [
       "10.0"
      ]
     },
     "execution_count": 5,
     "metadata": {},
     "output_type": "execute_result"
    }
   ],
   "source": [
    "x = new_val(x)\n",
    "x"
   ]
  },
  {
   "cell_type": "code",
   "execution_count": 6,
   "id": "patent-inventory",
   "metadata": {},
   "outputs": [
    {
     "data": {
      "text/plain": [
       "6.8"
      ]
     },
     "execution_count": 6,
     "metadata": {},
     "output_type": "execute_result"
    }
   ],
   "source": [
    "x = new_val(x)\n",
    "x"
   ]
  },
  {
   "cell_type": "code",
   "execution_count": 7,
   "id": "progressive-marks",
   "metadata": {},
   "outputs": [
    {
     "data": {
      "text/plain": [
       "6.047058823529412"
      ]
     },
     "execution_count": 7,
     "metadata": {},
     "output_type": "execute_result"
    }
   ],
   "source": [
    "x = new_val(x)\n",
    "x"
   ]
  },
  {
   "cell_type": "code",
   "execution_count": 8,
   "id": "loved-strand",
   "metadata": {},
   "outputs": [
    {
     "data": {
      "text/plain": [
       "6.00018310826276"
      ]
     },
     "execution_count": 8,
     "metadata": {},
     "output_type": "execute_result"
    }
   ],
   "source": [
    "x = new_val(x)\n",
    "x"
   ]
  },
  {
   "cell_type": "code",
   "execution_count": 9,
   "id": "sudden-vacation",
   "metadata": {},
   "outputs": [
    {
     "data": {
      "text/plain": [
       "6.000000002793968"
      ]
     },
     "execution_count": 9,
     "metadata": {},
     "output_type": "execute_result"
    }
   ],
   "source": [
    "x = new_val(x)\n",
    "x"
   ]
  },
  {
   "cell_type": "code",
   "execution_count": 10,
   "id": "polar-opinion",
   "metadata": {},
   "outputs": [
    {
     "data": {
      "text/plain": [
       "6.0"
      ]
     },
     "execution_count": 10,
     "metadata": {},
     "output_type": "execute_result"
    }
   ],
   "source": [
    "x = new_val(x)\n",
    "x"
   ]
  },
  {
   "cell_type": "code",
   "execution_count": null,
   "id": "continent-olive",
   "metadata": {},
   "outputs": [],
   "source": [
    "\n",
    "\n",
    "\n",
    "\n",
    "\n",
    "\n",
    "\n",
    "\n",
    "\n",
    "\n",
    "\n",
    "\n",
    "\n",
    "\n"
   ]
  },
  {
   "cell_type": "code",
   "execution_count": 18,
   "id": "focal-perception",
   "metadata": {},
   "outputs": [],
   "source": [
    "def new_val(x, f, fp): \n",
    "    return x - ( f(x) / fp(x) )"
   ]
  },
  {
   "cell_type": "code",
   "execution_count": 12,
   "id": "collect-consortium",
   "metadata": {},
   "outputs": [],
   "source": [
    "def root_81(x): \n",
    "    return x**2 - 81 "
   ]
  },
  {
   "cell_type": "code",
   "execution_count": 13,
   "id": "adequate-variable",
   "metadata": {},
   "outputs": [],
   "source": [
    "def root_81_p(x): \n",
    "    return 2*x"
   ]
  },
  {
   "cell_type": "code",
   "execution_count": 14,
   "id": "powerful-defendant",
   "metadata": {},
   "outputs": [],
   "source": [
    "initial_value = 7"
   ]
  },
  {
   "cell_type": "code",
   "execution_count": 15,
   "id": "unsigned-hindu",
   "metadata": {},
   "outputs": [
    {
     "name": "stdout",
     "output_type": "stream",
     "text": [
      "9.285714285714285\n"
     ]
    }
   ],
   "source": [
    "x = new_val(initial_value, root_81, root_81_p)\n",
    "print(x)"
   ]
  },
  {
   "cell_type": "code",
   "execution_count": 16,
   "id": "thorough-clear",
   "metadata": {},
   "outputs": [
    {
     "name": "stdout",
     "output_type": "stream",
     "text": [
      "9.004395604395604\n"
     ]
    }
   ],
   "source": [
    "x = new_val(x, root_81, root_81_p)\n",
    "print(x)"
   ]
  },
  {
   "cell_type": "code",
   "execution_count": 17,
   "id": "statutory-windows",
   "metadata": {},
   "outputs": [
    {
     "name": "stdout",
     "output_type": "stream",
     "text": [
      "9.00000107288367\n"
     ]
    }
   ],
   "source": [
    "x = new_val(x, root_81, root_81_p)\n",
    "print(x)"
   ]
  },
  {
   "cell_type": "code",
   "execution_count": null,
   "id": "honey-elite",
   "metadata": {},
   "outputs": [],
   "source": []
  },
  {
   "cell_type": "code",
   "execution_count": 19,
   "id": "hybrid-jones",
   "metadata": {},
   "outputs": [],
   "source": [
    "def g(x): \n",
    "    return (x+2)**2 - 81 "
   ]
  },
  {
   "cell_type": "code",
   "execution_count": 20,
   "id": "worth-webmaster",
   "metadata": {},
   "outputs": [],
   "source": [
    "def gp(x): \n",
    "    return 2 * (x+2)"
   ]
  },
  {
   "cell_type": "code",
   "execution_count": 22,
   "id": "overall-length",
   "metadata": {},
   "outputs": [
    {
     "name": "stdout",
     "output_type": "stream",
     "text": [
      "7.615384615384615\n"
     ]
    }
   ],
   "source": [
    "x = new_val(11, g, gp)\n",
    "print(x)"
   ]
  },
  {
   "cell_type": "code",
   "execution_count": 23,
   "id": "julian-johnston",
   "metadata": {},
   "outputs": [
    {
     "name": "stdout",
     "output_type": "stream",
     "text": [
      "7.019692307692308\n"
     ]
    }
   ],
   "source": [
    "x = new_val(x, g, gp)\n",
    "print(x)"
   ]
  },
  {
   "cell_type": "code",
   "execution_count": 25,
   "id": "homeless-wealth",
   "metadata": {},
   "outputs": [
    {
     "name": "stdout",
     "output_type": "stream",
     "text": [
      "7.019692307692308\n"
     ]
    }
   ],
   "source": [
    "x = new_val(x, g, gp)\n",
    "print(x)"
   ]
  },
  {
   "cell_type": "code",
   "execution_count": 26,
   "id": "expanded-wayne",
   "metadata": {},
   "outputs": [
    {
     "name": "stdout",
     "output_type": "stream",
     "text": [
      "7.000021496685752\n"
     ]
    }
   ],
   "source": [
    "x = new_val(x, g, gp)\n",
    "print(x)"
   ]
  },
  {
   "cell_type": "code",
   "execution_count": null,
   "id": "quick-voice",
   "metadata": {},
   "outputs": [],
   "source": []
  }
 ],
 "metadata": {
  "kernelspec": {
   "display_name": "Python 3",
   "language": "python",
   "name": "python3"
  },
  "language_info": {
   "codemirror_mode": {
    "name": "ipython",
    "version": 3
   },
   "file_extension": ".py",
   "mimetype": "text/x-python",
   "name": "python",
   "nbconvert_exporter": "python",
   "pygments_lexer": "ipython3",
   "version": "3.8.6"
  }
 },
 "nbformat": 4,
 "nbformat_minor": 5
}
