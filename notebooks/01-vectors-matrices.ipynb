{
 "cells": [
  {
   "cell_type": "markdown",
   "id": "fantastic-forest",
   "metadata": {},
   "source": [
    "# Vector/Matrix Definition and Usage "
   ]
  },
  {
   "cell_type": "markdown",
   "id": "perfect-lawrence",
   "metadata": {},
   "source": [
    "## Vector Representation"
   ]
  },
  {
   "cell_type": "code",
   "execution_count": null,
   "id": "cosmetic-horror",
   "metadata": {},
   "outputs": [],
   "source": [
    "class Vector: \n",
    "    def __init__(self, x = 0.0, y = 0.0): \n",
    "        self.x = x\n",
    "        self.y = y \n",
    "    \n",
    "    def __str__(self): \n",
    "        return \"[{}, {}]\".format(str(self.x), str(self.y))"
   ]
  },
  {
   "cell_type": "code",
   "execution_count": null,
   "id": "physical-yeast",
   "metadata": {},
   "outputs": [],
   "source": [
    "a = Vector(2, 4)"
   ]
  },
  {
   "cell_type": "code",
   "execution_count": null,
   "id": "dress-maria",
   "metadata": {},
   "outputs": [],
   "source": [
    "print(a)"
   ]
  },
  {
   "cell_type": "code",
   "execution_count": null,
   "id": "brave-chemical",
   "metadata": {},
   "outputs": [],
   "source": [
    "b = Vector(5, 2)\n",
    "print(b)"
   ]
  },
  {
   "cell_type": "code",
   "execution_count": null,
   "id": "duplicate-portuguese",
   "metadata": {},
   "outputs": [],
   "source": [
    "def add(self, b): \n",
    "    c = Vector() \n",
    "    c.x = self.x + b.x \n",
    "    c.y = self.y + b.y \n",
    "    return c\n",
    "\n",
    "\n",
    "\n",
    "Vector.add = add "
   ]
  },
  {
   "cell_type": "code",
   "execution_count": null,
   "id": "honey-passing",
   "metadata": {},
   "outputs": [],
   "source": [
    "c = a.add(b)\n",
    "print(c)"
   ]
  },
  {
   "cell_type": "code",
   "execution_count": null,
   "id": "asian-husband",
   "metadata": {},
   "outputs": [],
   "source": [
    "def mul(self, s): \n",
    "    return Vector(s * self.x, s * self.y)\n",
    "\n",
    "Vector.mul = mul "
   ]
  },
  {
   "cell_type": "code",
   "execution_count": null,
   "id": "assisted-thirty",
   "metadata": {},
   "outputs": [],
   "source": [
    "d = a.mul(2)\n",
    "print(d)"
   ]
  },
  {
   "cell_type": "code",
   "execution_count": null,
   "id": "polyphonic-penny",
   "metadata": {},
   "outputs": [],
   "source": [
    "def sub(self, b): \n",
    "    # We use the definition of vector subtraction \n",
    "    #   instead of defining something new \n",
    "    \n",
    "    return self.add(  b.mul(-1)  )\n",
    "\n",
    "\n",
    "Vector.sub = sub"
   ]
  },
  {
   "cell_type": "code",
   "execution_count": null,
   "id": "oriental-residence",
   "metadata": {},
   "outputs": [],
   "source": [
    "d_min_b = d.sub(b)\n",
    "print(d_min_b)"
   ]
  },
  {
   "cell_type": "code",
   "execution_count": null,
   "id": "operating-conditions",
   "metadata": {},
   "outputs": [],
   "source": [
    "# TODO: define dot products and cross products "
   ]
  },
  {
   "cell_type": "markdown",
   "id": "pending-moses",
   "metadata": {},
   "source": [
    "## Matrix Representation (Dense)"
   ]
  },
  {
   "cell_type": "code",
   "execution_count": 5,
   "id": "chicken-catch",
   "metadata": {},
   "outputs": [],
   "source": [
    "class Matrix: \n",
    " \n",
    "    def __init__(self, dims, fill):    \n",
    "        self.rows = dims[0]  \n",
    "        self.cols = dims[1]   \n",
    "        \n",
    "        self.A = [\n",
    "            [fill] * self.cols             # for each row, this many columns \n",
    "            for i in range(self.rows)      # create this many rows \n",
    "        ]"
   ]
  },
  {
   "cell_type": "code",
   "execution_count": 6,
   "id": "governing-mason",
   "metadata": {},
   "outputs": [],
   "source": [
    "m = Matrix((3, 4), 2.0)"
   ]
  },
  {
   "cell_type": "code",
   "execution_count": 7,
   "id": "million-palestinian",
   "metadata": {},
   "outputs": [
    {
     "name": "stdout",
     "output_type": "stream",
     "text": [
      "<__main__.Matrix object at 0x10332cf40>\n"
     ]
    }
   ],
   "source": [
    "print(m)"
   ]
  },
  {
   "cell_type": "code",
   "execution_count": 8,
   "id": "presidential-outreach",
   "metadata": {},
   "outputs": [],
   "source": [
    "def __str__(self):     \n",
    "    rows = len(self.A) # Get the first dimension \n",
    "    ret = ''     \n",
    "    \n",
    "    for i in range(rows):\n",
    "        cols = len(self.A[i]) \n",
    "        \n",
    "        for j in range(cols): \n",
    "            ret += str(self.A[i][j]) + \"\\t\"\n",
    "        ret += \"\\n\"\n",
    "\n",
    "    return ret\n",
    "\n",
    "\n",
    "Matrix.__str__ = __str__ "
   ]
  },
  {
   "cell_type": "code",
   "execution_count": 9,
   "id": "spiritual-serum",
   "metadata": {},
   "outputs": [
    {
     "name": "stdout",
     "output_type": "stream",
     "text": [
      "2.0\t2.0\t2.0\t2.0\t\n",
      "2.0\t2.0\t2.0\t2.0\t\n",
      "2.0\t2.0\t2.0\t2.0\t\n",
      "\n"
     ]
    }
   ],
   "source": [
    "print(m)"
   ]
  },
  {
   "cell_type": "code",
   "execution_count": null,
   "id": "interior-hormone",
   "metadata": {},
   "outputs": [],
   "source": [
    "# This implementation of __str__ is not a good idea. Can you think of a reason why? "
   ]
  },
  {
   "cell_type": "code",
   "execution_count": 10,
   "id": "advised-short",
   "metadata": {},
   "outputs": [
    {
     "name": "stdout",
     "output_type": "stream",
     "text": [
      "CPU times: user 83 µs, sys: 31 µs, total: 114 µs\n",
      "Wall time: 119 µs\n"
     ]
    }
   ],
   "source": [
    "%time n = Matrix((100, 100), 0.0)"
   ]
  },
  {
   "cell_type": "markdown",
   "id": "proved-culture",
   "metadata": {},
   "source": [
    "### Memory Usage "
   ]
  },
  {
   "cell_type": "code",
   "execution_count": 11,
   "id": "gentle-custom",
   "metadata": {},
   "outputs": [
    {
     "name": "stdout",
     "output_type": "stream",
     "text": [
      "48\n",
      "48\n"
     ]
    }
   ],
   "source": [
    "from sys import getsizeof\n",
    "print(getsizeof(m))\n",
    "print(getsizeof(n))"
   ]
  },
  {
   "cell_type": "code",
   "execution_count": null,
   "id": "usual-capture",
   "metadata": {
    "scrolled": true
   },
   "outputs": [],
   "source": [
    "!pip install pympler  # to get actual size"
   ]
  },
  {
   "cell_type": "code",
   "execution_count": 12,
   "id": "silver-niger",
   "metadata": {},
   "outputs": [],
   "source": [
    "from pympler.asizeof import asizeof"
   ]
  },
  {
   "cell_type": "code",
   "execution_count": 13,
   "id": "loved-theta",
   "metadata": {},
   "outputs": [
    {
     "data": {
      "text/plain": [
       "(760, 86880)"
      ]
     },
     "execution_count": 13,
     "metadata": {},
     "output_type": "execute_result"
    }
   ],
   "source": [
    "asizeof(m), asizeof(n)"
   ]
  },
  {
   "cell_type": "markdown",
   "id": "cathedral-tender",
   "metadata": {},
   "source": [
    "Let's increase the size a little and see how it goes. "
   ]
  },
  {
   "cell_type": "code",
   "execution_count": 14,
   "id": "pressing-threat",
   "metadata": {},
   "outputs": [],
   "source": [
    "dim = 5000"
   ]
  },
  {
   "cell_type": "code",
   "execution_count": 15,
   "id": "corrected-rotation",
   "metadata": {},
   "outputs": [
    {
     "name": "stdout",
     "output_type": "stream",
     "text": [
      "CPU times: user 133 ms, sys: 33.1 ms, total: 166 ms\n",
      "Wall time: 167 ms\n"
     ]
    }
   ],
   "source": [
    "%time  m = Matrix((dim, dim), 0.0)"
   ]
  },
  {
   "cell_type": "code",
   "execution_count": 16,
   "id": "particular-jesus",
   "metadata": {},
   "outputs": [
    {
     "name": "stdout",
     "output_type": "stream",
     "text": [
      "191.04 MBs\n"
     ]
    }
   ],
   "source": [
    "size = asizeof(m) / (1024 * 1024)\n",
    "\n",
    "print(\"{:.2f} MBs\".format(size))"
   ]
  },
  {
   "cell_type": "markdown",
   "id": "neural-earth",
   "metadata": {},
   "source": [
    "This is taking up so much memory because it's storing all the 0s **explicitly**! This is called a *dense* representation of matrices. Another way to do this is to not store 0s at all! That makes a matric *sparse*. "
   ]
  },
  {
   "cell_type": "code",
   "execution_count": 17,
   "id": "stuffed-longitude",
   "metadata": {},
   "outputs": [],
   "source": [
    "# recall that we can get values from our matrix using indices \n",
    "def get(self, i, j): \n",
    "    \n",
    "    # Error checking \n",
    "    if i < 0 or i > self.rows: \n",
    "        raise ValueError(\"Row index out of range.\")\n",
    "    if j < 0 or j > self.cols: \n",
    "        raise ValueError(\"Column index out of range.\")\n",
    "    \n",
    "    # Value return\n",
    "    return self.A[i][j]\n",
    "\n",
    "Matrix.get = get"
   ]
  },
  {
   "cell_type": "code",
   "execution_count": null,
   "id": "variable-reaction",
   "metadata": {},
   "outputs": [],
   "source": [
    "m.get(1, 2)"
   ]
  },
  {
   "cell_type": "code",
   "execution_count": null,
   "id": "decreased-macro",
   "metadata": {},
   "outputs": [],
   "source": [
    "m.get(15, 0)"
   ]
  },
  {
   "cell_type": "code",
   "execution_count": null,
   "id": "satellite-miller",
   "metadata": {},
   "outputs": [],
   "source": [
    "m.get(1, 10)"
   ]
  },
  {
   "cell_type": "markdown",
   "id": "framed-constraint",
   "metadata": {},
   "source": [
    "### Matrix Representation (Sparse)"
   ]
  },
  {
   "cell_type": "code",
   "execution_count": 20,
   "id": "external-blend",
   "metadata": {},
   "outputs": [],
   "source": [
    "class Matrix: \n",
    " \n",
    "    def __init__(self, dims):    \n",
    "        self.rows = dims[0]  \n",
    "        self.cols = dims[1]   \n",
    "        self.vals = {} \n",
    "        \n",
    "        # Let's assume for a minute that fill is 0 \n",
    "        \n",
    "    # obviously need a new __str__ here .... "
   ]
  },
  {
   "cell_type": "code",
   "execution_count": 24,
   "id": "hydraulic-olive",
   "metadata": {},
   "outputs": [],
   "source": [
    "def set(self, i, j, val): \n",
    "    self.vals[   (i, j)    ] = val \n",
    "\n",
    "\n",
    "Matrix.set = set "
   ]
  },
  {
   "cell_type": "code",
   "execution_count": 27,
   "id": "dressed-lebanon",
   "metadata": {},
   "outputs": [],
   "source": [
    "# sparse implementation of get \n",
    "def get(self, i, j): \n",
    "    \n",
    "    # Error checking \n",
    "    if i < 0 or i > self.rows: \n",
    "        raise ValueError(\"Row index out of range.\")\n",
    "    if j < 0 or j > self.cols: \n",
    "        raise ValueError(\"Column index out of range.\")\n",
    "    \n",
    "    \n",
    "    # value return \n",
    "    if (i, j) in self.vals: \n",
    "        return self.vals[  (i, j)  ]\n",
    "    \n",
    "    return 0.0\n",
    "    \n",
    "Matrix.get = get"
   ]
  },
  {
   "cell_type": "code",
   "execution_count": 28,
   "id": "gothic-reset",
   "metadata": {},
   "outputs": [],
   "source": [
    "m = Matrix((5, 5))"
   ]
  },
  {
   "cell_type": "code",
   "execution_count": 29,
   "id": "injured-carol",
   "metadata": {},
   "outputs": [
    {
     "name": "stdout",
     "output_type": "stream",
     "text": [
      "{}\n"
     ]
    }
   ],
   "source": [
    "print(m.vals)"
   ]
  },
  {
   "cell_type": "code",
   "execution_count": 30,
   "id": "genetic-algorithm",
   "metadata": {},
   "outputs": [
    {
     "data": {
      "text/plain": [
       "0.0"
      ]
     },
     "execution_count": 30,
     "metadata": {},
     "output_type": "execute_result"
    }
   ],
   "source": [
    "m.get(1, 1)"
   ]
  },
  {
   "cell_type": "code",
   "execution_count": 31,
   "id": "arbitrary-bosnia",
   "metadata": {},
   "outputs": [
    {
     "ename": "ValueError",
     "evalue": "Row index out of range.",
     "output_type": "error",
     "traceback": [
      "\u001b[0;31m---------------------------------------------------------------------------\u001b[0m",
      "\u001b[0;31mValueError\u001b[0m                                Traceback (most recent call last)",
      "\u001b[0;32m<ipython-input-31-eed0eedf0876>\u001b[0m in \u001b[0;36m<module>\u001b[0;34m\u001b[0m\n\u001b[0;32m----> 1\u001b[0;31m \u001b[0mm\u001b[0m\u001b[0;34m.\u001b[0m\u001b[0mget\u001b[0m\u001b[0;34m(\u001b[0m\u001b[0;36m10\u001b[0m\u001b[0;34m,\u001b[0m \u001b[0;36m2\u001b[0m\u001b[0;34m)\u001b[0m\u001b[0;34m\u001b[0m\u001b[0;34m\u001b[0m\u001b[0m\n\u001b[0m",
      "\u001b[0;32m<ipython-input-27-89faeb05289c>\u001b[0m in \u001b[0;36mget\u001b[0;34m(self, i, j)\u001b[0m\n\u001b[1;32m      4\u001b[0m     \u001b[0;31m# Error checking\u001b[0m\u001b[0;34m\u001b[0m\u001b[0;34m\u001b[0m\u001b[0;34m\u001b[0m\u001b[0m\n\u001b[1;32m      5\u001b[0m     \u001b[0;32mif\u001b[0m \u001b[0mi\u001b[0m \u001b[0;34m<\u001b[0m \u001b[0;36m0\u001b[0m \u001b[0;32mor\u001b[0m \u001b[0mi\u001b[0m \u001b[0;34m>\u001b[0m \u001b[0mself\u001b[0m\u001b[0;34m.\u001b[0m\u001b[0mrows\u001b[0m\u001b[0;34m:\u001b[0m\u001b[0;34m\u001b[0m\u001b[0;34m\u001b[0m\u001b[0m\n\u001b[0;32m----> 6\u001b[0;31m         \u001b[0;32mraise\u001b[0m \u001b[0mValueError\u001b[0m\u001b[0;34m(\u001b[0m\u001b[0;34m\"Row index out of range.\"\u001b[0m\u001b[0;34m)\u001b[0m\u001b[0;34m\u001b[0m\u001b[0;34m\u001b[0m\u001b[0m\n\u001b[0m\u001b[1;32m      7\u001b[0m     \u001b[0;32mif\u001b[0m \u001b[0mj\u001b[0m \u001b[0;34m<\u001b[0m \u001b[0;36m0\u001b[0m \u001b[0;32mor\u001b[0m \u001b[0mj\u001b[0m \u001b[0;34m>\u001b[0m \u001b[0mself\u001b[0m\u001b[0;34m.\u001b[0m\u001b[0mcols\u001b[0m\u001b[0;34m:\u001b[0m\u001b[0;34m\u001b[0m\u001b[0;34m\u001b[0m\u001b[0m\n\u001b[1;32m      8\u001b[0m         \u001b[0;32mraise\u001b[0m \u001b[0mValueError\u001b[0m\u001b[0;34m(\u001b[0m\u001b[0;34m\"Column index out of range.\"\u001b[0m\u001b[0;34m)\u001b[0m\u001b[0;34m\u001b[0m\u001b[0;34m\u001b[0m\u001b[0m\n",
      "\u001b[0;31mValueError\u001b[0m: Row index out of range."
     ]
    }
   ],
   "source": [
    "m.get(10, 2)"
   ]
  },
  {
   "cell_type": "code",
   "execution_count": 32,
   "id": "clinical-audio",
   "metadata": {},
   "outputs": [],
   "source": [
    "m.set(1, 2, 15.0)"
   ]
  },
  {
   "cell_type": "code",
   "execution_count": 33,
   "id": "powerful-division",
   "metadata": {},
   "outputs": [
    {
     "data": {
      "text/plain": [
       "15.0"
      ]
     },
     "execution_count": 33,
     "metadata": {},
     "output_type": "execute_result"
    }
   ],
   "source": [
    "m.get(1, 2)"
   ]
  },
  {
   "cell_type": "code",
   "execution_count": 26,
   "id": "daily-forge",
   "metadata": {},
   "outputs": [
    {
     "data": {
      "text/plain": [
       "{(1, 2): 15.0}"
      ]
     },
     "execution_count": 26,
     "metadata": {},
     "output_type": "execute_result"
    }
   ],
   "source": [
    "m.vals"
   ]
  },
  {
   "cell_type": "code",
   "execution_count": 34,
   "id": "future-board",
   "metadata": {},
   "outputs": [],
   "source": [
    "m.set(1, 4, 29.9)"
   ]
  },
  {
   "cell_type": "code",
   "execution_count": 35,
   "id": "virtual-publisher",
   "metadata": {},
   "outputs": [
    {
     "data": {
      "text/plain": [
       "29.9"
      ]
     },
     "execution_count": 35,
     "metadata": {},
     "output_type": "execute_result"
    }
   ],
   "source": [
    "m.get(1, 4)"
   ]
  },
  {
   "cell_type": "code",
   "execution_count": 36,
   "id": "personal-local",
   "metadata": {},
   "outputs": [],
   "source": [
    "dim = 500 # 5_000_0000_000\n",
    "m = Matrix((dim, dim))"
   ]
  },
  {
   "cell_type": "code",
   "execution_count": 37,
   "id": "decent-carter",
   "metadata": {},
   "outputs": [
    {
     "data": {
      "text/plain": [
       "416"
      ]
     },
     "execution_count": 37,
     "metadata": {},
     "output_type": "execute_result"
    }
   ],
   "source": [
    "asizeof(m)"
   ]
  },
  {
   "cell_type": "code",
   "execution_count": null,
   "id": "norwegian-auckland",
   "metadata": {},
   "outputs": [],
   "source": [
    "# TODO: create addition, subtraction and matrix multiplication methods "
   ]
  },
  {
   "cell_type": "code",
   "execution_count": null,
   "id": "genetic-significance",
   "metadata": {},
   "outputs": [],
   "source": []
  },
  {
   "cell_type": "code",
   "execution_count": null,
   "id": "contained-restaurant",
   "metadata": {},
   "outputs": [],
   "source": []
  }
 ],
 "metadata": {
  "kernelspec": {
   "display_name": "Python 3",
   "language": "python",
   "name": "python3"
  },
  "language_info": {
   "codemirror_mode": {
    "name": "ipython",
    "version": 3
   },
   "file_extension": ".py",
   "mimetype": "text/x-python",
   "name": "python",
   "nbconvert_exporter": "python",
   "pygments_lexer": "ipython3",
   "version": "3.8.6"
  },
  "toc-autonumbering": true,
  "toc-showcode": false,
  "toc-showmarkdowntxt": false,
  "toc-showtags": false
 },
 "nbformat": 4,
 "nbformat_minor": 5
}
