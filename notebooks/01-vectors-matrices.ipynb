{
 "cells": [
  {
   "cell_type": "markdown",
   "id": "abstract-weapon",
   "metadata": {},
   "source": [
    "# Vector/Matrix Definition and Usage "
   ]
  },
  {
   "cell_type": "markdown",
   "id": "comparative-nudist",
   "metadata": {},
   "source": [
    "## Vector Representation"
   ]
  },
  {
   "cell_type": "code",
   "execution_count": null,
   "id": "beginning-suspension",
   "metadata": {},
   "outputs": [],
   "source": [
    "class Vector: \n",
    "    def __init__(self, x = 0.0, y = 0.0): \n",
    "        self.x = x\n",
    "        self.y = y \n",
    "    \n",
    "    def __str__(self): \n",
    "        return \"[{}, {}]\".format(str(self.x), str(self.y))"
   ]
  },
  {
   "cell_type": "code",
   "execution_count": null,
   "id": "quick-identifier",
   "metadata": {},
   "outputs": [],
   "source": [
    "a = Vector(2, 4)"
   ]
  },
  {
   "cell_type": "code",
   "execution_count": null,
   "id": "local-corpus",
   "metadata": {},
   "outputs": [],
   "source": [
    "print(a)"
   ]
  },
  {
   "cell_type": "code",
   "execution_count": null,
   "id": "upper-slope",
   "metadata": {},
   "outputs": [],
   "source": [
    "b = Vector(5, 2)\n",
    "print(b)"
   ]
  },
  {
   "cell_type": "code",
   "execution_count": null,
   "id": "developed-speech",
   "metadata": {},
   "outputs": [],
   "source": [
    "def add(self, b): \n",
    "    c = Vector() \n",
    "    c.x = self.x + b.x \n",
    "    c.y = self.y + b.y \n",
    "    return c\n",
    "\n",
    "\n",
    "\n",
    "Vector.add = add "
   ]
  },
  {
   "cell_type": "code",
   "execution_count": null,
   "id": "sought-trinidad",
   "metadata": {},
   "outputs": [],
   "source": [
    "c = a.add(b)\n",
    "print(c)"
   ]
  },
  {
   "cell_type": "code",
   "execution_count": null,
   "id": "typical-nothing",
   "metadata": {},
   "outputs": [],
   "source": [
    "def mul(self, s): \n",
    "    return Vector(s * self.x, s * self.y)\n",
    "\n",
    "Vector.mul = mul "
   ]
  },
  {
   "cell_type": "code",
   "execution_count": null,
   "id": "lesser-macintosh",
   "metadata": {},
   "outputs": [],
   "source": [
    "d = a.mul(2)\n",
    "print(d)"
   ]
  },
  {
   "cell_type": "code",
   "execution_count": null,
   "id": "pressed-thread",
   "metadata": {},
   "outputs": [],
   "source": [
    "def sub(self, b): \n",
    "    # We use the definition of vector subtraction \n",
    "    #   instead of defining something new \n",
    "    \n",
    "    return self.add(  b.mul(-1)  )\n",
    "\n",
    "\n",
    "Vector.sub = sub"
   ]
  },
  {
   "cell_type": "code",
   "execution_count": null,
   "id": "integrated-burner",
   "metadata": {},
   "outputs": [],
   "source": [
    "d_min_b = d.sub(b)\n",
    "print(d_min_b)"
   ]
  },
  {
   "cell_type": "code",
   "execution_count": null,
   "id": "bridal-florist",
   "metadata": {},
   "outputs": [],
   "source": [
    "# TODO: define dot products and cross products "
   ]
  },
  {
   "cell_type": "markdown",
   "id": "executive-republican",
   "metadata": {},
   "source": [
    "## Matrix Representation (Dense)"
   ]
  },
  {
   "cell_type": "code",
   "execution_count": null,
   "id": "prospective-england",
   "metadata": {},
   "outputs": [],
   "source": [
    "class Matrix: \n",
    " \n",
    "    def __init__(self, dims, fill):    \n",
    "        self.rows = dims[0]  \n",
    "        self.cols = dims[1]   \n",
    "        self.A = [\n",
    "            [fill] * self.cols             # for each row, this many columns \n",
    "            for i in range(self.rows)      # create this many rows \n",
    "        ]"
   ]
  },
  {
   "cell_type": "code",
   "execution_count": null,
   "id": "optimum-settlement",
   "metadata": {},
   "outputs": [],
   "source": [
    "m = Matrix((3, 4), 2.0)"
   ]
  },
  {
   "cell_type": "code",
   "execution_count": null,
   "id": "coordinated-configuration",
   "metadata": {},
   "outputs": [],
   "source": [
    "print(m)"
   ]
  },
  {
   "cell_type": "code",
   "execution_count": null,
   "id": "executed-arrival",
   "metadata": {},
   "outputs": [],
   "source": [
    "def __str__(self):     \n",
    "    rows = len(self.A) # Get the first dimension \n",
    "    ret = ''     \n",
    "    \n",
    "    for i in range(rows):\n",
    "        cols = len(self.A[i]) \n",
    "        \n",
    "        for j in range(cols): \n",
    "            ret += str(self.A[i][j]) + \"\\t\"\n",
    "        ret += \"\\n\"\n",
    "\n",
    "    return ret\n",
    "\n",
    "\n",
    "Matrix.__str__ = __str__ "
   ]
  },
  {
   "cell_type": "code",
   "execution_count": null,
   "id": "nervous-murder",
   "metadata": {},
   "outputs": [],
   "source": [
    "print(m)"
   ]
  },
  {
   "cell_type": "code",
   "execution_count": null,
   "id": "exempt-extra",
   "metadata": {},
   "outputs": [],
   "source": [
    "# This implementation of __str__ is not a good idea. Can you think of a reason why? "
   ]
  },
  {
   "cell_type": "code",
   "execution_count": null,
   "id": "appreciated-brunswick",
   "metadata": {},
   "outputs": [],
   "source": [
    "%time n = Matrix((100, 100), 0.0)"
   ]
  },
  {
   "cell_type": "markdown",
   "id": "neural-forum",
   "metadata": {},
   "source": [
    "### Memory Usage "
   ]
  },
  {
   "cell_type": "code",
   "execution_count": null,
   "id": "preceding-processing",
   "metadata": {},
   "outputs": [],
   "source": [
    "from sys import getsizeof\n",
    "print(getsizeof(m))\n",
    "print(getsizeof(n))"
   ]
  },
  {
   "cell_type": "code",
   "execution_count": null,
   "id": "balanced-quarter",
   "metadata": {
    "scrolled": true
   },
   "outputs": [],
   "source": [
    "!pip install pympler  # to get actual size"
   ]
  },
  {
   "cell_type": "code",
   "execution_count": null,
   "id": "successful-ambassador",
   "metadata": {},
   "outputs": [],
   "source": [
    "from pympler.asizeof import asizeof"
   ]
  },
  {
   "cell_type": "code",
   "execution_count": null,
   "id": "artistic-directive",
   "metadata": {},
   "outputs": [],
   "source": [
    "asizeof(m), asizeof(n)"
   ]
  },
  {
   "cell_type": "markdown",
   "id": "outdoor-production",
   "metadata": {},
   "source": [
    "Let's increase the size a little and see how it goes. "
   ]
  },
  {
   "cell_type": "code",
   "execution_count": null,
   "id": "occupied-entertainment",
   "metadata": {},
   "outputs": [],
   "source": [
    "dim = 5000"
   ]
  },
  {
   "cell_type": "code",
   "execution_count": null,
   "id": "secondary-exhaust",
   "metadata": {},
   "outputs": [],
   "source": [
    "%time  m = Matrix((dim, dim), 0.0)"
   ]
  },
  {
   "cell_type": "code",
   "execution_count": null,
   "id": "separated-prayer",
   "metadata": {},
   "outputs": [],
   "source": [
    "size = asizeof(m) / (1024 * 1024)\n",
    "\n",
    "print(\"{:.2f} MBs\".format(size))"
   ]
  },
  {
   "cell_type": "markdown",
   "id": "robust-police",
   "metadata": {},
   "source": [
    "This is taking up so much memory because it's storing all the 0s **explicitly**! This is called a *dense* representation of matrices. Another way to do this is to not store 0s at all! That makes a matric *sparse*. "
   ]
  },
  {
   "cell_type": "code",
   "execution_count": null,
   "id": "naval-journalism",
   "metadata": {},
   "outputs": [],
   "source": [
    "# recall that we can get values from our matrix using indices \n",
    "def get(self, i, j): \n",
    "    \n",
    "    # Error checking \n",
    "    if i < 0 or i > self.rows: \n",
    "        raise ValueError(\"Row index out of range.\")\n",
    "    if j < 0 or j > self.cols: \n",
    "        raise ValueError(\"Column index out of range.\")\n",
    "    \n",
    "    # Value return\n",
    "    return self.A[i][j]\n",
    "\n",
    "Matrix.get = get"
   ]
  },
  {
   "cell_type": "code",
   "execution_count": null,
   "id": "tested-improvement",
   "metadata": {},
   "outputs": [],
   "source": [
    "m.get(1, 2)"
   ]
  },
  {
   "cell_type": "code",
   "execution_count": null,
   "id": "distant-dragon",
   "metadata": {},
   "outputs": [],
   "source": [
    "m.get(15, 0)"
   ]
  },
  {
   "cell_type": "code",
   "execution_count": null,
   "id": "surprising-overhead",
   "metadata": {},
   "outputs": [],
   "source": [
    "m.get(1, 10)"
   ]
  },
  {
   "cell_type": "markdown",
   "id": "metropolitan-spread",
   "metadata": {},
   "source": [
    "### Matrix Representation (Sparse)"
   ]
  },
  {
   "cell_type": "code",
   "execution_count": null,
   "id": "based-region",
   "metadata": {},
   "outputs": [],
   "source": [
    "class Matrix: \n",
    " \n",
    "    def __init__(self, dims):    \n",
    "        self.rows = dims[0]  \n",
    "        self.cols = dims[1]   \n",
    "        self.vals = {} \n",
    "        \n",
    "        # Let's assume for a minute that fill is 0 \n",
    "        \n",
    "    # obviously need a new __str__ here .... "
   ]
  },
  {
   "cell_type": "code",
   "execution_count": null,
   "id": "subtle-holder",
   "metadata": {},
   "outputs": [],
   "source": [
    "def set(self, i, j, val): \n",
    "    self.vals[(i, j)] = val \n",
    "\n",
    "\n",
    "Matrix.set = set "
   ]
  },
  {
   "cell_type": "code",
   "execution_count": null,
   "id": "unauthorized-prayer",
   "metadata": {},
   "outputs": [],
   "source": [
    "# sparse implementation of get \n",
    "def get(self, i, j): \n",
    "    \n",
    "    # Error checking \n",
    "    if i < 0 or i > self.rows: \n",
    "        raise ValueError(\"Row index out of range.\")\n",
    "    if j < 0 or j > self.cols: \n",
    "        raise ValueError(\"Column index out of range.\")\n",
    "    \n",
    "    \n",
    "    # value return \n",
    "    if (i, j) not in self.vals: \n",
    "        return 0 \n",
    "    \n",
    "    return self.vals[(i, j)]\n",
    "    \n",
    "Matrix.get = get"
   ]
  },
  {
   "cell_type": "code",
   "execution_count": null,
   "id": "confident-interest",
   "metadata": {},
   "outputs": [],
   "source": [
    "m = Matrix((5, 5))"
   ]
  },
  {
   "cell_type": "code",
   "execution_count": null,
   "id": "smart-generation",
   "metadata": {},
   "outputs": [],
   "source": [
    "print(m.vals)"
   ]
  },
  {
   "cell_type": "code",
   "execution_count": null,
   "id": "italian-visiting",
   "metadata": {},
   "outputs": [],
   "source": [
    "m.get(1, 1)"
   ]
  },
  {
   "cell_type": "code",
   "execution_count": null,
   "id": "hybrid-enterprise",
   "metadata": {},
   "outputs": [],
   "source": [
    "m.get(10, 2)"
   ]
  },
  {
   "cell_type": "code",
   "execution_count": null,
   "id": "driving-london",
   "metadata": {},
   "outputs": [],
   "source": [
    "m.set(1, 2, 15.0)"
   ]
  },
  {
   "cell_type": "code",
   "execution_count": null,
   "id": "impressed-questionnaire",
   "metadata": {},
   "outputs": [],
   "source": [
    "m.get(1, 2)"
   ]
  },
  {
   "cell_type": "code",
   "execution_count": null,
   "id": "biblical-basket",
   "metadata": {},
   "outputs": [],
   "source": []
  },
  {
   "cell_type": "code",
   "execution_count": null,
   "id": "third-substitute",
   "metadata": {},
   "outputs": [],
   "source": [
    "m.set(1, 4, 29.9)"
   ]
  },
  {
   "cell_type": "code",
   "execution_count": null,
   "id": "completed-neighbor",
   "metadata": {},
   "outputs": [],
   "source": [
    "m.get(1, 4)"
   ]
  },
  {
   "cell_type": "code",
   "execution_count": null,
   "id": "employed-finish",
   "metadata": {},
   "outputs": [],
   "source": [
    "dim = 5_000_0000_000\n",
    "m = Matrix((dim, dim))"
   ]
  },
  {
   "cell_type": "code",
   "execution_count": null,
   "id": "pretty-young",
   "metadata": {},
   "outputs": [],
   "source": [
    "asizeof(m)"
   ]
  },
  {
   "cell_type": "code",
   "execution_count": null,
   "id": "continuing-production",
   "metadata": {},
   "outputs": [],
   "source": [
    "# TODO: create addition, subtraction and matrix multiplication methods "
   ]
  },
  {
   "cell_type": "code",
   "execution_count": null,
   "id": "trained-comparative",
   "metadata": {},
   "outputs": [],
   "source": []
  },
  {
   "cell_type": "code",
   "execution_count": null,
   "id": "pediatric-independence",
   "metadata": {},
   "outputs": [],
   "source": []
  }
 ],
 "metadata": {
  "kernelspec": {
   "display_name": "Python 3",
   "language": "python",
   "name": "python3"
  },
  "language_info": {
   "codemirror_mode": {
    "name": "ipython",
    "version": 3
   },
   "file_extension": ".py",
   "mimetype": "text/x-python",
   "name": "python",
   "nbconvert_exporter": "python",
   "pygments_lexer": "ipython3",
   "version": "3.8.6"
  },
  "toc-autonumbering": true,
  "toc-showcode": false,
  "toc-showmarkdowntxt": false,
  "toc-showtags": false
 },
 "nbformat": 4,
 "nbformat_minor": 5
}
