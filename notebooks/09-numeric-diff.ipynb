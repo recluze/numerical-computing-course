{
 "cells": [
  {
   "cell_type": "markdown",
   "id": "japanese-recall",
   "metadata": {},
   "source": [
    "# Numeric Differentiation"
   ]
  },
  {
   "cell_type": "markdown",
   "id": "voluntary-practitioner",
   "metadata": {},
   "source": [
    "Given the following data: \n",
    "    \n",
    "| x   | y     |\n",
    "| --- | ----- |\n",
    "| 1   | 24    |\n",
    "| 3   | 120   |\n",
    "| 5   | 336   |\n",
    "| 7   | 720   |\n",
    "\n",
    "Calculate the slope at $x=8$."
   ]
  },
  {
   "cell_type": "code",
   "execution_count": 82,
   "id": "judicial-gasoline",
   "metadata": {},
   "outputs": [
    {
     "name": "stdout",
     "output_type": "stream",
     "text": [
      "2 8 3.5\n"
     ]
    }
   ],
   "source": [
    "h = 2\n",
    "x = 8 \n",
    "x0 = 1\n",
    "y0 = 24\n",
    "\n",
    "dy0  = 96 \n",
    "d2y0 = 120 \n",
    "d3y0 = 48 \n",
    "\n",
    "p = (x-x0)/h\n",
    "print(h, x, p)"
   ]
  },
  {
   "cell_type": "code",
   "execution_count": 83,
   "id": "practical-scholarship",
   "metadata": {},
   "outputs": [],
   "source": [
    "def fact(n): \n",
    "    val = 1 \n",
    "    for i in range(1, n+1): \n",
    "        val *= i \n",
    "    return val "
   ]
  },
  {
   "cell_type": "code",
   "execution_count": 84,
   "id": "competent-tsunami",
   "metadata": {},
   "outputs": [],
   "source": [
    "def interp_poly(x, x0, h, dy0, d2y0, d3y0): \n",
    "    # Compute p first \n",
    "    p = (x-x0)/h\n",
    "    \n",
    "    return                              y0 +  \\\n",
    "           p                        *  dy0 +  \\\n",
    "           p*(p-1)/fact(2)          * d2y0 +  \\\n",
    "           p*(p-1)*(p-2)/fact(3)    * d3y0"
   ]
  },
  {
   "cell_type": "code",
   "execution_count": 85,
   "id": "familiar-interface",
   "metadata": {},
   "outputs": [
    {
     "data": {
      "text/plain": [
       "990.0"
      ]
     },
     "execution_count": 85,
     "metadata": {},
     "output_type": "execute_result"
    }
   ],
   "source": [
    "x = 8\n",
    "interp_poly(x, x0, h, dy0, d2y0, d3y0)"
   ]
  },
  {
   "cell_type": "code",
   "execution_count": 98,
   "id": "industrial-trace",
   "metadata": {},
   "outputs": [
    {
     "name": "stdout",
     "output_type": "stream",
     "text": [
      "847.875\n"
     ]
    }
   ],
   "source": [
    "x_m = 7.5\n",
    "y_m = interp_poly(x_m, x0, h, dy0, d2y0, d3y0)\n",
    "print(y_m)"
   ]
  },
  {
   "cell_type": "code",
   "execution_count": 99,
   "id": "assigned-startup",
   "metadata": {},
   "outputs": [
    {
     "name": "stdout",
     "output_type": "stream",
     "text": [
      "1147.125\n"
     ]
    }
   ],
   "source": [
    "x_p = 8.5\n",
    "y_p = interp_poly(x_p, x0, h, dy0, d2y0, d3y0)\n",
    "print(y_p)"
   ]
  },
  {
   "cell_type": "code",
   "execution_count": 100,
   "id": "elder-calvin",
   "metadata": {},
   "outputs": [
    {
     "data": {
      "text/plain": [
       "299.25"
      ]
     },
     "execution_count": 100,
     "metadata": {},
     "output_type": "execute_result"
    }
   ],
   "source": [
    "(y_p - y_m) / (x_p - x_m)"
   ]
  },
  {
   "cell_type": "markdown",
   "id": "duplicate-spectacular",
   "metadata": {},
   "source": [
    "# Differential"
   ]
  },
  {
   "cell_type": "markdown",
   "id": "compressed-happening",
   "metadata": {},
   "source": [
    "Let's do this directly! "
   ]
  },
  {
   "cell_type": "code",
   "execution_count": 89,
   "id": "hydraulic-memory",
   "metadata": {},
   "outputs": [],
   "source": [
    "def numeric_diff(x, x0, h, dy0, d2y0, d3y0): \n",
    "    # Compute p first \n",
    "    p = (x-x0)/h\n",
    "    print(\"p = \", p)\n",
    "    \n",
    "    return (                                     dy0 +  \\\n",
    "             ((2*p)-1)            /fact(2)    * d2y0 +  \\\n",
    "             (3 * p**2 - 6*p + 2) /fact(3)    * d3y0    \\\n",
    "           ) / h "
   ]
  },
  {
   "cell_type": "code",
   "execution_count": 90,
   "id": "pointed-harassment",
   "metadata": {},
   "outputs": [
    {
     "name": "stdout",
     "output_type": "stream",
     "text": [
      "p =  3.5\n"
     ]
    },
    {
     "data": {
      "text/plain": [
       "299.0"
      ]
     },
     "execution_count": 90,
     "metadata": {},
     "output_type": "execute_result"
    }
   ],
   "source": [
    "numeric_diff(8, x0, h, dy0, d2y0, d3y0)"
   ]
  },
  {
   "cell_type": "code",
   "execution_count": 101,
   "id": "colonial-plasma",
   "metadata": {},
   "outputs": [],
   "source": [
    "h = 1\n",
    "x0 = 1\n",
    "y0 = 1\n",
    "\n",
    "dy0  = 7 \n",
    "d2y0 = 12 \n",
    "d3y0 = 6 "
   ]
  },
  {
   "cell_type": "code",
   "execution_count": 102,
   "id": "geological-istanbul",
   "metadata": {},
   "outputs": [
    {
     "name": "stdout",
     "output_type": "stream",
     "text": [
      "p =  0.0\n"
     ]
    },
    {
     "data": {
      "text/plain": [
       "3.0"
      ]
     },
     "execution_count": 102,
     "metadata": {},
     "output_type": "execute_result"
    }
   ],
   "source": [
    "numeric_diff(1, x0, h, dy0, d2y0, d3y0)"
   ]
  },
  {
   "cell_type": "code",
   "execution_count": null,
   "id": "induced-horse",
   "metadata": {},
   "outputs": [],
   "source": []
  }
 ],
 "metadata": {
  "kernelspec": {
   "display_name": "Python 3",
   "language": "python",
   "name": "python3"
  },
  "language_info": {
   "codemirror_mode": {
    "name": "ipython",
    "version": 3
   },
   "file_extension": ".py",
   "mimetype": "text/x-python",
   "name": "python",
   "nbconvert_exporter": "python",
   "pygments_lexer": "ipython3",
   "version": "3.8.6"
  }
 },
 "nbformat": 4,
 "nbformat_minor": 5
}
