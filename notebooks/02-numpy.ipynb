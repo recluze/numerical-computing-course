{
 "cells": [
  {
   "cell_type": "markdown",
   "id": "adjustable-realtor",
   "metadata": {},
   "source": [
    "# Numpy Intro "
   ]
  },
  {
   "cell_type": "code",
   "execution_count": 15,
   "id": "brazilian-apollo",
   "metadata": {},
   "outputs": [],
   "source": [
    "%matplotlib inline \n",
    "%run mplimp.py"
   ]
  },
  {
   "cell_type": "code",
   "execution_count": null,
   "id": "portuguese-locator",
   "metadata": {},
   "outputs": [],
   "source": [
    "import numpy as np"
   ]
  },
  {
   "cell_type": "code",
   "execution_count": null,
   "id": "communist-flexibility",
   "metadata": {},
   "outputs": [],
   "source": [
    "np.random.seed(1337)"
   ]
  },
  {
   "cell_type": "markdown",
   "id": "robust-cabin",
   "metadata": {},
   "source": [
    "## Basics of Matrices "
   ]
  },
  {
   "cell_type": "code",
   "execution_count": null,
   "id": "continued-creator",
   "metadata": {},
   "outputs": [],
   "source": [
    "x = np.array(  [1, 4, 3]  )\n",
    "x"
   ]
  },
  {
   "cell_type": "code",
   "execution_count": null,
   "id": "growing-metallic",
   "metadata": {},
   "outputs": [],
   "source": [
    "y = np.array([ [1, 4, 3], \n",
    "               [9, 2, 7] ] )\n",
    "y"
   ]
  },
  {
   "cell_type": "code",
   "execution_count": null,
   "id": "cutting-rogers",
   "metadata": {},
   "outputs": [],
   "source": [
    "x.shape"
   ]
  },
  {
   "cell_type": "code",
   "execution_count": null,
   "id": "pressing-weapon",
   "metadata": {},
   "outputs": [],
   "source": [
    "y.shape"
   ]
  },
  {
   "cell_type": "code",
   "execution_count": null,
   "id": "automotive-monte",
   "metadata": {},
   "outputs": [],
   "source": [
    "z = np.array(  [ [1, 4, 3] ]  )   # What's the difference? "
   ]
  },
  {
   "cell_type": "code",
   "execution_count": null,
   "id": "major-indian",
   "metadata": {},
   "outputs": [],
   "source": [
    "z.shape"
   ]
  },
  {
   "cell_type": "code",
   "execution_count": null,
   "id": "commercial-milwaukee",
   "metadata": {},
   "outputs": [],
   "source": [
    "z = np.arange(1, 2000, 1)  # start, end, step\n",
    "z[:10]"
   ]
  },
  {
   "cell_type": "code",
   "execution_count": null,
   "id": "provincial-commitment",
   "metadata": {},
   "outputs": [],
   "source": [
    "z.shape"
   ]
  },
  {
   "cell_type": "code",
   "execution_count": null,
   "id": "reverse-movement",
   "metadata": {},
   "outputs": [],
   "source": [
    "np.arange(0.5, 3, 0.5)"
   ]
  },
  {
   "cell_type": "code",
   "execution_count": null,
   "id": "urban-ghana",
   "metadata": {},
   "outputs": [],
   "source": [
    "np.arange(0.5, 10, 1).shape"
   ]
  },
  {
   "cell_type": "code",
   "execution_count": null,
   "id": "signal-demonstration",
   "metadata": {},
   "outputs": [],
   "source": [
    "np.arange(0.5, 10, 1).reshape(5, 2).shape"
   ]
  },
  {
   "cell_type": "code",
   "execution_count": null,
   "id": "cordless-stock",
   "metadata": {},
   "outputs": [],
   "source": [
    "np.arange(0.5, 10, 1).reshape(5, 3).shape  # !! "
   ]
  },
  {
   "cell_type": "code",
   "execution_count": null,
   "id": "funny-wrapping",
   "metadata": {},
   "outputs": [],
   "source": [
    "# Evenly spaced but we don't know the step \n",
    "np.linspace(3, 9, 10)"
   ]
  },
  {
   "cell_type": "code",
   "execution_count": null,
   "id": "eleven-quantity",
   "metadata": {},
   "outputs": [],
   "source": [
    "print(x)\n",
    "print(x[1]) \n",
    "print(x[1:])"
   ]
  },
  {
   "cell_type": "code",
   "execution_count": null,
   "id": "going-college",
   "metadata": {},
   "outputs": [],
   "source": [
    "print(y)\n",
    "y[0, 1]   # this is extra in numpy "
   ]
  },
  {
   "cell_type": "code",
   "execution_count": null,
   "id": "classical-channel",
   "metadata": {},
   "outputs": [],
   "source": [
    "y[:, 1]"
   ]
  },
  {
   "cell_type": "code",
   "execution_count": null,
   "id": "raising-denmark",
   "metadata": {},
   "outputs": [],
   "source": [
    "y[:, [1, 2]]"
   ]
  },
  {
   "cell_type": "markdown",
   "id": "absolute-print",
   "metadata": {},
   "source": [
    "## Matrix Operations "
   ]
  },
  {
   "cell_type": "code",
   "execution_count": null,
   "id": "diagnostic-transfer",
   "metadata": {},
   "outputs": [],
   "source": [
    "np.zeros((3, 5))"
   ]
  },
  {
   "cell_type": "code",
   "execution_count": null,
   "id": "active-regard",
   "metadata": {},
   "outputs": [],
   "source": [
    "np.ones((5, 3))"
   ]
  },
  {
   "cell_type": "code",
   "execution_count": null,
   "id": "endless-martin",
   "metadata": {},
   "outputs": [],
   "source": [
    "a = np.arange(1, 7)\n",
    "a"
   ]
  },
  {
   "cell_type": "code",
   "execution_count": null,
   "id": "lovely-emerald",
   "metadata": {},
   "outputs": [],
   "source": [
    "a.shape"
   ]
  },
  {
   "cell_type": "code",
   "execution_count": null,
   "id": "fitted-roots",
   "metadata": {},
   "outputs": [],
   "source": [
    "a[3] = 7\n",
    "a"
   ]
  },
  {
   "cell_type": "code",
   "execution_count": null,
   "id": "altered-invention",
   "metadata": {},
   "outputs": [],
   "source": [
    "a[:3] = 1   # Assign to multiple locations \n",
    "a"
   ]
  },
  {
   "cell_type": "code",
   "execution_count": null,
   "id": "professional-export",
   "metadata": {},
   "outputs": [],
   "source": [
    "a[1:4] = [9, 8, 7]\n",
    "a"
   ]
  },
  {
   "cell_type": "code",
   "execution_count": null,
   "id": "partial-constraint",
   "metadata": {},
   "outputs": [],
   "source": [
    "# This is most useful \n",
    "b = np.zeros((2, 2))\n",
    "b[0, 0] = 1\n",
    "b[0, 1] = 2\n",
    "b[1, 1] = 4\n",
    "b"
   ]
  },
  {
   "cell_type": "code",
   "execution_count": null,
   "id": "widespread-exclusive",
   "metadata": {},
   "outputs": [],
   "source": [
    "b.shape"
   ]
  },
  {
   "cell_type": "markdown",
   "id": "accepted-sucking",
   "metadata": {},
   "source": [
    "## Array Operations "
   ]
  },
  {
   "cell_type": "code",
   "execution_count": null,
   "id": "interracial-marker",
   "metadata": {},
   "outputs": [],
   "source": [
    "print(b)"
   ]
  },
  {
   "cell_type": "code",
   "execution_count": null,
   "id": "initial-messenger",
   "metadata": {},
   "outputs": [],
   "source": [
    "b + 2"
   ]
  },
  {
   "cell_type": "code",
   "execution_count": null,
   "id": "incomplete-moderator",
   "metadata": {},
   "outputs": [],
   "source": [
    "2 * b"
   ]
  },
  {
   "cell_type": "code",
   "execution_count": null,
   "id": "cleared-bobby",
   "metadata": {},
   "outputs": [],
   "source": [
    "b ** 2"
   ]
  },
  {
   "cell_type": "code",
   "execution_count": null,
   "id": "seven-grove",
   "metadata": {},
   "outputs": [],
   "source": [
    "sum(b)"
   ]
  },
  {
   "cell_type": "code",
   "execution_count": null,
   "id": "signed-prize",
   "metadata": {},
   "outputs": [],
   "source": [
    "b.sum()"
   ]
  },
  {
   "cell_type": "code",
   "execution_count": null,
   "id": "polar-ownership",
   "metadata": {},
   "outputs": [],
   "source": [
    "b"
   ]
  },
  {
   "cell_type": "code",
   "execution_count": null,
   "id": "brutal-renaissance",
   "metadata": {},
   "outputs": [],
   "source": [
    "b.sum(axis=0).shape"
   ]
  },
  {
   "cell_type": "code",
   "execution_count": null,
   "id": "vocational-seeking",
   "metadata": {},
   "outputs": [],
   "source": [
    "b.sum(axis=1).shape"
   ]
  },
  {
   "cell_type": "code",
   "execution_count": null,
   "id": "engaging-thunder",
   "metadata": {},
   "outputs": [],
   "source": [
    "b = np.array([[1, 2], [3, 4]])\n",
    "d = np.array([[3, 4], [5, 6]])"
   ]
  },
  {
   "cell_type": "code",
   "execution_count": null,
   "id": "foreign-copper",
   "metadata": {},
   "outputs": [],
   "source": [
    "print(b) \n",
    "print(d)"
   ]
  },
  {
   "cell_type": "code",
   "execution_count": null,
   "id": "turned-newton",
   "metadata": {},
   "outputs": [],
   "source": [
    "b + d "
   ]
  },
  {
   "cell_type": "code",
   "execution_count": null,
   "id": "relative-radar",
   "metadata": {},
   "outputs": [],
   "source": [
    "b * d     # what operation is this? "
   ]
  },
  {
   "cell_type": "code",
   "execution_count": null,
   "id": "proprietary-netscape",
   "metadata": {},
   "outputs": [],
   "source": [
    "b.dot(d)  # and this? "
   ]
  },
  {
   "cell_type": "code",
   "execution_count": null,
   "id": "attractive-merit",
   "metadata": {},
   "outputs": [],
   "source": [
    "b ** d "
   ]
  },
  {
   "cell_type": "code",
   "execution_count": null,
   "id": "controversial-giving",
   "metadata": {},
   "outputs": [],
   "source": [
    "b.T"
   ]
  },
  {
   "cell_type": "code",
   "execution_count": null,
   "id": "tribal-examination",
   "metadata": {},
   "outputs": [],
   "source": [
    "a"
   ]
  },
  {
   "cell_type": "code",
   "execution_count": null,
   "id": "acceptable-paintball",
   "metadata": {},
   "outputs": [],
   "source": [
    "a.shape"
   ]
  },
  {
   "cell_type": "code",
   "execution_count": null,
   "id": "advance-laptop",
   "metadata": {},
   "outputs": [],
   "source": [
    "a.T"
   ]
  },
  {
   "cell_type": "code",
   "execution_count": null,
   "id": "gorgeous-lewis",
   "metadata": {},
   "outputs": [],
   "source": [
    "a.T.shape"
   ]
  },
  {
   "cell_type": "code",
   "execution_count": null,
   "id": "proprietary-classification",
   "metadata": {},
   "outputs": [],
   "source": [
    "a.reshape(6,1).T.shape"
   ]
  },
  {
   "cell_type": "code",
   "execution_count": null,
   "id": "acute-evidence",
   "metadata": {},
   "outputs": [],
   "source": [
    "# Numpy has \"broadcasting\" or \"mapping\" functions \n",
    "print(np.sqrt(36))\n",
    "\n",
    "# works on both scalars and arrays \n",
    "x = [1, 4, 9, 16]\n",
    "np.sqrt(x)"
   ]
  },
  {
   "cell_type": "code",
   "execution_count": null,
   "id": "partial-trigger",
   "metadata": {},
   "outputs": [],
   "source": [
    "# Checking conditions \n",
    "x = np.array([1, 2, 4, 5, 9, 3])\n",
    "y = np.array([0, 2, 3, 1, 2, 3])"
   ]
  },
  {
   "cell_type": "code",
   "execution_count": null,
   "id": "placed-tunisia",
   "metadata": {},
   "outputs": [],
   "source": [
    "x > 3 "
   ]
  },
  {
   "cell_type": "code",
   "execution_count": null,
   "id": "convenient-coaching",
   "metadata": {},
   "outputs": [],
   "source": [
    "x > y "
   ]
  },
  {
   "cell_type": "markdown",
   "id": "fossil-obligation",
   "metadata": {},
   "source": [
    "# Misc Operations with Numpy"
   ]
  },
  {
   "cell_type": "code",
   "execution_count": null,
   "id": "speaking-taylor",
   "metadata": {},
   "outputs": [],
   "source": [
    "import math\n",
    "def basic_sigmoid(x):\n",
    "    \"\"\"\n",
    "    Compute sigmoid of x.\n",
    "\n",
    "    Arguments:\n",
    "    x -- A scalar\n",
    "\n",
    "    Return:\n",
    "    s -- sigmoid(x)\n",
    "    \"\"\"\n",
    "    \n",
    "    s = 1./(1. + math.e ** (-x))\n",
    "    \n",
    "    return s"
   ]
  },
  {
   "cell_type": "code",
   "execution_count": null,
   "id": "bronze-cooperative",
   "metadata": {},
   "outputs": [],
   "source": [
    "basic_sigmoid(-1)"
   ]
  },
  {
   "cell_type": "code",
   "execution_count": null,
   "id": "accurate-surrey",
   "metadata": {},
   "outputs": [],
   "source": [
    "basic_sigmoid(0)"
   ]
  },
  {
   "cell_type": "code",
   "execution_count": null,
   "id": "monetary-devon",
   "metadata": {},
   "outputs": [],
   "source": [
    "x = [-1, 0, 3]\n",
    "basic_sigmoid(x)   # Why"
   ]
  },
  {
   "cell_type": "code",
   "execution_count": null,
   "id": "round-mapping",
   "metadata": {},
   "outputs": [],
   "source": [
    "import numpy as np\n",
    "\n",
    "x = [-1, 0, 3]\n",
    "x = np.array(x)\n",
    "basic_sigmoid(x)"
   ]
  },
  {
   "cell_type": "markdown",
   "id": "olympic-webster",
   "metadata": {},
   "source": [
    "## Broadcasting "
   ]
  },
  {
   "cell_type": "code",
   "execution_count": 2,
   "id": "decreased-relevance",
   "metadata": {},
   "outputs": [],
   "source": [
    "import numpy as np"
   ]
  },
  {
   "cell_type": "code",
   "execution_count": 2,
   "id": "european-reserve",
   "metadata": {},
   "outputs": [
    {
     "data": {
      "text/plain": [
       "array([3, 6, 9])"
      ]
     },
     "execution_count": 2,
     "metadata": {},
     "output_type": "execute_result"
    }
   ],
   "source": [
    "# What is broadcasting? \n",
    "x = np.array([1, 2, 3])\n",
    "x * 3  # This makes sense "
   ]
  },
  {
   "cell_type": "code",
   "execution_count": 3,
   "id": "color-timer",
   "metadata": {},
   "outputs": [
    {
     "data": {
      "text/plain": [
       "array([4, 5, 6])"
      ]
     },
     "execution_count": 3,
     "metadata": {},
     "output_type": "execute_result"
    }
   ],
   "source": [
    "x + 3   # Does this? "
   ]
  },
  {
   "cell_type": "markdown",
   "id": "understood-birmingham",
   "metadata": {},
   "source": [
    "Generl rule: Two dimensions are compatible when\n",
    "\n",
    "* they are equal, or\n",
    "\n",
    "* one of them is 1\n"
   ]
  },
  {
   "cell_type": "code",
   "execution_count": 4,
   "id": "complex-store",
   "metadata": {},
   "outputs": [
    {
     "name": "stdout",
     "output_type": "stream",
     "text": [
      "x =   [0 1 2 3]\n",
      "xx =  [[0]\n",
      " [1]\n",
      " [2]\n",
      " [3]]\n",
      "y =   [1. 1. 1. 1. 1.]\n",
      "Shapes: \n",
      "(4,)\n",
      "(4, 1)\n",
      "(5,)\n"
     ]
    }
   ],
   "source": [
    "x = np.arange(4)\n",
    "xx = x.reshape(4, 1)\n",
    "y = np.ones(5)\n",
    "z = np.ones((3,4))\n",
    "\n",
    "print(\"x =  \", x)\n",
    "print(\"xx = \", xx) \n",
    "print(\"y =  \", y)\n",
    "\n",
    "print(\"Shapes: \") \n",
    "print(x.shape)\n",
    "print(xx.shape)\n",
    "print(y.shape)"
   ]
  },
  {
   "cell_type": "code",
   "execution_count": 5,
   "id": "resident-colorado",
   "metadata": {},
   "outputs": [
    {
     "ename": "ValueError",
     "evalue": "operands could not be broadcast together with shapes (4,) (5,) ",
     "output_type": "error",
     "traceback": [
      "\u001b[0;31m---------------------------------------------------------------------------\u001b[0m",
      "\u001b[0;31mValueError\u001b[0m                                Traceback (most recent call last)",
      "\u001b[0;32m<ipython-input-5-8128991a6498>\u001b[0m in \u001b[0;36m<module>\u001b[0;34m\u001b[0m\n\u001b[0;32m----> 1\u001b[0;31m \u001b[0mx\u001b[0m \u001b[0;34m+\u001b[0m \u001b[0my\u001b[0m    \u001b[0;31m# does not work\u001b[0m\u001b[0;34m\u001b[0m\u001b[0;34m\u001b[0m\u001b[0m\n\u001b[0m",
      "\u001b[0;31mValueError\u001b[0m: operands could not be broadcast together with shapes (4,) (5,) "
     ]
    }
   ],
   "source": [
    "x + y    # does not work "
   ]
  },
  {
   "cell_type": "code",
   "execution_count": 6,
   "id": "industrial-calibration",
   "metadata": {},
   "outputs": [
    {
     "data": {
      "text/plain": [
       "((4, 1), (4,))"
      ]
     },
     "execution_count": 6,
     "metadata": {},
     "output_type": "execute_result"
    }
   ],
   "source": [
    "xx.shape, x.shape"
   ]
  },
  {
   "cell_type": "code",
   "execution_count": 9,
   "id": "vocational-clothing",
   "metadata": {},
   "outputs": [
    {
     "name": "stdout",
     "output_type": "stream",
     "text": [
      "[1. 1. 1. 1. 1.]\n",
      "[[0]\n",
      " [1]\n",
      " [2]\n",
      " [3]]\n"
     ]
    }
   ],
   "source": [
    "print(y)\n",
    "print(xx)"
   ]
  },
  {
   "cell_type": "code",
   "execution_count": 10,
   "id": "official-maine",
   "metadata": {},
   "outputs": [],
   "source": [
    "out = xx + y       # xx is broadcast over the columns of y "
   ]
  },
  {
   "cell_type": "code",
   "execution_count": 12,
   "id": "assigned-screen",
   "metadata": {},
   "outputs": [
    {
     "data": {
      "text/plain": [
       "array([[1., 1., 1., 1., 1.],\n",
       "       [2., 2., 2., 2., 2.],\n",
       "       [3., 3., 3., 3., 3.],\n",
       "       [4., 4., 4., 4., 4.]])"
      ]
     },
     "execution_count": 12,
     "metadata": {},
     "output_type": "execute_result"
    }
   ],
   "source": [
    "out"
   ]
  },
  {
   "cell_type": "code",
   "execution_count": 11,
   "id": "conventional-impossible",
   "metadata": {},
   "outputs": [
    {
     "data": {
      "text/plain": [
       "(4, 5)"
      ]
     },
     "execution_count": 11,
     "metadata": {},
     "output_type": "execute_result"
    }
   ],
   "source": [
    "out.shape"
   ]
  },
  {
   "cell_type": "code",
   "execution_count": 13,
   "id": "north-advocacy",
   "metadata": {},
   "outputs": [
    {
     "data": {
      "text/plain": [
       "array([2., 2., 2., 2., 2.])"
      ]
     },
     "execution_count": 13,
     "metadata": {},
     "output_type": "execute_result"
    }
   ],
   "source": [
    "np.array([1]) + y      # element is broadcast over y "
   ]
  },
  {
   "cell_type": "code",
   "execution_count": 14,
   "id": "finished-vaccine",
   "metadata": {},
   "outputs": [
    {
     "name": "stdout",
     "output_type": "stream",
     "text": [
      "[[1. 1. 1. 1.]\n",
      " [1. 1. 1. 1.]\n",
      " [1. 1. 1. 1.]]\n"
     ]
    },
    {
     "data": {
      "text/plain": [
       "(3, 4)"
      ]
     },
     "execution_count": 14,
     "metadata": {},
     "output_type": "execute_result"
    }
   ],
   "source": [
    "print(z)\n",
    "z.shape"
   ]
  },
  {
   "cell_type": "code",
   "execution_count": 17,
   "id": "plain-animal",
   "metadata": {},
   "outputs": [
    {
     "data": {
      "text/plain": [
       "(4,)"
      ]
     },
     "execution_count": 17,
     "metadata": {},
     "output_type": "execute_result"
    }
   ],
   "source": [
    "x.shape"
   ]
  },
  {
   "cell_type": "code",
   "execution_count": 15,
   "id": "coral-honor",
   "metadata": {},
   "outputs": [
    {
     "data": {
      "text/plain": [
       "array([0, 1, 2, 3])"
      ]
     },
     "execution_count": 15,
     "metadata": {},
     "output_type": "execute_result"
    }
   ],
   "source": [
    "x"
   ]
  },
  {
   "cell_type": "code",
   "execution_count": 16,
   "id": "leading-zealand",
   "metadata": {},
   "outputs": [
    {
     "data": {
      "text/plain": [
       "array([[1., 2., 3., 4.],\n",
       "       [1., 2., 3., 4.],\n",
       "       [1., 2., 3., 4.]])"
      ]
     },
     "execution_count": 16,
     "metadata": {},
     "output_type": "execute_result"
    }
   ],
   "source": [
    "z + x"
   ]
  },
  {
   "cell_type": "code",
   "execution_count": 18,
   "id": "official-monaco",
   "metadata": {},
   "outputs": [],
   "source": [
    "a = np.array([[ 0.0 , 0.0,  0.0  ],\n",
    "              [ 10.0, 10.0, 10.0 ],\n",
    "              [ 20.0, 20.0, 20.0 ],\n",
    "              [ 30.0, 30.0, 30.0 ]])\n",
    "\n",
    "b = np.array( [ 1.0,  2.0,  3.0  ] )  "
   ]
  },
  {
   "cell_type": "code",
   "execution_count": 19,
   "id": "colonial-shade",
   "metadata": {},
   "outputs": [
    {
     "data": {
      "text/plain": [
       "array([[ 1.,  2.,  3.],\n",
       "       [11., 12., 13.],\n",
       "       [21., 22., 23.],\n",
       "       [31., 32., 33.]])"
      ]
     },
     "execution_count": 19,
     "metadata": {},
     "output_type": "execute_result"
    }
   ],
   "source": [
    "a + b "
   ]
  },
  {
   "cell_type": "code",
   "execution_count": 20,
   "id": "reflected-olympus",
   "metadata": {},
   "outputs": [],
   "source": [
    "a = np.array([[ 0.0 , 0.0,  0.0  , 0.0  ],\n",
    "              [ 10.0, 10.0, 10.0 , 10.0 ],\n",
    "              [ 20.0, 20.0, 20.0 , 20.0 ],\n",
    "              [ 30.0, 30.0, 30.0 , 30.0 ]])\n",
    "\n",
    "b = np.array( [ 1.0,  2.0] )  "
   ]
  },
  {
   "cell_type": "code",
   "execution_count": 21,
   "id": "necessary-wonder",
   "metadata": {},
   "outputs": [
    {
     "ename": "ValueError",
     "evalue": "operands could not be broadcast together with shapes (4,4) (2,) ",
     "output_type": "error",
     "traceback": [
      "\u001b[0;31m---------------------------------------------------------------------------\u001b[0m",
      "\u001b[0;31mValueError\u001b[0m                                Traceback (most recent call last)",
      "\u001b[0;32m<ipython-input-21-bd58363a63fc>\u001b[0m in \u001b[0;36m<module>\u001b[0;34m\u001b[0m\n\u001b[0;32m----> 1\u001b[0;31m \u001b[0ma\u001b[0m \u001b[0;34m+\u001b[0m \u001b[0mb\u001b[0m\u001b[0;34m\u001b[0m\u001b[0;34m\u001b[0m\u001b[0m\n\u001b[0m",
      "\u001b[0;31mValueError\u001b[0m: operands could not be broadcast together with shapes (4,4) (2,) "
     ]
    }
   ],
   "source": [
    "a + b"
   ]
  },
  {
   "cell_type": "code",
   "execution_count": 22,
   "id": "accompanied-camcorder",
   "metadata": {},
   "outputs": [],
   "source": [
    "a = np.array( [ 0.0, 10.0, 20.0, 30.0 ] )\n",
    "b = np.array( [ 1.0, 2.0,  3.0 ]        )"
   ]
  },
  {
   "cell_type": "code",
   "execution_count": 23,
   "id": "silent-thompson",
   "metadata": {},
   "outputs": [
    {
     "ename": "ValueError",
     "evalue": "operands could not be broadcast together with shapes (4,) (3,) ",
     "output_type": "error",
     "traceback": [
      "\u001b[0;31m---------------------------------------------------------------------------\u001b[0m",
      "\u001b[0;31mValueError\u001b[0m                                Traceback (most recent call last)",
      "\u001b[0;32m<ipython-input-23-260596b0ae8e>\u001b[0m in \u001b[0;36m<module>\u001b[0;34m\u001b[0m\n\u001b[0;32m----> 1\u001b[0;31m \u001b[0ma\u001b[0m \u001b[0;34m+\u001b[0m \u001b[0mb\u001b[0m    \u001b[0;31m# can't broadcast\u001b[0m\u001b[0;34m\u001b[0m\u001b[0;34m\u001b[0m\u001b[0m\n\u001b[0m",
      "\u001b[0;31mValueError\u001b[0m: operands could not be broadcast together with shapes (4,) (3,) "
     ]
    }
   ],
   "source": [
    "a + b    # can't broadcast "
   ]
  },
  {
   "cell_type": "code",
   "execution_count": 24,
   "id": "blank-willow",
   "metadata": {},
   "outputs": [
    {
     "name": "stdout",
     "output_type": "stream",
     "text": [
      "(4,) (3,)\n"
     ]
    }
   ],
   "source": [
    "print(a.shape, b.shape)"
   ]
  },
  {
   "cell_type": "code",
   "execution_count": 27,
   "id": "placed-trick",
   "metadata": {},
   "outputs": [],
   "source": [
    "a1 = a.reshape(4, 1)"
   ]
  },
  {
   "cell_type": "code",
   "execution_count": 28,
   "id": "initial-bahamas",
   "metadata": {},
   "outputs": [
    {
     "data": {
      "text/plain": [
       "array([[ 1.,  2.,  3.],\n",
       "       [11., 12., 13.],\n",
       "       [21., 22., 23.],\n",
       "       [31., 32., 33.]])"
      ]
     },
     "execution_count": 28,
     "metadata": {},
     "output_type": "execute_result"
    }
   ],
   "source": [
    "a1 + b "
   ]
  },
  {
   "cell_type": "code",
   "execution_count": 29,
   "id": "civic-uncle",
   "metadata": {},
   "outputs": [
    {
     "name": "stdout",
     "output_type": "stream",
     "text": [
      "(4, 1) (3,)\n"
     ]
    }
   ],
   "source": [
    "print(a1.shape, b.shape)"
   ]
  },
  {
   "cell_type": "code",
   "execution_count": 30,
   "id": "matched-appeal",
   "metadata": {},
   "outputs": [
    {
     "name": "stdout",
     "output_type": "stream",
     "text": [
      "[[ 0.]\n",
      " [10.]\n",
      " [20.]\n",
      " [30.]]\n"
     ]
    }
   ],
   "source": [
    "print(a1)"
   ]
  },
  {
   "cell_type": "markdown",
   "id": "charged-precipitation",
   "metadata": {},
   "source": [
    "## Normalizing Rows and Columns "
   ]
  },
  {
   "cell_type": "markdown",
   "id": "acoustic-external",
   "metadata": {},
   "source": [
    "Often, we wish to normalize value of a row to fall within a specific range. "
   ]
  },
  {
   "cell_type": "code",
   "execution_count": 3,
   "id": "straight-heath",
   "metadata": {},
   "outputs": [],
   "source": [
    "x = np.array([ [ 0, 3, 4 ],\n",
    "               [ 1, 6, 4 ] ])"
   ]
  },
  {
   "cell_type": "code",
   "execution_count": 4,
   "id": "legendary-picnic",
   "metadata": {},
   "outputs": [
    {
     "name": "stdout",
     "output_type": "stream",
     "text": [
      "[4 6]\n"
     ]
    }
   ],
   "source": [
    "x_norm = np.amax(x, axis=1)   # get row-wise max \n",
    "print(x_norm)"
   ]
  },
  {
   "cell_type": "code",
   "execution_count": 5,
   "id": "assumed-liechtenstein",
   "metadata": {},
   "outputs": [
    {
     "ename": "ValueError",
     "evalue": "operands could not be broadcast together with shapes (2,3) (2,) ",
     "output_type": "error",
     "traceback": [
      "\u001b[0;31m---------------------------------------------------------------------------\u001b[0m",
      "\u001b[0;31mValueError\u001b[0m                                Traceback (most recent call last)",
      "\u001b[0;32m<ipython-input-5-13cb47700522>\u001b[0m in \u001b[0;36m<module>\u001b[0;34m\u001b[0m\n\u001b[0;32m----> 1\u001b[0;31m \u001b[0mx\u001b[0m \u001b[0;34m/\u001b[0m \u001b[0mx_norm\u001b[0m     \u001b[0;31m# this does not work. Why?\u001b[0m\u001b[0;34m\u001b[0m\u001b[0;34m\u001b[0m\u001b[0m\n\u001b[0m",
      "\u001b[0;31mValueError\u001b[0m: operands could not be broadcast together with shapes (2,3) (2,) "
     ]
    }
   ],
   "source": [
    "x / x_norm     # this does not work. Why? "
   ]
  },
  {
   "cell_type": "code",
   "execution_count": 6,
   "id": "olympic-quick",
   "metadata": {},
   "outputs": [
    {
     "name": "stdout",
     "output_type": "stream",
     "text": [
      "(2, 3)\n",
      "(2,)\n"
     ]
    }
   ],
   "source": [
    "print(x.shape)\n",
    "print(x_norm.shape)"
   ]
  },
  {
   "cell_type": "code",
   "execution_count": 7,
   "id": "useful-rehabilitation",
   "metadata": {},
   "outputs": [],
   "source": [
    "x_norm = x_norm.reshape(2, 1)"
   ]
  },
  {
   "cell_type": "code",
   "execution_count": 9,
   "id": "palestinian-spending",
   "metadata": {},
   "outputs": [
    {
     "data": {
      "text/plain": [
       "array([[4],\n",
       "       [6]])"
      ]
     },
     "execution_count": 9,
     "metadata": {},
     "output_type": "execute_result"
    }
   ],
   "source": [
    "x_norm"
   ]
  },
  {
   "cell_type": "code",
   "execution_count": 8,
   "id": "hollywood-medicare",
   "metadata": {},
   "outputs": [
    {
     "data": {
      "text/plain": [
       "array([[0.        , 0.75      , 1.        ],\n",
       "       [0.16666667, 1.        , 0.66666667]])"
      ]
     },
     "execution_count": 8,
     "metadata": {},
     "output_type": "execute_result"
    }
   ],
   "source": [
    "x / x_norm"
   ]
  },
  {
   "cell_type": "code",
   "execution_count": 10,
   "id": "ready-visit",
   "metadata": {},
   "outputs": [
    {
     "data": {
      "text/plain": [
       "array([[0.        , 0.6       , 0.8       ],\n",
       "       [0.13736056, 0.82416338, 0.54944226]])"
      ]
     },
     "execution_count": 10,
     "metadata": {},
     "output_type": "execute_result"
    }
   ],
   "source": [
    "# We can also use another normalization method \n",
    "x = np.array([ [ 0, 3, 4 ],\n",
    "               [ 1, 6, 4 ] ])\n",
    "\n",
    "# no need to reshape again \n",
    "x_norm = np.linalg.norm(x, ord = 2, axis = 1, keepdims = True) \n",
    "x / x_norm"
   ]
  },
  {
   "cell_type": "code",
   "execution_count": 11,
   "id": "vietnamese-playing",
   "metadata": {},
   "outputs": [
    {
     "data": {
      "text/plain": [
       "(2, 1)"
      ]
     },
     "execution_count": 11,
     "metadata": {},
     "output_type": "execute_result"
    }
   ],
   "source": [
    "x_norm.shape"
   ]
  },
  {
   "cell_type": "code",
   "execution_count": 12,
   "id": "loving-ambassador",
   "metadata": {},
   "outputs": [
    {
     "name": "stdout",
     "output_type": "stream",
     "text": [
      "Help on function norm in module numpy.linalg:\n",
      "\n",
      "norm(x, ord=None, axis=None, keepdims=False)\n",
      "    Matrix or vector norm.\n",
      "    \n",
      "    This function is able to return one of eight different matrix norms,\n",
      "    or one of an infinite number of vector norms (described below), depending\n",
      "    on the value of the ``ord`` parameter.\n",
      "    \n",
      "    Parameters\n",
      "    ----------\n",
      "    x : array_like\n",
      "        Input array.  If `axis` is None, `x` must be 1-D or 2-D, unless `ord`\n",
      "        is None. If both `axis` and `ord` are None, the 2-norm of\n",
      "        ``x.ravel`` will be returned.\n",
      "    ord : {non-zero int, inf, -inf, 'fro', 'nuc'}, optional\n",
      "        Order of the norm (see table under ``Notes``). inf means numpy's\n",
      "        `inf` object. The default is None.\n",
      "    axis : {None, int, 2-tuple of ints}, optional.\n",
      "        If `axis` is an integer, it specifies the axis of `x` along which to\n",
      "        compute the vector norms.  If `axis` is a 2-tuple, it specifies the\n",
      "        axes that hold 2-D matrices, and the matrix norms of these matrices\n",
      "        are computed.  If `axis` is None then either a vector norm (when `x`\n",
      "        is 1-D) or a matrix norm (when `x` is 2-D) is returned. The default\n",
      "        is None.\n",
      "    \n",
      "        .. versionadded:: 1.8.0\n",
      "    \n",
      "    keepdims : bool, optional\n",
      "        If this is set to True, the axes which are normed over are left in the\n",
      "        result as dimensions with size one.  With this option the result will\n",
      "        broadcast correctly against the original `x`.\n",
      "    \n",
      "        .. versionadded:: 1.10.0\n",
      "    \n",
      "    Returns\n",
      "    -------\n",
      "    n : float or ndarray\n",
      "        Norm of the matrix or vector(s).\n",
      "    \n",
      "    See Also\n",
      "    --------\n",
      "    scipy.linalg.norm : Similar function in SciPy.\n",
      "    \n",
      "    Notes\n",
      "    -----\n",
      "    For values of ``ord < 1``, the result is, strictly speaking, not a\n",
      "    mathematical 'norm', but it may still be useful for various numerical\n",
      "    purposes.\n",
      "    \n",
      "    The following norms can be calculated:\n",
      "    \n",
      "    =====  ============================  ==========================\n",
      "    ord    norm for matrices             norm for vectors\n",
      "    =====  ============================  ==========================\n",
      "    None   Frobenius norm                2-norm\n",
      "    'fro'  Frobenius norm                --\n",
      "    'nuc'  nuclear norm                  --\n",
      "    inf    max(sum(abs(x), axis=1))      max(abs(x))\n",
      "    -inf   min(sum(abs(x), axis=1))      min(abs(x))\n",
      "    0      --                            sum(x != 0)\n",
      "    1      max(sum(abs(x), axis=0))      as below\n",
      "    -1     min(sum(abs(x), axis=0))      as below\n",
      "    2      2-norm (largest sing. value)  as below\n",
      "    -2     smallest singular value       as below\n",
      "    other  --                            sum(abs(x)**ord)**(1./ord)\n",
      "    =====  ============================  ==========================\n",
      "    \n",
      "    The Frobenius norm is given by [1]_:\n",
      "    \n",
      "        :math:`||A||_F = [\\sum_{i,j} abs(a_{i,j})^2]^{1/2}`\n",
      "    \n",
      "    The nuclear norm is the sum of the singular values.\n",
      "    \n",
      "    Both the Frobenius and nuclear norm orders are only defined for\n",
      "    matrices and raise a ValueError when ``x.ndim != 2``.\n",
      "    \n",
      "    References\n",
      "    ----------\n",
      "    .. [1] G. H. Golub and C. F. Van Loan, *Matrix Computations*,\n",
      "           Baltimore, MD, Johns Hopkins University Press, 1985, pg. 15\n",
      "    \n",
      "    Examples\n",
      "    --------\n",
      "    >>> from numpy import linalg as LA\n",
      "    >>> a = np.arange(9) - 4\n",
      "    >>> a\n",
      "    array([-4, -3, -2, ...,  2,  3,  4])\n",
      "    >>> b = a.reshape((3, 3))\n",
      "    >>> b\n",
      "    array([[-4, -3, -2],\n",
      "           [-1,  0,  1],\n",
      "           [ 2,  3,  4]])\n",
      "    \n",
      "    >>> LA.norm(a)\n",
      "    7.745966692414834\n",
      "    >>> LA.norm(b)\n",
      "    7.745966692414834\n",
      "    >>> LA.norm(b, 'fro')\n",
      "    7.745966692414834\n",
      "    >>> LA.norm(a, np.inf)\n",
      "    4.0\n",
      "    >>> LA.norm(b, np.inf)\n",
      "    9.0\n",
      "    >>> LA.norm(a, -np.inf)\n",
      "    0.0\n",
      "    >>> LA.norm(b, -np.inf)\n",
      "    2.0\n",
      "    \n",
      "    >>> LA.norm(a, 1)\n",
      "    20.0\n",
      "    >>> LA.norm(b, 1)\n",
      "    7.0\n",
      "    >>> LA.norm(a, -1)\n",
      "    -4.6566128774142013e-010\n",
      "    >>> LA.norm(b, -1)\n",
      "    6.0\n",
      "    >>> LA.norm(a, 2)\n",
      "    7.745966692414834\n",
      "    >>> LA.norm(b, 2)\n",
      "    7.3484692283495345\n",
      "    \n",
      "    >>> LA.norm(a, -2)\n",
      "    0.0\n",
      "    >>> LA.norm(b, -2)\n",
      "    1.8570331885190563e-016 # may vary\n",
      "    >>> LA.norm(a, 3)\n",
      "    5.8480354764257312 # may vary\n",
      "    >>> LA.norm(a, -3)\n",
      "    0.0\n",
      "    \n",
      "    Using the `axis` argument to compute vector norms:\n",
      "    \n",
      "    >>> c = np.array([[ 1, 2, 3],\n",
      "    ...               [-1, 1, 4]])\n",
      "    >>> LA.norm(c, axis=0)\n",
      "    array([ 1.41421356,  2.23606798,  5.        ])\n",
      "    >>> LA.norm(c, axis=1)\n",
      "    array([ 3.74165739,  4.24264069])\n",
      "    >>> LA.norm(c, ord=1, axis=1)\n",
      "    array([ 6.,  6.])\n",
      "    \n",
      "    Using the `axis` argument to compute matrix norms:\n",
      "    \n",
      "    >>> m = np.arange(8).reshape(2,2,2)\n",
      "    >>> LA.norm(m, axis=(1,2))\n",
      "    array([  3.74165739,  11.22497216])\n",
      "    >>> LA.norm(m[0, :, :]), LA.norm(m[1, :, :])\n",
      "    (3.7416573867739413, 11.224972160321824)\n",
      "\n"
     ]
    }
   ],
   "source": [
    "help(np.linalg.norm)"
   ]
  },
  {
   "cell_type": "markdown",
   "id": "corrected-twelve",
   "metadata": {},
   "source": [
    "## Reshaping Revisited "
   ]
  },
  {
   "cell_type": "markdown",
   "id": "visible-interim",
   "metadata": {},
   "source": [
    "Pay attention to the tensor below! "
   ]
  },
  {
   "cell_type": "code",
   "execution_count": 13,
   "id": "trained-characteristic",
   "metadata": {},
   "outputs": [],
   "source": [
    "i = np.array([\n",
    "    [  [ 0.1,  0.1,  0.9 ], [ 0.2,  0.1,  0.9 ], [ 0.3,  0.1,  0.9 ]  ],\n",
    "    \n",
    "    [  [ 0.1,  0.2,  0.9 ], [ 0.2,  0.2,  0.9 ], [ 0.3,  0.2,  0.9 ]  ],\n",
    "\n",
    "    [  [ 0.1,  0.3,  0.9 ], [ 0.2,  0.3,  0.9 ], [ 0.3,  0.3,  0.9 ]  ], \n",
    "    \n",
    "    [  [ 0.1,  0.4,  0.9 ], [ 0.2,  0.4,  0.9 ], [ 0.3,  0.4,  0.9 ]  ]\n",
    "\n",
    "])"
   ]
  },
  {
   "cell_type": "code",
   "execution_count": 14,
   "id": "packed-virginia",
   "metadata": {},
   "outputs": [
    {
     "data": {
      "text/plain": [
       "(4, 3, 3)"
      ]
     },
     "execution_count": 14,
     "metadata": {},
     "output_type": "execute_result"
    }
   ],
   "source": [
    "i.shape"
   ]
  },
  {
   "cell_type": "code",
   "execution_count": 16,
   "id": "coordinate-postage",
   "metadata": {},
   "outputs": [],
   "source": [
    "%matplotlib inline \n",
    "import matplotlib.pyplot as plt\n",
    "import numpy as np"
   ]
  },
  {
   "cell_type": "code",
   "execution_count": 17,
   "id": "wrong-candle",
   "metadata": {},
   "outputs": [
    {
     "data": {
      "image/png": "[encoded data removed]",
      "text/plain": [
       "<Figure size 432x288 with 1 Axes>"
      ]
     },
     "metadata": {
      "needs_background": "dark"
     },
     "output_type": "display_data"
    }
   ],
   "source": [
    "_ = plt.imshow(i)"
   ]
  },
  {
   "cell_type": "code",
   "execution_count": 20,
   "id": "declared-grounds",
   "metadata": {},
   "outputs": [
    {
     "data": {
      "text/plain": [
       "array([0.1, 0.1, 0.9, 0.2, 0.1, 0.9, 0.3, 0.1, 0.9, 0.1, 0.2, 0.9, 0.2,\n",
       "       0.2, 0.9, 0.3, 0.2, 0.9, 0.1, 0.3, 0.9, 0.2, 0.3, 0.9, 0.3, 0.3,\n",
       "       0.9, 0.1, 0.4, 0.9, 0.2, 0.4, 0.9, 0.3, 0.4, 0.9])"
      ]
     },
     "execution_count": 20,
     "metadata": {},
     "output_type": "execute_result"
    }
   ],
   "source": [
    "i.reshape(36)    # we get a column \"vector\""
   ]
  },
  {
   "cell_type": "code",
   "execution_count": 21,
   "id": "fifty-auction",
   "metadata": {},
   "outputs": [
    {
     "name": "stdout",
     "output_type": "stream",
     "text": [
      "(4, 3, 3)\n"
     ]
    },
    {
     "data": {
      "text/plain": [
       "array([[0.1],\n",
       "       [0.1],\n",
       "       [0.9],\n",
       "       [0.2],\n",
       "       [0.1],\n",
       "       [0.9],\n",
       "       [0.3],\n",
       "       [0.1],\n",
       "       [0.9],\n",
       "       [0.1],\n",
       "       [0.2],\n",
       "       [0.9],\n",
       "       [0.2],\n",
       "       [0.2],\n",
       "       [0.9],\n",
       "       [0.3],\n",
       "       [0.2],\n",
       "       [0.9],\n",
       "       [0.1],\n",
       "       [0.3],\n",
       "       [0.9],\n",
       "       [0.2],\n",
       "       [0.3],\n",
       "       [0.9],\n",
       "       [0.3],\n",
       "       [0.3],\n",
       "       [0.9],\n",
       "       [0.1],\n",
       "       [0.4],\n",
       "       [0.9],\n",
       "       [0.2],\n",
       "       [0.4],\n",
       "       [0.9],\n",
       "       [0.3],\n",
       "       [0.4],\n",
       "       [0.9]])"
      ]
     },
     "execution_count": 21,
     "metadata": {},
     "output_type": "execute_result"
    }
   ],
   "source": [
    "print(i.shape)\n",
    "i_sh = i.shape\n",
    "i.reshape(i_sh[0] * i_sh[1] * i_sh[2], 1)  # Also known as \"flattening\""
   ]
  },
  {
   "cell_type": "markdown",
   "id": "blank-vector",
   "metadata": {},
   "source": [
    "## Vectorization "
   ]
  },
  {
   "cell_type": "code",
   "execution_count": 31,
   "id": "present-mission",
   "metadata": {},
   "outputs": [],
   "source": [
    "dim = 100    # try increasing this after running experiment"
   ]
  },
  {
   "cell_type": "code",
   "execution_count": 32,
   "id": "animal-personality",
   "metadata": {},
   "outputs": [],
   "source": [
    "A = np.random.rand(dim, dim)\n",
    "B = np.random.rand(dim, dim)"
   ]
  },
  {
   "cell_type": "code",
   "execution_count": 33,
   "id": "decent-tulsa",
   "metadata": {},
   "outputs": [
    {
     "data": {
      "text/plain": [
       "(100, 100)"
      ]
     },
     "execution_count": 33,
     "metadata": {},
     "output_type": "execute_result"
    }
   ],
   "source": [
    "A[0].size, A[1].size"
   ]
  },
  {
   "cell_type": "code",
   "execution_count": 34,
   "id": "lightweight-interstate",
   "metadata": {},
   "outputs": [],
   "source": [
    "def add_arrays(A, B): \n",
    "    C = np.zeros((A[0].size, A[1].size))\n",
    "    \n",
    "    for i in range(A[0].size): \n",
    "        for j in range(A[1].size): \n",
    "            C[i, j] = A[i, j] + B[i, j]\n",
    "    return C "
   ]
  },
  {
   "cell_type": "code",
   "execution_count": 35,
   "id": "synthetic-fireplace",
   "metadata": {},
   "outputs": [
    {
     "name": "stdout",
     "output_type": "stream",
     "text": [
      "CPU times: user 6.07 ms, sys: 130 µs, total: 6.2 ms\n",
      "Wall time: 6.31 ms\n"
     ]
    }
   ],
   "source": [
    "%time C = add_arrays(A, B)"
   ]
  },
  {
   "cell_type": "code",
   "execution_count": 36,
   "id": "preceding-astronomy",
   "metadata": {},
   "outputs": [
    {
     "name": "stdout",
     "output_type": "stream",
     "text": [
      "CPU times: user 141 µs, sys: 70 µs, total: 211 µs\n",
      "Wall time: 196 µs\n"
     ]
    }
   ],
   "source": [
    "%time C = A + B "
   ]
  },
  {
   "cell_type": "code",
   "execution_count": 37,
   "id": "herbal-parking",
   "metadata": {},
   "outputs": [],
   "source": [
    "import time \n",
    "\n",
    "# Non-vectorized time \n",
    "start = time.time() \n",
    "\n",
    "C = add_arrays(A, B)\n",
    "\n",
    "end = time.time() \n",
    "non_vec_time = end - start \n",
    "\n",
    "\n",
    "## Vectorized time \n",
    "start = time.time() \n",
    "\n",
    "C = A + B \n",
    "\n",
    "end = time.time() \n",
    "vec_time = end - start \n"
   ]
  },
  {
   "cell_type": "code",
   "execution_count": 38,
   "id": "dedicated-redhead",
   "metadata": {},
   "outputs": [
    {
     "data": {
      "text/plain": [
       "4.1933430678797405"
      ]
     },
     "execution_count": 38,
     "metadata": {},
     "output_type": "execute_result"
    }
   ],
   "source": [
    "vec_time / non_vec_time * 100"
   ]
  },
  {
   "cell_type": "markdown",
   "id": "enabling-remainder",
   "metadata": {},
   "source": [
    "Another simpler example to drive the point home. "
   ]
  },
  {
   "cell_type": "code",
   "execution_count": 39,
   "id": "curious-grocery",
   "metadata": {},
   "outputs": [
    {
     "name": "stdout",
     "output_type": "stream",
     "text": [
      "4999999950000000\n",
      "CPU times: user 16 s, sys: 389 ms, total: 16.4 s\n",
      "Wall time: 17.2 s\n"
     ]
    }
   ],
   "source": [
    "%%time\n",
    "total = 0\n",
    "for i in np.arange(100_000_000): \n",
    "    total += i \n",
    "print(total)"
   ]
  },
  {
   "cell_type": "code",
   "execution_count": 40,
   "id": "grand-virus",
   "metadata": {},
   "outputs": [
    {
     "name": "stdout",
     "output_type": "stream",
     "text": [
      "CPU times: user 8.62 s, sys: 164 ms, total: 8.78 s\n",
      "Wall time: 8.92 s\n"
     ]
    },
    {
     "data": {
      "text/plain": [
       "4999999950000000"
      ]
     },
     "execution_count": 40,
     "metadata": {},
     "output_type": "execute_result"
    }
   ],
   "source": [
    "%time sum(np.arange(100_000_000))"
   ]
  },
  {
   "cell_type": "markdown",
   "id": "considered-grocery",
   "metadata": {},
   "source": [
    "Moral of the story: don't write your own code when performance is an issue. "
   ]
  },
  {
   "cell_type": "code",
   "execution_count": null,
   "id": "downtown-course",
   "metadata": {},
   "outputs": [],
   "source": []
  }
 ],
 "metadata": {
  "kernelspec": {
   "display_name": "Python 3",
   "language": "python",
   "name": "python3"
  },
  "language_info": {
   "codemirror_mode": {
    "name": "ipython",
    "version": 3
   },
   "file_extension": ".py",
   "mimetype": "text/x-python",
   "name": "python",
   "nbconvert_exporter": "python",
   "pygments_lexer": "ipython3",
   "version": "3.8.6"
  },
  "toc-autonumbering": true
 },
 "nbformat": 4,
 "nbformat_minor": 5
}
