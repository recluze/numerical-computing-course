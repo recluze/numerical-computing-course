{
 "cells": [
  {
   "cell_type": "markdown",
   "id": "ready-sharing",
   "metadata": {},
   "source": [
    "# Numpy Intro "
   ]
  },
  {
   "cell_type": "code",
   "execution_count": 183,
   "id": "necessary-metallic",
   "metadata": {},
   "outputs": [
    {
     "data": {
      "text/plain": [
       "<Figure size 432x288 with 0 Axes>"
      ]
     },
     "metadata": {},
     "output_type": "display_data"
    }
   ],
   "source": [
    "%matplotlib inline \n",
    "%run mplimp.py"
   ]
  },
  {
   "cell_type": "code",
   "execution_count": null,
   "id": "reverse-bolivia",
   "metadata": {},
   "outputs": [],
   "source": [
    "import numpy as np"
   ]
  },
  {
   "cell_type": "code",
   "execution_count": null,
   "id": "above-ceramic",
   "metadata": {},
   "outputs": [],
   "source": [
    "np.random.seed(1337)"
   ]
  },
  {
   "cell_type": "markdown",
   "id": "violent-prime",
   "metadata": {},
   "source": [
    "## Basics of Matrices "
   ]
  },
  {
   "cell_type": "code",
   "execution_count": null,
   "id": "acknowledged-exhibit",
   "metadata": {},
   "outputs": [],
   "source": [
    "x = np.array([1, 4, 3])\n",
    "x"
   ]
  },
  {
   "cell_type": "code",
   "execution_count": null,
   "id": "universal-blend",
   "metadata": {},
   "outputs": [],
   "source": [
    "y = np.array([[1, 4, 3], \n",
    "              [9, 2, 7]])\n",
    "y"
   ]
  },
  {
   "cell_type": "code",
   "execution_count": null,
   "id": "varied-quarterly",
   "metadata": {},
   "outputs": [],
   "source": [
    "x.shape"
   ]
  },
  {
   "cell_type": "code",
   "execution_count": null,
   "id": "sexual-boring",
   "metadata": {},
   "outputs": [],
   "source": [
    "y.shape"
   ]
  },
  {
   "cell_type": "code",
   "execution_count": null,
   "id": "gothic-judge",
   "metadata": {},
   "outputs": [],
   "source": [
    "z = np.array([[1, 4, 3]])   # What's the difference? "
   ]
  },
  {
   "cell_type": "code",
   "execution_count": null,
   "id": "complimentary-nightlife",
   "metadata": {},
   "outputs": [],
   "source": [
    "z.shape"
   ]
  },
  {
   "cell_type": "code",
   "execution_count": null,
   "id": "specified-captain",
   "metadata": {},
   "outputs": [],
   "source": [
    "z = np.arange(1, 2000, 1)  # start, end, step\n",
    "z[:10]"
   ]
  },
  {
   "cell_type": "code",
   "execution_count": null,
   "id": "frank-mention",
   "metadata": {},
   "outputs": [],
   "source": [
    "z.shape"
   ]
  },
  {
   "cell_type": "code",
   "execution_count": null,
   "id": "threaded-aside",
   "metadata": {},
   "outputs": [],
   "source": [
    "np.arange(0.5, 3, 0.5)"
   ]
  },
  {
   "cell_type": "code",
   "execution_count": null,
   "id": "essential-generation",
   "metadata": {},
   "outputs": [],
   "source": [
    "np.arange(0.5, 10, 1).shape"
   ]
  },
  {
   "cell_type": "code",
   "execution_count": null,
   "id": "improving-purse",
   "metadata": {},
   "outputs": [],
   "source": [
    "np.arange(0.5, 10, 1).reshape(5, 2).shape"
   ]
  },
  {
   "cell_type": "code",
   "execution_count": null,
   "id": "moving-retrieval",
   "metadata": {},
   "outputs": [],
   "source": [
    "np.arange(0.5, 10, 1).reshape(5, 3).shape  # !! "
   ]
  },
  {
   "cell_type": "code",
   "execution_count": null,
   "id": "false-mississippi",
   "metadata": {},
   "outputs": [],
   "source": [
    "# Evenly spaced but we don't know the step \n",
    "np.linspace(3, 9, 10)"
   ]
  },
  {
   "cell_type": "code",
   "execution_count": null,
   "id": "biological-guide",
   "metadata": {},
   "outputs": [],
   "source": [
    "print(x)\n",
    "print(x[1]) \n",
    "print(x[1:])"
   ]
  },
  {
   "cell_type": "code",
   "execution_count": null,
   "id": "personalized-jonathan",
   "metadata": {},
   "outputs": [],
   "source": [
    "print(y)\n",
    "y[0, 1]   # this is extra in numpy "
   ]
  },
  {
   "cell_type": "code",
   "execution_count": null,
   "id": "oriental-appreciation",
   "metadata": {},
   "outputs": [],
   "source": [
    "y[:, 1]"
   ]
  },
  {
   "cell_type": "code",
   "execution_count": null,
   "id": "cultural-conviction",
   "metadata": {},
   "outputs": [],
   "source": [
    "y[:, [1, 2]]"
   ]
  },
  {
   "cell_type": "markdown",
   "id": "prime-barrel",
   "metadata": {},
   "source": [
    "## Matrix Operations "
   ]
  },
  {
   "cell_type": "code",
   "execution_count": null,
   "id": "reasonable-hypothetical",
   "metadata": {},
   "outputs": [],
   "source": [
    "np.zeros((3, 5))"
   ]
  },
  {
   "cell_type": "code",
   "execution_count": null,
   "id": "designing-undergraduate",
   "metadata": {},
   "outputs": [],
   "source": [
    "np.ones((5, 3))"
   ]
  },
  {
   "cell_type": "code",
   "execution_count": null,
   "id": "flexible-blowing",
   "metadata": {},
   "outputs": [],
   "source": [
    "a = np.arange(1, 7)\n",
    "a"
   ]
  },
  {
   "cell_type": "code",
   "execution_count": null,
   "id": "hired-measure",
   "metadata": {},
   "outputs": [],
   "source": [
    "a.shape"
   ]
  },
  {
   "cell_type": "code",
   "execution_count": null,
   "id": "arbitrary-mayor",
   "metadata": {},
   "outputs": [],
   "source": [
    "a[3] = 7\n",
    "a"
   ]
  },
  {
   "cell_type": "code",
   "execution_count": null,
   "id": "fitted-belize",
   "metadata": {},
   "outputs": [],
   "source": [
    "a[:3] = 1   # Assign to multiple locations \n",
    "a"
   ]
  },
  {
   "cell_type": "code",
   "execution_count": null,
   "id": "acoustic-sample",
   "metadata": {},
   "outputs": [],
   "source": [
    "a[1:4] = [9, 8, 7]\n",
    "a"
   ]
  },
  {
   "cell_type": "code",
   "execution_count": null,
   "id": "raised-reggae",
   "metadata": {},
   "outputs": [],
   "source": [
    "# This is most useful \n",
    "b = np.zeros((2, 2))\n",
    "b[0, 0] = 1\n",
    "b[0, 1] = 2\n",
    "b[1, 1] = 4\n",
    "b"
   ]
  },
  {
   "cell_type": "code",
   "execution_count": null,
   "id": "spare-productivity",
   "metadata": {},
   "outputs": [],
   "source": [
    "b.shape"
   ]
  },
  {
   "cell_type": "markdown",
   "id": "loose-investigation",
   "metadata": {},
   "source": [
    "## Array Operations "
   ]
  },
  {
   "cell_type": "code",
   "execution_count": null,
   "id": "israeli-medium",
   "metadata": {},
   "outputs": [],
   "source": [
    "print(b)"
   ]
  },
  {
   "cell_type": "code",
   "execution_count": null,
   "id": "radio-playback",
   "metadata": {},
   "outputs": [],
   "source": [
    "b + 2"
   ]
  },
  {
   "cell_type": "code",
   "execution_count": null,
   "id": "secondary-asbestos",
   "metadata": {},
   "outputs": [],
   "source": [
    "2 * b"
   ]
  },
  {
   "cell_type": "code",
   "execution_count": null,
   "id": "spectacular-enlargement",
   "metadata": {},
   "outputs": [],
   "source": [
    "b ** 2"
   ]
  },
  {
   "cell_type": "code",
   "execution_count": null,
   "id": "binary-affairs",
   "metadata": {},
   "outputs": [],
   "source": [
    "sum(b)"
   ]
  },
  {
   "cell_type": "code",
   "execution_count": null,
   "id": "everyday-elements",
   "metadata": {},
   "outputs": [],
   "source": [
    "b.sum()"
   ]
  },
  {
   "cell_type": "code",
   "execution_count": null,
   "id": "generic-analyst",
   "metadata": {},
   "outputs": [],
   "source": [
    "b.sum(axis=0)"
   ]
  },
  {
   "cell_type": "code",
   "execution_count": null,
   "id": "pretty-albert",
   "metadata": {},
   "outputs": [],
   "source": [
    "b.sum(axis=1)"
   ]
  },
  {
   "cell_type": "code",
   "execution_count": null,
   "id": "olympic-opposition",
   "metadata": {},
   "outputs": [],
   "source": [
    "b = np.array([[1, 2], [3, 4]])\n",
    "d = np.array([[3, 4], [5, 6]])"
   ]
  },
  {
   "cell_type": "code",
   "execution_count": null,
   "id": "female-static",
   "metadata": {},
   "outputs": [],
   "source": [
    "print(b) \n",
    "print(d)"
   ]
  },
  {
   "cell_type": "code",
   "execution_count": null,
   "id": "magnetic-error",
   "metadata": {},
   "outputs": [],
   "source": [
    "b + d "
   ]
  },
  {
   "cell_type": "code",
   "execution_count": null,
   "id": "imported-drill",
   "metadata": {},
   "outputs": [],
   "source": [
    "b * d     # what operation is this? "
   ]
  },
  {
   "cell_type": "code",
   "execution_count": null,
   "id": "nasty-johns",
   "metadata": {},
   "outputs": [],
   "source": [
    "b.dot(d)  # and this? "
   ]
  },
  {
   "cell_type": "code",
   "execution_count": null,
   "id": "frequent-debate",
   "metadata": {},
   "outputs": [],
   "source": [
    "b ** d "
   ]
  },
  {
   "cell_type": "code",
   "execution_count": null,
   "id": "nonprofit-nickel",
   "metadata": {},
   "outputs": [],
   "source": [
    "b.T"
   ]
  },
  {
   "cell_type": "code",
   "execution_count": null,
   "id": "selected-literacy",
   "metadata": {},
   "outputs": [],
   "source": [
    "# Numpy has \"broadcasting\" or \"mapping\" functions \n",
    "print(np.sqrt(36))\n",
    "\n",
    "# works on both scalars and arrays \n",
    "x = [1, 4, 9, 16]\n",
    "np.sqrt(x)"
   ]
  },
  {
   "cell_type": "code",
   "execution_count": null,
   "id": "knowing-concrete",
   "metadata": {},
   "outputs": [],
   "source": [
    "# Checking conditions \n",
    "x = np.array([1, 2, 4, 5, 9, 3])\n",
    "y = np.array([0, 2, 3, 1, 2, 3])"
   ]
  },
  {
   "cell_type": "code",
   "execution_count": null,
   "id": "biblical-safety",
   "metadata": {},
   "outputs": [],
   "source": [
    "x > 3 "
   ]
  },
  {
   "cell_type": "code",
   "execution_count": null,
   "id": "conceptual-master",
   "metadata": {},
   "outputs": [],
   "source": [
    "x > y "
   ]
  },
  {
   "cell_type": "markdown",
   "id": "attractive-experiment",
   "metadata": {},
   "source": [
    "## Measures of Vector Lengths"
   ]
  },
  {
   "cell_type": "markdown",
   "id": "extra-generation",
   "metadata": {},
   "source": [
    "The **norm** of a vector defines a measure of it's length. It depends on what measure you're interested in. Let's first see those measures very briefly. "
   ]
  },
  {
   "cell_type": "markdown",
   "id": "correct-taiwan",
   "metadata": {},
   "source": [
    "### Euclidean Distance "
   ]
  },
  {
   "cell_type": "markdown",
   "id": "published-cancer",
   "metadata": {},
   "source": [
    "Euclidean distance is what you would be familiar with from your early education. (Remember Pythogoras.)\n",
    "\n",
    "\n",
    "Distance between two points $(x_1, y_1)$ and $x_2, y_2)$ is given as $\\sqrt{(x_2 - x_1)^2 + (y_2 - y_1)^2}$. "
   ]
  },
  {
   "cell_type": "markdown",
   "id": "baking-reminder",
   "metadata": {},
   "source": [
    "Let's view the notebook for details about this. "
   ]
  },
  {
   "cell_type": "markdown",
   "id": "emerging-seattle",
   "metadata": {},
   "source": [
    "# Misc Operations with Numpy"
   ]
  },
  {
   "cell_type": "code",
   "execution_count": null,
   "id": "assisted-accountability",
   "metadata": {},
   "outputs": [],
   "source": [
    "import math\n",
    "def basic_sigmoid(x):\n",
    "    \"\"\"\n",
    "    Compute sigmoid of x.\n",
    "\n",
    "    Arguments:\n",
    "    x -- A scalar\n",
    "\n",
    "    Return:\n",
    "    s -- sigmoid(x)\n",
    "    \"\"\"\n",
    "    \n",
    "    ### START CODE HERE ### (≈ 1 line of code)\n",
    "    s = 1./(1. + math.e ** (-x))\n",
    "    ### END CODE HERE ###\n",
    "    \n",
    "    return s"
   ]
  },
  {
   "cell_type": "code",
   "execution_count": null,
   "id": "chronic-review",
   "metadata": {},
   "outputs": [],
   "source": [
    "basic_sigmoid(-1)"
   ]
  },
  {
   "cell_type": "code",
   "execution_count": null,
   "id": "outside-local",
   "metadata": {},
   "outputs": [],
   "source": [
    "basic_sigmoid(0)"
   ]
  },
  {
   "cell_type": "code",
   "execution_count": null,
   "id": "signed-blowing",
   "metadata": {},
   "outputs": [],
   "source": [
    "x = [-1, 0, 3]\n",
    "basic_sigmoid(x)   # Why"
   ]
  },
  {
   "cell_type": "code",
   "execution_count": 1,
   "id": "subject-publicity",
   "metadata": {},
   "outputs": [
    {
     "ename": "NameError",
     "evalue": "name 'basic_sigmoid' is not defined",
     "output_type": "error",
     "traceback": [
      "\u001b[0;31m---------------------------------------------------------------------------\u001b[0m",
      "\u001b[0;31mNameError\u001b[0m                                 Traceback (most recent call last)",
      "\u001b[0;32m<ipython-input-1-3d52f3b6065f>\u001b[0m in \u001b[0;36m<module>\u001b[0;34m\u001b[0m\n\u001b[1;32m      3\u001b[0m \u001b[0mx\u001b[0m \u001b[0;34m=\u001b[0m \u001b[0;34m[\u001b[0m\u001b[0;34m-\u001b[0m\u001b[0;36m1\u001b[0m\u001b[0;34m,\u001b[0m \u001b[0;36m0\u001b[0m\u001b[0;34m,\u001b[0m \u001b[0;36m3\u001b[0m\u001b[0;34m]\u001b[0m\u001b[0;34m\u001b[0m\u001b[0;34m\u001b[0m\u001b[0m\n\u001b[1;32m      4\u001b[0m \u001b[0mx\u001b[0m \u001b[0;34m=\u001b[0m \u001b[0mnp\u001b[0m\u001b[0;34m.\u001b[0m\u001b[0marray\u001b[0m\u001b[0;34m(\u001b[0m\u001b[0mx\u001b[0m\u001b[0;34m)\u001b[0m\u001b[0;34m\u001b[0m\u001b[0;34m\u001b[0m\u001b[0m\n\u001b[0;32m----> 5\u001b[0;31m \u001b[0mbasic_sigmoid\u001b[0m\u001b[0;34m(\u001b[0m\u001b[0mx\u001b[0m\u001b[0;34m)\u001b[0m\u001b[0;34m\u001b[0m\u001b[0;34m\u001b[0m\u001b[0m\n\u001b[0m",
      "\u001b[0;31mNameError\u001b[0m: name 'basic_sigmoid' is not defined"
     ]
    }
   ],
   "source": [
    "import numpy as np\n",
    "\n",
    "x = [-1, 0, 3]\n",
    "x = np.array(x)\n",
    "basic_sigmoid(x)"
   ]
  },
  {
   "cell_type": "markdown",
   "id": "local-christian",
   "metadata": {},
   "source": [
    "## Broadcasting "
   ]
  },
  {
   "cell_type": "code",
   "execution_count": null,
   "id": "employed-courage",
   "metadata": {},
   "outputs": [],
   "source": [
    "# What is broadcasting? \n",
    "x = np.array([1, 2, 3])\n",
    "x * 3  # This makes sense "
   ]
  },
  {
   "cell_type": "code",
   "execution_count": null,
   "id": "thick-filename",
   "metadata": {},
   "outputs": [],
   "source": [
    "x + 3   # Does this? "
   ]
  },
  {
   "cell_type": "markdown",
   "id": "confidential-explosion",
   "metadata": {},
   "source": [
    "Generl rule: Two dimensions are compatible when\n",
    "\n",
    "* they are equal, or\n",
    "\n",
    "* one of them is 1\n"
   ]
  },
  {
   "cell_type": "code",
   "execution_count": 26,
   "id": "south-peeing",
   "metadata": {},
   "outputs": [
    {
     "name": "stdout",
     "output_type": "stream",
     "text": [
      "x =   [0 1 2 3]\n",
      "xx =  [[0]\n",
      " [1]\n",
      " [2]\n",
      " [3]]\n",
      "y =   [1. 1. 1. 1. 1.]\n",
      "Shapes: \n",
      "(4,)\n",
      "(4, 1)\n",
      "(5,)\n"
     ]
    }
   ],
   "source": [
    "x = np.arange(4)\n",
    "xx = x.reshape(4, 1)\n",
    "y = np.ones(5)\n",
    "z = np.ones((3,4))\n",
    "\n",
    "print(\"x =  \", x)\n",
    "print(\"xx = \", xx) \n",
    "print(\"y =  \", y)\n",
    "\n",
    "print(\"Shapes: \") \n",
    "print(x.shape)\n",
    "print(xx.shape)\n",
    "print(y.shape)"
   ]
  },
  {
   "cell_type": "code",
   "execution_count": 16,
   "id": "tired-seventh",
   "metadata": {},
   "outputs": [
    {
     "ename": "ValueError",
     "evalue": "operands could not be broadcast together with shapes (4,) (5,) ",
     "output_type": "error",
     "traceback": [
      "\u001b[0;31m---------------------------------------------------------------------------\u001b[0m",
      "\u001b[0;31mValueError\u001b[0m                                Traceback (most recent call last)",
      "\u001b[0;32m<ipython-input-16-7a5faf28ff71>\u001b[0m in \u001b[0;36m<module>\u001b[0;34m\u001b[0m\n\u001b[0;32m----> 1\u001b[0;31m \u001b[0mx\u001b[0m \u001b[0;34m+\u001b[0m \u001b[0my\u001b[0m\u001b[0;34m\u001b[0m\u001b[0;34m\u001b[0m\u001b[0m\n\u001b[0m",
      "\u001b[0;31mValueError\u001b[0m: operands could not be broadcast together with shapes (4,) (5,) "
     ]
    }
   ],
   "source": [
    "x + y    # does not work "
   ]
  },
  {
   "cell_type": "code",
   "execution_count": 17,
   "id": "drawn-ozone",
   "metadata": {},
   "outputs": [
    {
     "data": {
      "text/plain": [
       "(4, 1)"
      ]
     },
     "execution_count": 17,
     "metadata": {},
     "output_type": "execute_result"
    }
   ],
   "source": [
    "xx.shape"
   ]
  },
  {
   "cell_type": "code",
   "execution_count": 18,
   "id": "varying-mexico",
   "metadata": {},
   "outputs": [
    {
     "data": {
      "text/plain": [
       "array([[1., 1., 1., 1., 1.],\n",
       "       [2., 2., 2., 2., 2.],\n",
       "       [3., 3., 3., 3., 3.],\n",
       "       [4., 4., 4., 4., 4.]])"
      ]
     },
     "execution_count": 18,
     "metadata": {},
     "output_type": "execute_result"
    }
   ],
   "source": [
    "xx + y       # y is broadcast over the rows of xx "
   ]
  },
  {
   "cell_type": "code",
   "execution_count": 28,
   "id": "romantic-lawrence",
   "metadata": {},
   "outputs": [
    {
     "data": {
      "text/plain": [
       "array([2., 2., 2., 2., 2.])"
      ]
     },
     "execution_count": 28,
     "metadata": {},
     "output_type": "execute_result"
    }
   ],
   "source": [
    "np.array([1]) + y      # element is broadcast over y "
   ]
  },
  {
   "cell_type": "code",
   "execution_count": 31,
   "id": "fifty-hebrew",
   "metadata": {},
   "outputs": [
    {
     "name": "stdout",
     "output_type": "stream",
     "text": [
      "[[1. 1. 1. 1.]\n",
      " [1. 1. 1. 1.]\n",
      " [1. 1. 1. 1.]]\n"
     ]
    },
    {
     "data": {
      "text/plain": [
       "(3, 4)"
      ]
     },
     "execution_count": 31,
     "metadata": {},
     "output_type": "execute_result"
    }
   ],
   "source": [
    "print(z)\n",
    "z.shape"
   ]
  },
  {
   "cell_type": "code",
   "execution_count": 37,
   "id": "distinct-penny",
   "metadata": {},
   "outputs": [],
   "source": [
    "a = np.array([[ 0.0 , 0.0,  0.0  ],\n",
    "              [ 10.0, 10.0, 10.0 ],\n",
    "              [ 20.0, 20.0, 20.0 ],\n",
    "              [ 30.0, 30.0, 30.0 ]])\n",
    "\n",
    "b = np.array( [ 1.0,  2.0,  3.0  ] )  "
   ]
  },
  {
   "cell_type": "code",
   "execution_count": 38,
   "id": "legal-carbon",
   "metadata": {},
   "outputs": [
    {
     "data": {
      "text/plain": [
       "array([[ 1.,  2.,  3.],\n",
       "       [11., 12., 13.],\n",
       "       [21., 22., 23.],\n",
       "       [31., 32., 33.]])"
      ]
     },
     "execution_count": 38,
     "metadata": {},
     "output_type": "execute_result"
    }
   ],
   "source": [
    "a + b "
   ]
  },
  {
   "cell_type": "code",
   "execution_count": 47,
   "id": "interested-circumstances",
   "metadata": {},
   "outputs": [],
   "source": [
    "a = np.array([[ 0.0 , 0.0,  0.0  , 0.0  ],\n",
    "              [ 10.0, 10.0, 10.0 , 10.0 ],\n",
    "              [ 20.0, 20.0, 20.0 , 20.0 ],\n",
    "              [ 30.0, 30.0, 30.0 , 30.0 ]])\n",
    "\n",
    "b = np.array( [ 1.0,  2.0] )  "
   ]
  },
  {
   "cell_type": "code",
   "execution_count": 48,
   "id": "closing-landing",
   "metadata": {},
   "outputs": [
    {
     "ename": "ValueError",
     "evalue": "operands could not be broadcast together with shapes (4,4) (2,) ",
     "output_type": "error",
     "traceback": [
      "\u001b[0;31m---------------------------------------------------------------------------\u001b[0m",
      "\u001b[0;31mValueError\u001b[0m                                Traceback (most recent call last)",
      "\u001b[0;32m<ipython-input-48-bd58363a63fc>\u001b[0m in \u001b[0;36m<module>\u001b[0;34m\u001b[0m\n\u001b[0;32m----> 1\u001b[0;31m \u001b[0ma\u001b[0m \u001b[0;34m+\u001b[0m \u001b[0mb\u001b[0m\u001b[0;34m\u001b[0m\u001b[0;34m\u001b[0m\u001b[0m\n\u001b[0m",
      "\u001b[0;31mValueError\u001b[0m: operands could not be broadcast together with shapes (4,4) (2,) "
     ]
    }
   ],
   "source": [
    "a + b"
   ]
  },
  {
   "cell_type": "code",
   "execution_count": 49,
   "id": "electronic-dining",
   "metadata": {},
   "outputs": [],
   "source": [
    "a = np.array( [ 0.0, 10.0, 20.0, 30.0 ] )\n",
    "b = np.array( [ 1.0, 2.0,  3.0 ]        )"
   ]
  },
  {
   "cell_type": "code",
   "execution_count": 50,
   "id": "dried-apartment",
   "metadata": {},
   "outputs": [
    {
     "ename": "ValueError",
     "evalue": "operands could not be broadcast together with shapes (4,) (3,) ",
     "output_type": "error",
     "traceback": [
      "\u001b[0;31m---------------------------------------------------------------------------\u001b[0m",
      "\u001b[0;31mValueError\u001b[0m                                Traceback (most recent call last)",
      "\u001b[0;32m<ipython-input-50-3eeda88fa98e>\u001b[0m in \u001b[0;36m<module>\u001b[0;34m\u001b[0m\n\u001b[0;32m----> 1\u001b[0;31m \u001b[0ma\u001b[0m \u001b[0;34m+\u001b[0m \u001b[0mb\u001b[0m\u001b[0;34m\u001b[0m\u001b[0;34m\u001b[0m\u001b[0m\n\u001b[0m",
      "\u001b[0;31mValueError\u001b[0m: operands could not be broadcast together with shapes (4,) (3,) "
     ]
    }
   ],
   "source": [
    "a + b    # can't broadcast "
   ]
  },
  {
   "cell_type": "code",
   "execution_count": 53,
   "id": "wired-vancouver",
   "metadata": {},
   "outputs": [
    {
     "name": "stdout",
     "output_type": "stream",
     "text": [
      "(4,) (3,)\n"
     ]
    }
   ],
   "source": [
    "print(a.shape, b.shape)"
   ]
  },
  {
   "cell_type": "code",
   "execution_count": 51,
   "id": "successful-sailing",
   "metadata": {},
   "outputs": [],
   "source": [
    "a1 = a.reshape(4, 1)"
   ]
  },
  {
   "cell_type": "code",
   "execution_count": 52,
   "id": "metallic-evanescence",
   "metadata": {},
   "outputs": [
    {
     "data": {
      "text/plain": [
       "array([[ 1.,  2.,  3.],\n",
       "       [11., 12., 13.],\n",
       "       [21., 22., 23.],\n",
       "       [31., 32., 33.]])"
      ]
     },
     "execution_count": 52,
     "metadata": {},
     "output_type": "execute_result"
    }
   ],
   "source": [
    "a1 + b "
   ]
  },
  {
   "cell_type": "code",
   "execution_count": 54,
   "id": "blessed-symbol",
   "metadata": {},
   "outputs": [
    {
     "name": "stdout",
     "output_type": "stream",
     "text": [
      "(4, 1) (3,)\n"
     ]
    }
   ],
   "source": [
    "print(a1.shape, b.shape)"
   ]
  },
  {
   "cell_type": "code",
   "execution_count": 56,
   "id": "public-feedback",
   "metadata": {},
   "outputs": [
    {
     "name": "stdout",
     "output_type": "stream",
     "text": [
      "[[ 0.]\n",
      " [10.]\n",
      " [20.]\n",
      " [30.]]\n"
     ]
    }
   ],
   "source": [
    "print(a1)"
   ]
  },
  {
   "cell_type": "markdown",
   "id": "impaired-country",
   "metadata": {},
   "source": [
    "## Normalizing Rows and Columns "
   ]
  },
  {
   "cell_type": "markdown",
   "id": "connected-gamma",
   "metadata": {},
   "source": [
    "Often, we wish to normalize value of a row to fall within a specific range. "
   ]
  },
  {
   "cell_type": "code",
   "execution_count": 85,
   "id": "accompanied-johnston",
   "metadata": {},
   "outputs": [],
   "source": [
    "x = np.array([ [ 0, 3, 4 ],\n",
    "               [ 1, 6, 4 ] ])"
   ]
  },
  {
   "cell_type": "code",
   "execution_count": 93,
   "id": "deluxe-practice",
   "metadata": {},
   "outputs": [
    {
     "name": "stdout",
     "output_type": "stream",
     "text": [
      "[4 6]\n"
     ]
    }
   ],
   "source": [
    "x_norm = np.amax(x, axis=1)   # get row-wise max \n",
    "print(x_norm)"
   ]
  },
  {
   "cell_type": "code",
   "execution_count": 94,
   "id": "proprietary-tuner",
   "metadata": {},
   "outputs": [
    {
     "ename": "ValueError",
     "evalue": "operands could not be broadcast together with shapes (2,3) (2,) ",
     "output_type": "error",
     "traceback": [
      "\u001b[0;31m---------------------------------------------------------------------------\u001b[0m",
      "\u001b[0;31mValueError\u001b[0m                                Traceback (most recent call last)",
      "\u001b[0;32m<ipython-input-94-13cb47700522>\u001b[0m in \u001b[0;36m<module>\u001b[0;34m\u001b[0m\n\u001b[0;32m----> 1\u001b[0;31m \u001b[0mx\u001b[0m \u001b[0;34m/\u001b[0m \u001b[0mx_norm\u001b[0m     \u001b[0;31m# this does not work. Why?\u001b[0m\u001b[0;34m\u001b[0m\u001b[0;34m\u001b[0m\u001b[0m\n\u001b[0m",
      "\u001b[0;31mValueError\u001b[0m: operands could not be broadcast together with shapes (2,3) (2,) "
     ]
    }
   ],
   "source": [
    "x / x_norm     # this does not work. Why? "
   ]
  },
  {
   "cell_type": "code",
   "execution_count": 95,
   "id": "helpful-beauty",
   "metadata": {},
   "outputs": [
    {
     "name": "stdout",
     "output_type": "stream",
     "text": [
      "(2, 3)\n",
      "(2,)\n"
     ]
    }
   ],
   "source": [
    "print(x.shape)\n",
    "print(x_norm.shape)"
   ]
  },
  {
   "cell_type": "code",
   "execution_count": 96,
   "id": "caroline-folder",
   "metadata": {},
   "outputs": [],
   "source": [
    "x_norm = x_norm.reshape(2, 1)"
   ]
  },
  {
   "cell_type": "code",
   "execution_count": 97,
   "id": "circular-warner",
   "metadata": {},
   "outputs": [
    {
     "data": {
      "text/plain": [
       "array([[0.        , 0.75      , 1.        ],\n",
       "       [0.16666667, 1.        , 0.66666667]])"
      ]
     },
     "execution_count": 97,
     "metadata": {},
     "output_type": "execute_result"
    }
   ],
   "source": [
    "x / x_norm"
   ]
  },
  {
   "cell_type": "code",
   "execution_count": 98,
   "id": "vocational-peter",
   "metadata": {},
   "outputs": [
    {
     "data": {
      "text/plain": [
       "array([[0.        , 0.6       , 0.8       ],\n",
       "       [0.13736056, 0.82416338, 0.54944226]])"
      ]
     },
     "execution_count": 98,
     "metadata": {},
     "output_type": "execute_result"
    }
   ],
   "source": [
    "# We can also use another normalization method \n",
    "x = np.array([ [ 0, 3, 4 ],\n",
    "               [ 1, 6, 4 ] ])\n",
    "\n",
    "# no need to reshape again \n",
    "x_norm = np.linalg.norm(x, ord = 2, axis = 1, keepdims = True) \n",
    "x / x_norm"
   ]
  },
  {
   "cell_type": "markdown",
   "id": "arabic-advantage",
   "metadata": {},
   "source": [
    "## Reshaping Revisited "
   ]
  },
  {
   "cell_type": "markdown",
   "id": "third-furniture",
   "metadata": {},
   "source": [
    "Pay attention to the tensor below! "
   ]
  },
  {
   "cell_type": "code",
   "execution_count": 184,
   "id": "available-romance",
   "metadata": {},
   "outputs": [],
   "source": [
    "i = np.array([\n",
    "    [  [ 0.1,  0.1,  0.9 ], [ 0.2,  0.1,  0.9 ], [ 0.3,  0.1,  0.9 ]  ],\n",
    "    \n",
    "    [  [ 0.1,  0.2,  0.9 ], [ 0.2,  0.2,  0.9 ], [ 0.3,  0.2,  0.9 ]  ],\n",
    "\n",
    "    [  [ 0.1,  0.3,  0.9 ], [ 0.2,  0.3,  0.9 ], [ 0.3,  0.3,  0.9 ]  ], \n",
    "    \n",
    "    [  [ 0.1,  0.4,  0.9 ], [ 0.2,  0.4,  0.9 ], [ 0.3,  0.4,  0.9 ]  ]\n",
    "\n",
    "])"
   ]
  },
  {
   "cell_type": "code",
   "execution_count": 185,
   "id": "metric-sellers",
   "metadata": {},
   "outputs": [
    {
     "data": {
      "text/plain": [
       "(4, 3, 3)"
      ]
     },
     "execution_count": 185,
     "metadata": {},
     "output_type": "execute_result"
    }
   ],
   "source": [
    "i.shape"
   ]
  },
  {
   "cell_type": "code",
   "execution_count": 186,
   "id": "alert-classics",
   "metadata": {},
   "outputs": [],
   "source": [
    "%matplotlib inline \n",
    "import matplotlib.pyplot as plt\n",
    "import numpy as np"
   ]
  },
  {
   "cell_type": "code",
   "execution_count": 187,
   "id": "textile-outdoors",
   "metadata": {},
   "outputs": [
    {
     "data": {
      "text/plain": [
       "<matplotlib.image.AxesImage at 0x125fca160>"
      ]
     },
     "execution_count": 187,
     "metadata": {},
     "output_type": "execute_result"
    },
    {
     "data": {
      "image/png": "[encoded data removed]",
      "text/plain": [
       "<Figure size 432x288 with 1 Axes>"
      ]
     },
     "metadata": {
      "needs_background": "dark"
     },
     "output_type": "display_data"
    }
   ],
   "source": [
    "plt.imshow(i, interpolation='nearest')"
   ]
  },
  {
   "cell_type": "code",
   "execution_count": 180,
   "id": "gross-diana",
   "metadata": {},
   "outputs": [
    {
     "data": {
      "text/plain": [
       "array([0.1, 0.1, 0.9, 0.2, 0.1, 0.9, 0.3, 0.1, 0.9, 0.1, 0.2, 0.9, 0.2,\n",
       "       0.2, 0.9, 0.3, 0.2, 0.9, 0.1, 0.3, 0.9, 0.2, 0.3, 0.9, 0.3, 0.3,\n",
       "       0.9, 0.1, 0.4, 0.9, 0.2, 0.4, 0.9, 0.3, 0.4, 0.9])"
      ]
     },
     "execution_count": 180,
     "metadata": {},
     "output_type": "execute_result"
    }
   ],
   "source": [
    "i.reshape(36)    # we get a column \"vector\""
   ]
  },
  {
   "cell_type": "code",
   "execution_count": 182,
   "id": "lined-irish",
   "metadata": {},
   "outputs": [
    {
     "name": "stdout",
     "output_type": "stream",
     "text": [
      "(4, 3, 3)\n"
     ]
    },
    {
     "data": {
      "text/plain": [
       "array([[0.1],\n",
       "       [0.1],\n",
       "       [0.9],\n",
       "       [0.2],\n",
       "       [0.1],\n",
       "       [0.9],\n",
       "       [0.3],\n",
       "       [0.1],\n",
       "       [0.9],\n",
       "       [0.1],\n",
       "       [0.2],\n",
       "       [0.9],\n",
       "       [0.2],\n",
       "       [0.2],\n",
       "       [0.9],\n",
       "       [0.3],\n",
       "       [0.2],\n",
       "       [0.9],\n",
       "       [0.1],\n",
       "       [0.3],\n",
       "       [0.9],\n",
       "       [0.2],\n",
       "       [0.3],\n",
       "       [0.9],\n",
       "       [0.3],\n",
       "       [0.3],\n",
       "       [0.9],\n",
       "       [0.1],\n",
       "       [0.4],\n",
       "       [0.9],\n",
       "       [0.2],\n",
       "       [0.4],\n",
       "       [0.9],\n",
       "       [0.3],\n",
       "       [0.4],\n",
       "       [0.9]])"
      ]
     },
     "execution_count": 182,
     "metadata": {},
     "output_type": "execute_result"
    }
   ],
   "source": [
    "print(i.shape)\n",
    "i_sh = i.shape\n",
    "i.reshape(i_sh[0] * i_sh[1] * i_sh[2], 1)  # Also known as \"flattening\""
   ]
  },
  {
   "cell_type": "markdown",
   "id": "acoustic-philip",
   "metadata": {},
   "source": [
    "## Vectorization "
   ]
  },
  {
   "cell_type": "code",
   "execution_count": null,
   "id": "specialized-greenhouse",
   "metadata": {},
   "outputs": [],
   "source": [
    "dim = 10    # try increasing this after running experiment"
   ]
  },
  {
   "cell_type": "code",
   "execution_count": null,
   "id": "interested-sarah",
   "metadata": {},
   "outputs": [],
   "source": [
    "A = np.random.rand(dim, dim)\n",
    "B = np.random.rand(dim, dim)"
   ]
  },
  {
   "cell_type": "code",
   "execution_count": null,
   "id": "macro-trinidad",
   "metadata": {},
   "outputs": [],
   "source": [
    "A[0].size, A[1].size"
   ]
  },
  {
   "cell_type": "code",
   "execution_count": null,
   "id": "forced-summit",
   "metadata": {},
   "outputs": [],
   "source": [
    "def add_arrays(A, B): \n",
    "    C = np.zeros((A[0].size, A[1].size))\n",
    "    \n",
    "    for i in range(A[0].size): \n",
    "        for j in range(A[1].size): \n",
    "            C[i, j] = A[i, j] + B[i, j]\n",
    "    return C "
   ]
  },
  {
   "cell_type": "code",
   "execution_count": null,
   "id": "superior-northwest",
   "metadata": {},
   "outputs": [],
   "source": [
    "%time C = add_arrays(A, B)"
   ]
  },
  {
   "cell_type": "code",
   "execution_count": null,
   "id": "external-broadcasting",
   "metadata": {},
   "outputs": [],
   "source": [
    "%time C = A + B "
   ]
  },
  {
   "cell_type": "code",
   "execution_count": null,
   "id": "palestinian-moderator",
   "metadata": {},
   "outputs": [],
   "source": [
    "import time \n",
    "\n",
    "# Non-vectorized time \n",
    "start = time.time() \n",
    "\n",
    "C = add_arrays(A, B)\n",
    "\n",
    "end = time.time() \n",
    "non_vec_time = end - start \n",
    "\n",
    "\n",
    "## Vectorized time \n",
    "start = time.time() \n",
    "\n",
    "C = A + B \n",
    "\n",
    "end = time.time() \n",
    "vec_time = end - start \n"
   ]
  },
  {
   "cell_type": "code",
   "execution_count": null,
   "id": "premium-fellow",
   "metadata": {},
   "outputs": [],
   "source": [
    "vec_time / non_vec_time * 100"
   ]
  },
  {
   "cell_type": "markdown",
   "id": "unsigned-netherlands",
   "metadata": {},
   "source": [
    "Another simpler example to drive the point home. "
   ]
  },
  {
   "cell_type": "code",
   "execution_count": 8,
   "id": "sealed-brown",
   "metadata": {},
   "outputs": [
    {
     "name": "stdout",
     "output_type": "stream",
     "text": [
      "4999999950000000\n",
      "CPU times: user 10.1 s, sys: 109 ms, total: 10.2 s\n",
      "Wall time: 10.2 s\n"
     ]
    }
   ],
   "source": [
    "%%time\n",
    "total = 0\n",
    "for i in np.arange(100_000_000): \n",
    "    total += i \n",
    "print(total)"
   ]
  },
  {
   "cell_type": "code",
   "execution_count": 9,
   "id": "loving-target",
   "metadata": {},
   "outputs": [
    {
     "name": "stdout",
     "output_type": "stream",
     "text": [
      "CPU times: user 4.08 s, sys: 72.9 ms, total: 4.15 s\n",
      "Wall time: 4.15 s\n"
     ]
    },
    {
     "data": {
      "text/plain": [
       "4999999950000000"
      ]
     },
     "execution_count": 9,
     "metadata": {},
     "output_type": "execute_result"
    }
   ],
   "source": [
    "%time sum(np.arange(100_000_000))"
   ]
  },
  {
   "cell_type": "markdown",
   "id": "requested-swimming",
   "metadata": {},
   "source": [
    "Moral of the story: don't write your own code when performance is an issue. "
   ]
  },
  {
   "cell_type": "code",
   "execution_count": null,
   "id": "direct-armor",
   "metadata": {},
   "outputs": [],
   "source": []
  }
 ],
 "metadata": {
  "kernelspec": {
   "display_name": "Python 3",
   "language": "python",
   "name": "python3"
  },
  "language_info": {
   "codemirror_mode": {
    "name": "ipython",
    "version": 3
   },
   "file_extension": ".py",
   "mimetype": "text/x-python",
   "name": "python",
   "nbconvert_exporter": "python",
   "pygments_lexer": "ipython3",
   "version": "3.8.6"
  },
  "toc-autonumbering": true
 },
 "nbformat": 4,
 "nbformat_minor": 5
}
