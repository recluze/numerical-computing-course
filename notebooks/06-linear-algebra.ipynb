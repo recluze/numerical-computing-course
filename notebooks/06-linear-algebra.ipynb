{
 "cells": [
  {
   "cell_type": "markdown",
   "id": "metropolitan-illustration",
   "metadata": {},
   "source": [
    "# Linear Algebra Basics"
   ]
  },
  {
   "cell_type": "markdown",
   "id": "distinguished-yorkshire",
   "metadata": {},
   "source": [
    "## Why Study Linear Algebra? "
   ]
  },
  {
   "cell_type": "markdown",
   "id": "falling-housing",
   "metadata": {},
   "source": [
    "Think of Linear Algebra as basic operatons on vectors and matrices. \n",
    "\n",
    "You've seen how we can represent groups of numbers in vectors and matrices. This makes them easier to manage. But once we do that, we need to be able to decide what *add*, *subtract*, *multiply* etc. mean on these \"numbers\". \n",
    "\n",
    "So, we learn Linear Algebra so that we can do basic maths on these \"numbers\". We'll see examples of parallels here in a while. "
   ]
  },
  {
   "cell_type": "markdown",
   "id": "interesting-crest",
   "metadata": {},
   "source": [
    "## Vectors "
   ]
  },
  {
   "cell_type": "markdown",
   "id": "nervous-combination",
   "metadata": {},
   "source": [
    "A **vector** in ${\\mathbb{R}}^n$ is an $n$-tuple.  They can be *horizontal* and are called **row vectors** or vertical in which case they are called **column vectors** (the default)."
   ]
  },
  {
   "cell_type": "markdown",
   "id": "running-rally",
   "metadata": {},
   "source": [
    "We created and looked at basic vectors in the numpy intro. "
   ]
  },
  {
   "cell_type": "markdown",
   "id": "advanced-interstate",
   "metadata": {},
   "source": [
    "## Vector Norm"
   ]
  },
  {
   "cell_type": "markdown",
   "id": "scheduled-hybrid",
   "metadata": {},
   "source": [
    "The **norm** of a vector is a measure of its length. There are many ways of defining the length of a vector depending on the metric used (i.e., the distance formula chosen). So, let's take a look at some distance formulae first. "
   ]
  },
  {
   "cell_type": "markdown",
   "id": "green-variety",
   "metadata": {},
   "source": [
    "### Euclidean Distance "
   ]
  },
  {
   "cell_type": "markdown",
   "id": "cellular-hungarian",
   "metadata": {},
   "source": [
    "Euclidean distance is what you are already familiar with. The Euclidean distance between two points $(x_1, y_1)$ and $(x_2, y_2)$ is given as: \n",
    "\n",
    "$$ \n",
    "\\sqrt{(x_2 - x_1)^2 + (y_2 - y_1)^2}\n",
    "$$"
   ]
  },
  {
   "cell_type": "markdown",
   "id": "figured-horizontal",
   "metadata": {},
   "source": [
    "Visually, this would look like (see notebook for this).  "
   ]
  },
  {
   "cell_type": "markdown",
   "id": "integral-tampa",
   "metadata": {},
   "source": [
    "If we take any vector and take it's x- and y-coordinates as its components, we can redefine the above like so:"
   ]
  },
  {
   "cell_type": "markdown",
   "id": "simple-standing",
   "metadata": {},
   "source": [
    "This length is then called the *L-2 Norm* of the vector -- the stuff you know as the magnitude. The specific formula then is: \n",
    "\n",
    "$$\\Vert v \\Vert_{2} = \\sqrt{\\sum_i v_i^2}$$\n",
    "\n",
    "where $v_i$ are the elements of the vector $v$."
   ]
  },
  {
   "cell_type": "markdown",
   "id": "honey-isolation",
   "metadata": {},
   "source": [
    "### Manhattan Distance "
   ]
  },
  {
   "cell_type": "markdown",
   "id": "particular-camcorder",
   "metadata": {},
   "source": [
    "What happens if we don't square the values? It doesn't make sense in the pythogarean sense of the value but sometimes, it is quite useful.\n",
    "\n",
    "Let's first see what the Manhattan distance between two points is. "
   ]
  },
  {
   "cell_type": "markdown",
   "id": "contemporary-olive",
   "metadata": {},
   "source": [
    "The Manhattan distance between two points $(x_1, y_1)$ and $(x_2, y_2)$ is given as: \n",
    "\n",
    "$$ \n",
    "(x_2 - x_1) + (y_2 - y_1)\n",
    "$$"
   ]
  },
  {
   "cell_type": "markdown",
   "id": "extreme-ivory",
   "metadata": {},
   "source": [
    "So, basically just adding up the components. Visualy, this looks like this: (see notebook)"
   ]
  },
  {
   "cell_type": "markdown",
   "id": "running-robert",
   "metadata": {},
   "source": [
    "And the formula is simple too: \n",
    "\n",
    "$$\\Vert v \\Vert_{1} = \\sum_i |v_i|$$"
   ]
  },
  {
   "cell_type": "markdown",
   "id": "little-clothing",
   "metadata": {},
   "source": [
    "Let's try this out! "
   ]
  },
  {
   "cell_type": "markdown",
   "id": "relevant-friday",
   "metadata": {},
   "source": [
    "## Numpy Vectors Revisited"
   ]
  },
  {
   "cell_type": "code",
   "execution_count": 1,
   "id": "beautiful-portsmouth",
   "metadata": {},
   "outputs": [],
   "source": [
    "import numpy as np \n",
    "from numpy.linalg import norm"
   ]
  },
  {
   "cell_type": "code",
   "execution_count": 2,
   "id": "secure-florida",
   "metadata": {},
   "outputs": [
    {
     "name": "stdout",
     "output_type": "stream",
     "text": [
      "[[ 1 -5  3  2  4]]\n",
      "[[ 1]\n",
      " [-5]\n",
      " [ 3]\n",
      " [ 2]\n",
      " [ 4]]\n",
      "L_1 is: 15.0\n",
      "L_2 is: 7.4\n"
     ]
    }
   ],
   "source": [
    "vector_row = np.array([[1, -5, 3, 2, 4]])\n",
    "print(vector_row)\n",
    "new_vector = vector_row.T\n",
    "print(new_vector)\n",
    "\n",
    "norm_1 = norm(new_vector, 1)\n",
    "norm_2 = norm(new_vector, 2)\n",
    "norm_inf = norm(new_vector, np.inf)\n",
    "\n",
    "print('L_1 is: %.1f'%norm_1)\n",
    "print('L_2 is: %.1f'%norm_2)"
   ]
  },
  {
   "cell_type": "markdown",
   "id": "touched-denver",
   "metadata": {},
   "source": [
    "### Vector Operations "
   ]
  },
  {
   "cell_type": "markdown",
   "id": "changing-lancaster",
   "metadata": {},
   "source": [
    "You would be familiar with vector operations. Let's see some examples in code here. "
   ]
  },
  {
   "cell_type": "code",
   "execution_count": 3,
   "id": "extreme-criticism",
   "metadata": {},
   "outputs": [
    {
     "name": "stdout",
     "output_type": "stream",
     "text": [
      "[[-8 -1  4]]\n"
     ]
    }
   ],
   "source": [
    "u = np.array([[0, 3, 2]])\n",
    "v = np.array([[4, 1, 1]])\n",
    "w = np.array([[0, -2, 0]])\n",
    "\n",
    "x = 3*u - 2*v + 4*w\n",
    "\n",
    "print(x)"
   ]
  },
  {
   "cell_type": "code",
   "execution_count": 4,
   "id": "coated-internet",
   "metadata": {},
   "outputs": [
    {
     "name": "stdout",
     "output_type": "stream",
     "text": [
      "[[0 3 2]]\n",
      "[[4 1 1]]\n",
      "[[4]\n",
      " [1]\n",
      " [1]]\n"
     ]
    },
    {
     "ename": "ValueError",
     "evalue": "shapes (1,3) and (1,3) not aligned: 3 (dim 1) != 1 (dim 0)",
     "output_type": "error",
     "traceback": [
      "\u001b[0;31m---------------------------------------------------------------------------\u001b[0m",
      "\u001b[0;31mValueError\u001b[0m                                Traceback (most recent call last)",
      "\u001b[0;32m<ipython-input-4-33f082660c40>\u001b[0m in \u001b[0;36m<module>\u001b[0;34m\u001b[0m\n\u001b[1;32m      3\u001b[0m \u001b[0mprint\u001b[0m\u001b[0;34m(\u001b[0m\u001b[0mv\u001b[0m\u001b[0;34m.\u001b[0m\u001b[0mT\u001b[0m\u001b[0;34m)\u001b[0m\u001b[0;34m\u001b[0m\u001b[0;34m\u001b[0m\u001b[0m\n\u001b[1;32m      4\u001b[0m \u001b[0;34m\u001b[0m\u001b[0m\n\u001b[0;32m----> 5\u001b[0;31m \u001b[0mu\u001b[0m\u001b[0;34m.\u001b[0m\u001b[0mdot\u001b[0m\u001b[0;34m(\u001b[0m\u001b[0mv\u001b[0m\u001b[0;34m)\u001b[0m   \u001b[0;31m#  .... Read the error!\u001b[0m\u001b[0;34m\u001b[0m\u001b[0;34m\u001b[0m\u001b[0m\n\u001b[0m",
      "\u001b[0;31mValueError\u001b[0m: shapes (1,3) and (1,3) not aligned: 3 (dim 1) != 1 (dim 0)"
     ]
    }
   ],
   "source": [
    "print(u)\n",
    "print(v)\n",
    "print(v.T)\n",
    "\n",
    "u.dot(v)   #  .... Read the error! "
   ]
  },
  {
   "cell_type": "code",
   "execution_count": 5,
   "id": "concrete-plumbing",
   "metadata": {},
   "outputs": [
    {
     "name": "stdout",
     "output_type": "stream",
     "text": [
      "(1, 3)\n",
      "(1, 3)\n"
     ]
    }
   ],
   "source": [
    "print(u.shape)\n",
    "print(v.shape)"
   ]
  },
  {
   "cell_type": "code",
   "execution_count": 6,
   "id": "smoking-reservation",
   "metadata": {},
   "outputs": [
    {
     "name": "stdout",
     "output_type": "stream",
     "text": [
      "[[0 3 2]]\n"
     ]
    }
   ],
   "source": [
    "u = np.array([[0, 3, 2]])\n",
    "v = np.array([4, 1, 1])    # notice the change here! \n",
    "\n",
    "x = u * v \n",
    "\n",
    "print(x)"
   ]
  },
  {
   "cell_type": "code",
   "execution_count": 7,
   "id": "aquatic-oxygen",
   "metadata": {},
   "outputs": [
    {
     "name": "stdout",
     "output_type": "stream",
     "text": [
      "[[0 3 2]]\n",
      "[4 1 1]\n",
      "[4 1 1]\n"
     ]
    },
    {
     "data": {
      "text/plain": [
       "array([5])"
      ]
     },
     "execution_count": 7,
     "metadata": {},
     "output_type": "execute_result"
    }
   ],
   "source": [
    "print(u)\n",
    "print(v)\n",
    "print(v.T) # Does nothing ... \n",
    "\n",
    "u.dot(v)   # this works here! "
   ]
  },
  {
   "cell_type": "code",
   "execution_count": 8,
   "id": "liked-philosophy",
   "metadata": {},
   "outputs": [
    {
     "name": "stdout",
     "output_type": "stream",
     "text": [
      "(1, 3)\n",
      "(3,)\n"
     ]
    }
   ],
   "source": [
    "print(u.shape)\n",
    "print(v.shape)"
   ]
  },
  {
   "cell_type": "markdown",
   "id": "smooth-independence",
   "metadata": {},
   "source": [
    "## Matrices "
   ]
  },
  {
   "cell_type": "markdown",
   "id": "material-auditor",
   "metadata": {},
   "source": [
    "Let's see the basics of matrices one more time. Let's also see the relevant terminlogy side by side. "
   ]
  },
  {
   "cell_type": "markdown",
   "id": "dated-republic",
   "metadata": {},
   "source": [
    "### Matrix Multiplication "
   ]
  },
  {
   "cell_type": "code",
   "execution_count": 9,
   "id": "proved-wages",
   "metadata": {},
   "outputs": [
    {
     "name": "stdout",
     "output_type": "stream",
     "text": [
      "[[1 7]\n",
      " [2 3]\n",
      " [5 0]]\n",
      "[[2 6 3 1]\n",
      " [1 2 3 4]]\n",
      "[[ 9 20 24 29]\n",
      " [ 7 18 15 14]\n",
      " [10 30 15  5]]\n"
     ]
    },
    {
     "ename": "ValueError",
     "evalue": "shapes (2,4) and (3,2) not aligned: 4 (dim 1) != 3 (dim 0)",
     "output_type": "error",
     "traceback": [
      "\u001b[0;31m---------------------------------------------------------------------------\u001b[0m",
      "\u001b[0;31mValueError\u001b[0m                                Traceback (most recent call last)",
      "\u001b[0;32m<ipython-input-9-8884e7614908>\u001b[0m in \u001b[0;36m<module>\u001b[0;34m\u001b[0m\n\u001b[1;32m      5\u001b[0m \u001b[0mprint\u001b[0m\u001b[0;34m(\u001b[0m\u001b[0mnp\u001b[0m\u001b[0;34m.\u001b[0m\u001b[0mdot\u001b[0m\u001b[0;34m(\u001b[0m\u001b[0mP\u001b[0m\u001b[0;34m,\u001b[0m \u001b[0mQ\u001b[0m\u001b[0;34m)\u001b[0m\u001b[0;34m)\u001b[0m\u001b[0;34m\u001b[0m\u001b[0;34m\u001b[0m\u001b[0m\n\u001b[1;32m      6\u001b[0m \u001b[0;34m\u001b[0m\u001b[0m\n\u001b[0;32m----> 7\u001b[0;31m \u001b[0mnp\u001b[0m\u001b[0;34m.\u001b[0m\u001b[0mdot\u001b[0m\u001b[0;34m(\u001b[0m\u001b[0mQ\u001b[0m\u001b[0;34m,\u001b[0m \u001b[0mP\u001b[0m\u001b[0;34m)\u001b[0m \u001b[0;31m# can't do that\u001b[0m\u001b[0;34m\u001b[0m\u001b[0;34m\u001b[0m\u001b[0m\n\u001b[0m",
      "\u001b[0;32m<__array_function__ internals>\u001b[0m in \u001b[0;36mdot\u001b[0;34m(*args, **kwargs)\u001b[0m\n",
      "\u001b[0;31mValueError\u001b[0m: shapes (2,4) and (3,2) not aligned: 4 (dim 1) != 3 (dim 0)"
     ]
    }
   ],
   "source": [
    "P = np.array([[1, 7], [2, 3], [5, 0]])\n",
    "Q = np.array([[2, 6, 3, 1], [1, 2, 3, 4]])\n",
    "print(P)\n",
    "print(Q)\n",
    "print(np.dot(P, Q))\n",
    "\n",
    "np.dot(Q, P) # can't do that"
   ]
  },
  {
   "cell_type": "code",
   "execution_count": 10,
   "id": "saving-account",
   "metadata": {},
   "outputs": [
    {
     "data": {
      "text/plain": [
       "((3, 2), (2, 4))"
      ]
     },
     "execution_count": 10,
     "metadata": {},
     "output_type": "execute_result"
    }
   ],
   "source": [
    "P.shape, Q.shape"
   ]
  },
  {
   "cell_type": "markdown",
   "id": "resident-honduras",
   "metadata": {},
   "source": [
    "### Determinants "
   ]
  },
  {
   "cell_type": "code",
   "execution_count": 11,
   "id": "painted-marsh",
   "metadata": {},
   "outputs": [
    {
     "name": "stdout",
     "output_type": "stream",
     "text": [
      "M:\n",
      " [[0 2 1 3]\n",
      " [3 2 8 1]\n",
      " [1 0 0 3]\n",
      " [0 3 2 1]]\n",
      "Determinant: -38.0\n",
      "I:\n",
      " [[1. 0. 0. 0.]\n",
      " [0. 1. 0. 0.]\n",
      " [0. 0. 1. 0.]\n",
      " [0. 0. 0. 1.]]\n",
      "M*I:\n",
      " [[0. 2. 1. 3.]\n",
      " [3. 2. 8. 1.]\n",
      " [1. 0. 0. 3.]\n",
      " [0. 3. 2. 1.]]\n"
     ]
    }
   ],
   "source": [
    "from numpy.linalg import det\n",
    "\n",
    "M = np.array(\n",
    "             [  [0, 2, 1, 3], \n",
    "                [3, 2, 8, 1], \n",
    "                [1, 0, 0, 3],\n",
    "                [0, 3, 2, 1]  ]\n",
    "            )\n",
    "print('M:\\n', M)\n",
    "\n",
    "print('Determinant: %.1f' % det(M))\n",
    "\n",
    "I = np.eye(4)  # eye-dentity matrix \n",
    "\n",
    "print('I:\\n', I)\n",
    "print('M*I:\\n', np.dot(M, I))"
   ]
  },
  {
   "cell_type": "markdown",
   "id": "fancy-oriental",
   "metadata": {},
   "source": [
    "Highly recomment the video by 3Blue1Brown on determinants: https://www.youtube.com/watch?v=Ip3X9LOh2dk "
   ]
  },
  {
   "cell_type": "markdown",
   "id": "noted-wednesday",
   "metadata": {},
   "source": [
    "### Inverse, Singular, Ill-conditioned"
   ]
  },
  {
   "cell_type": "markdown",
   "id": "civilian-paragraph",
   "metadata": {},
   "source": [
    "When you multiply something by a matrix and you want to get back, you multiply the result with the inverse of the original matrix. This is similar to multiplying by the reciprocal to reverse the effect of a multiplication. "
   ]
  },
  {
   "cell_type": "code",
   "execution_count": 12,
   "id": "coral-genetics",
   "metadata": {},
   "outputs": [
    {
     "name": "stdout",
     "output_type": "stream",
     "text": [
      "Inv M:\n",
      " [[-1.57894737 -0.07894737  1.23684211  1.10526316]\n",
      " [-0.63157895 -0.13157895  0.39473684  0.84210526]\n",
      " [ 0.68421053  0.18421053 -0.55263158 -0.57894737]\n",
      " [ 0.52631579  0.02631579 -0.07894737 -0.36842105]]\n"
     ]
    }
   ],
   "source": [
    "from numpy.linalg import inv\n",
    "\n",
    "print('Inv M:\\n', inv(M))"
   ]
  },
  {
   "cell_type": "code",
   "execution_count": 13,
   "id": "charming-stuff",
   "metadata": {},
   "outputs": [
    {
     "name": "stdout",
     "output_type": "stream",
     "text": [
      "det(P): 0.0\n"
     ]
    },
    {
     "ename": "LinAlgError",
     "evalue": "Singular matrix",
     "output_type": "error",
     "traceback": [
      "\u001b[0;31m---------------------------------------------------------------------------\u001b[0m",
      "\u001b[0;31mLinAlgError\u001b[0m                               Traceback (most recent call last)",
      "\u001b[0;32m<ipython-input-13-da87415bf3f7>\u001b[0m in \u001b[0;36m<module>\u001b[0;34m\u001b[0m\n\u001b[1;32m      5\u001b[0m \u001b[0mprint\u001b[0m\u001b[0;34m(\u001b[0m\u001b[0;34m'det(P):'\u001b[0m\u001b[0;34m,\u001b[0m \u001b[0mdet\u001b[0m\u001b[0;34m(\u001b[0m\u001b[0mP\u001b[0m\u001b[0;34m)\u001b[0m\u001b[0;34m)\u001b[0m\u001b[0;34m\u001b[0m\u001b[0;34m\u001b[0m\u001b[0m\n\u001b[1;32m      6\u001b[0m \u001b[0;34m\u001b[0m\u001b[0m\n\u001b[0;32m----> 7\u001b[0;31m \u001b[0minv\u001b[0m\u001b[0;34m(\u001b[0m\u001b[0mP\u001b[0m\u001b[0;34m)\u001b[0m\u001b[0;34m\u001b[0m\u001b[0;34m\u001b[0m\u001b[0m\n\u001b[0m",
      "\u001b[0;32m<__array_function__ internals>\u001b[0m in \u001b[0;36minv\u001b[0;34m(*args, **kwargs)\u001b[0m\n",
      "\u001b[0;32m~/miniforge3/lib/python3.8/site-packages/numpy/linalg/linalg.py\u001b[0m in \u001b[0;36minv\u001b[0;34m(a)\u001b[0m\n\u001b[1;32m    543\u001b[0m     \u001b[0msignature\u001b[0m \u001b[0;34m=\u001b[0m \u001b[0;34m'D->D'\u001b[0m \u001b[0;32mif\u001b[0m \u001b[0misComplexType\u001b[0m\u001b[0;34m(\u001b[0m\u001b[0mt\u001b[0m\u001b[0;34m)\u001b[0m \u001b[0;32melse\u001b[0m \u001b[0;34m'd->d'\u001b[0m\u001b[0;34m\u001b[0m\u001b[0;34m\u001b[0m\u001b[0m\n\u001b[1;32m    544\u001b[0m     \u001b[0mextobj\u001b[0m \u001b[0;34m=\u001b[0m \u001b[0mget_linalg_error_extobj\u001b[0m\u001b[0;34m(\u001b[0m\u001b[0m_raise_linalgerror_singular\u001b[0m\u001b[0;34m)\u001b[0m\u001b[0;34m\u001b[0m\u001b[0;34m\u001b[0m\u001b[0m\n\u001b[0;32m--> 545\u001b[0;31m     \u001b[0mainv\u001b[0m \u001b[0;34m=\u001b[0m \u001b[0m_umath_linalg\u001b[0m\u001b[0;34m.\u001b[0m\u001b[0minv\u001b[0m\u001b[0;34m(\u001b[0m\u001b[0ma\u001b[0m\u001b[0;34m,\u001b[0m \u001b[0msignature\u001b[0m\u001b[0;34m=\u001b[0m\u001b[0msignature\u001b[0m\u001b[0;34m,\u001b[0m \u001b[0mextobj\u001b[0m\u001b[0;34m=\u001b[0m\u001b[0mextobj\u001b[0m\u001b[0;34m)\u001b[0m\u001b[0;34m\u001b[0m\u001b[0;34m\u001b[0m\u001b[0m\n\u001b[0m\u001b[1;32m    546\u001b[0m     \u001b[0;32mreturn\u001b[0m \u001b[0mwrap\u001b[0m\u001b[0;34m(\u001b[0m\u001b[0mainv\u001b[0m\u001b[0;34m.\u001b[0m\u001b[0mastype\u001b[0m\u001b[0;34m(\u001b[0m\u001b[0mresult_t\u001b[0m\u001b[0;34m,\u001b[0m \u001b[0mcopy\u001b[0m\u001b[0;34m=\u001b[0m\u001b[0;32mFalse\u001b[0m\u001b[0;34m)\u001b[0m\u001b[0;34m)\u001b[0m\u001b[0;34m\u001b[0m\u001b[0;34m\u001b[0m\u001b[0m\n\u001b[1;32m    547\u001b[0m \u001b[0;34m\u001b[0m\u001b[0m\n",
      "\u001b[0;32m~/miniforge3/lib/python3.8/site-packages/numpy/linalg/linalg.py\u001b[0m in \u001b[0;36m_raise_linalgerror_singular\u001b[0;34m(err, flag)\u001b[0m\n\u001b[1;32m     86\u001b[0m \u001b[0;34m\u001b[0m\u001b[0m\n\u001b[1;32m     87\u001b[0m \u001b[0;32mdef\u001b[0m \u001b[0m_raise_linalgerror_singular\u001b[0m\u001b[0;34m(\u001b[0m\u001b[0merr\u001b[0m\u001b[0;34m,\u001b[0m \u001b[0mflag\u001b[0m\u001b[0;34m)\u001b[0m\u001b[0;34m:\u001b[0m\u001b[0;34m\u001b[0m\u001b[0;34m\u001b[0m\u001b[0m\n\u001b[0;32m---> 88\u001b[0;31m     \u001b[0;32mraise\u001b[0m \u001b[0mLinAlgError\u001b[0m\u001b[0;34m(\u001b[0m\u001b[0;34m\"Singular matrix\"\u001b[0m\u001b[0;34m)\u001b[0m\u001b[0;34m\u001b[0m\u001b[0;34m\u001b[0m\u001b[0m\n\u001b[0m\u001b[1;32m     89\u001b[0m \u001b[0;34m\u001b[0m\u001b[0m\n\u001b[1;32m     90\u001b[0m \u001b[0;32mdef\u001b[0m \u001b[0m_raise_linalgerror_nonposdef\u001b[0m\u001b[0;34m(\u001b[0m\u001b[0merr\u001b[0m\u001b[0;34m,\u001b[0m \u001b[0mflag\u001b[0m\u001b[0;34m)\u001b[0m\u001b[0;34m:\u001b[0m\u001b[0;34m\u001b[0m\u001b[0;34m\u001b[0m\u001b[0m\n",
      "\u001b[0;31mLinAlgError\u001b[0m: Singular matrix"
     ]
    }
   ],
   "source": [
    "P = np.array([[0,1,0],\n",
    "              [0,0,0],\n",
    "              [1,0,1]])     # P has no inverse since it is singular. \n",
    "\n",
    "print('det(P):', det(P))\n",
    "\n",
    "inv(P)"
   ]
  },
  {
   "cell_type": "markdown",
   "id": "literary-operations",
   "metadata": {},
   "source": [
    "So, multiplying by a singular matrix is sort of like multiplying by 0. It's not reversible. "
   ]
  },
  {
   "cell_type": "markdown",
   "id": "systematic-eating",
   "metadata": {},
   "source": [
    "*Ill-conditioned* matrices are not singular but their determinant is very close to 0. This makes them problematic just like multiplication by very small numbers can lead to overflow, underflow etc. "
   ]
  },
  {
   "cell_type": "markdown",
   "id": "dried-jersey",
   "metadata": {},
   "source": [
    "### Rank, Full Rank, Condition Number, Augmented Matrix "
   ]
  },
  {
   "cell_type": "markdown",
   "id": "consecutive-sample",
   "metadata": {},
   "source": [
    "Rank, $rank(A)$, is the number of linearly independent columns or rows of $A$. \n",
    "\n",
    "Full rank if $rank(A) = min(m, n)$ for an $m \\times n$ matrix. \n",
    "\n",
    "Condition Number: How close is a matrix to being ill-conditioned. Higher is closer to being singular. \n",
    "\n",
    "Augmented matrix: $[A | y]$ where $A$ is a matrix and $y$ is a vector. $y$ is called *new* if it cannot be expressed as a combination of columns of $A$. In this case, $rank([A|y]) = rank(A) + 1$ (because we just added a new independent column!) "
   ]
  },
  {
   "cell_type": "code",
   "execution_count": 14,
   "id": "differential-potential",
   "metadata": {},
   "outputs": [
    {
     "name": "stdout",
     "output_type": "stream",
     "text": [
      "Condition number:\n",
      " 4.048917339522305\n",
      "Rank:\n",
      " 3\n",
      "Augmented matrix:\n",
      " [[1 1 0 1]\n",
      " [0 1 0 2]\n",
      " [1 0 1 1]]\n"
     ]
    }
   ],
   "source": [
    "from numpy.linalg import cond, matrix_rank\n",
    "\n",
    "A = np.array([[1,1,0],\n",
    "              [0,1,0],\n",
    "              [1,0,1]])\n",
    "\n",
    "print('Condition number:\\n', cond(A))\n",
    "\n",
    "print('Rank:\\n', matrix_rank(A))\n",
    "\n",
    "y = np.array([[1, 2, 1]]).T    # need a column vector. Easier to create it using .T \n",
    "\n",
    "A_y = np.concatenate((A, y), axis = 1)  # Notice the axis \n",
    "print('Augmented matrix:\\n', A_y)"
   ]
  },
  {
   "cell_type": "markdown",
   "id": "binary-ultimate",
   "metadata": {},
   "source": [
    "# Solving Linear Equations "
   ]
  },
  {
   "cell_type": "markdown",
   "id": "motivated-hollywood",
   "metadata": {},
   "source": [
    "## LU Decomposition "
   ]
  },
  {
   "cell_type": "code",
   "execution_count": 15,
   "id": "accessible-council",
   "metadata": {},
   "outputs": [],
   "source": [
    "import numpy as np \n",
    "from numpy.linalg import inv\n",
    "\n",
    "import scipy \n",
    "\n",
    "from scipy.linalg import lu "
   ]
  },
  {
   "cell_type": "code",
   "execution_count": 16,
   "id": "determined-humidity",
   "metadata": {},
   "outputs": [
    {
     "name": "stdout",
     "output_type": "stream",
     "text": [
      "Help on function lu in module scipy.linalg.decomp_lu:\n",
      "\n",
      "lu(a, permute_l=False, overwrite_a=False, check_finite=True)\n",
      "    Compute pivoted LU decomposition of a matrix.\n",
      "    \n",
      "    The decomposition is::\n",
      "    \n",
      "        A = P L U\n",
      "    \n",
      "    where P is a permutation matrix, L lower triangular with unit\n",
      "    diagonal elements, and U upper triangular.\n",
      "    \n",
      "    Parameters\n",
      "    ----------\n",
      "    a : (M, N) array_like\n",
      "        Array to decompose\n",
      "    permute_l : bool, optional\n",
      "        Perform the multiplication P*L (Default: do not permute)\n",
      "    overwrite_a : bool, optional\n",
      "        Whether to overwrite data in a (may improve performance)\n",
      "    check_finite : bool, optional\n",
      "        Whether to check that the input matrix contains only finite numbers.\n",
      "        Disabling may give a performance gain, but may result in problems\n",
      "        (crashes, non-termination) if the inputs do contain infinities or NaNs.\n",
      "    \n",
      "    Returns\n",
      "    -------\n",
      "    **(If permute_l == False)**\n",
      "    \n",
      "    p : (M, M) ndarray\n",
      "        Permutation matrix\n",
      "    l : (M, K) ndarray\n",
      "        Lower triangular or trapezoidal matrix with unit diagonal.\n",
      "        K = min(M, N)\n",
      "    u : (K, N) ndarray\n",
      "        Upper triangular or trapezoidal matrix\n",
      "    \n",
      "    **(If permute_l == True)**\n",
      "    \n",
      "    pl : (M, K) ndarray\n",
      "        Permuted L matrix.\n",
      "        K = min(M, N)\n",
      "    u : (K, N) ndarray\n",
      "        Upper triangular or trapezoidal matrix\n",
      "    \n",
      "    Notes\n",
      "    -----\n",
      "    This is a LU factorization routine written for SciPy.\n",
      "    \n",
      "    Examples\n",
      "    --------\n",
      "    >>> from scipy.linalg import lu\n",
      "    >>> A = np.array([[2, 5, 8, 7], [5, 2, 2, 8], [7, 5, 6, 6], [5, 4, 4, 8]])\n",
      "    >>> p, l, u = lu(A)\n",
      "    >>> np.allclose(A - p @ l @ u, np.zeros((4, 4)))\n",
      "    True\n",
      "\n"
     ]
    }
   ],
   "source": [
    "help(lu)"
   ]
  },
  {
   "cell_type": "code",
   "execution_count": 17,
   "id": "cutting-looking",
   "metadata": {},
   "outputs": [],
   "source": [
    "A = np.array([ \n",
    "              [  1,  1,   1,   1 ], \n",
    "              [  2,  3,   1,   5 ], \n",
    "              [ -1,  1,  -5,   3 ], \n",
    "              [  3,  1,   7,  -2 ]  \n",
    "             ], dtype=float)"
   ]
  },
  {
   "cell_type": "code",
   "execution_count": 18,
   "id": "minimal-millennium",
   "metadata": {},
   "outputs": [
    {
     "name": "stdout",
     "output_type": "stream",
     "text": [
      "A:\n",
      "[[ 1.  1.  1.  1.]\n",
      " [ 2.  3.  1.  5.]\n",
      " [-1.  1. -5.  3.]\n",
      " [ 3.  1.  7. -2.]]\n",
      "P:\n",
      "[[0. 0. 0. 1.]\n",
      " [0. 1. 0. 0.]\n",
      " [0. 0. 1. 0.]\n",
      " [1. 0. 0. 0.]]\n",
      "L:\n",
      "[[ 1.          0.          0.          0.        ]\n",
      " [ 0.66666667  1.          0.          0.        ]\n",
      " [-0.33333333  0.57142857  1.          0.        ]\n",
      " [ 0.33333333  0.28571429  0.5         1.        ]]\n",
      "U:\n",
      "[[ 3.          1.          7.         -2.        ]\n",
      " [ 0.          2.33333333 -3.66666667  6.33333333]\n",
      " [ 0.          0.         -0.57142857 -1.28571429]\n",
      " [ 0.          0.          0.          0.5       ]]\n"
     ]
    }
   ],
   "source": [
    "P, L, U = lu(A)\n",
    "\n",
    "print(\"A:\")\n",
    "print(A)\n",
    "\n",
    "print(\"P:\")   # What is this guy? \n",
    "print(P)\n",
    "\n",
    "print(\"L:\")\n",
    "print(L)\n",
    "\n",
    "print(\"U:\")\n",
    "print(U)\n",
    "\n",
    "# Is the answer the same as what we got? "
   ]
  },
  {
   "cell_type": "code",
   "execution_count": 19,
   "id": "copyrighted-woman",
   "metadata": {},
   "outputs": [],
   "source": [
    "L = P.dot(L)   # Let's just do this once "
   ]
  },
  {
   "cell_type": "code",
   "execution_count": 20,
   "id": "fossil-lighter",
   "metadata": {},
   "outputs": [
    {
     "data": {
      "text/plain": [
       "array([[ 1.,  1.,  1.,  1.],\n",
       "       [ 2.,  3.,  1.,  5.],\n",
       "       [-1.,  1., -5.,  3.],\n",
       "       [ 3.,  1.,  7., -2.]])"
      ]
     },
     "execution_count": 20,
     "metadata": {},
     "output_type": "execute_result"
    }
   ],
   "source": [
    "L.dot(U)     # Produces the same result though "
   ]
  },
  {
   "cell_type": "code",
   "execution_count": 21,
   "id": "verbal-pride",
   "metadata": {},
   "outputs": [
    {
     "data": {
      "text/plain": [
       "array([[ 1.,  1.,  1.,  1.],\n",
       "       [ 2.,  3.,  1.,  5.],\n",
       "       [-1.,  1., -5.,  3.],\n",
       "       [ 3.,  1.,  7., -2.]])"
      ]
     },
     "execution_count": 21,
     "metadata": {},
     "output_type": "execute_result"
    }
   ],
   "source": [
    "A"
   ]
  },
  {
   "cell_type": "code",
   "execution_count": 22,
   "id": "temporal-placement",
   "metadata": {},
   "outputs": [
    {
     "data": {
      "text/plain": [
       "array([[ True, False, False, False],\n",
       "       [ True,  True,  True,  True],\n",
       "       [ True,  True,  True,  True],\n",
       "       [ True,  True,  True,  True]])"
      ]
     },
     "execution_count": 22,
     "metadata": {},
     "output_type": "execute_result"
    }
   ],
   "source": [
    "L.dot(U) == A   # !!! the horror! "
   ]
  },
  {
   "cell_type": "code",
   "execution_count": 23,
   "id": "eligible-photograph",
   "metadata": {},
   "outputs": [
    {
     "name": "stdout",
     "output_type": "stream",
     "text": [
      "Help on function allclose in module numpy:\n",
      "\n",
      "allclose(a, b, rtol=1e-05, atol=1e-08, equal_nan=False)\n",
      "    Returns True if two arrays are element-wise equal within a tolerance.\n",
      "    \n",
      "    The tolerance values are positive, typically very small numbers.  The\n",
      "    relative difference (`rtol` * abs(`b`)) and the absolute difference\n",
      "    `atol` are added together to compare against the absolute difference\n",
      "    between `a` and `b`.\n",
      "    \n",
      "    NaNs are treated as equal if they are in the same place and if\n",
      "    ``equal_nan=True``.  Infs are treated as equal if they are in the same\n",
      "    place and of the same sign in both arrays.\n",
      "    \n",
      "    Parameters\n",
      "    ----------\n",
      "    a, b : array_like\n",
      "        Input arrays to compare.\n",
      "    rtol : float\n",
      "        The relative tolerance parameter (see Notes).\n",
      "    atol : float\n",
      "        The absolute tolerance parameter (see Notes).\n",
      "    equal_nan : bool\n",
      "        Whether to compare NaN's as equal.  If True, NaN's in `a` will be\n",
      "        considered equal to NaN's in `b` in the output array.\n",
      "    \n",
      "        .. versionadded:: 1.10.0\n",
      "    \n",
      "    Returns\n",
      "    -------\n",
      "    allclose : bool\n",
      "        Returns True if the two arrays are equal within the given\n",
      "        tolerance; False otherwise.\n",
      "    \n",
      "    See Also\n",
      "    --------\n",
      "    isclose, all, any, equal\n",
      "    \n",
      "    Notes\n",
      "    -----\n",
      "    If the following equation is element-wise True, then allclose returns\n",
      "    True.\n",
      "    \n",
      "     absolute(`a` - `b`) <= (`atol` + `rtol` * absolute(`b`))\n",
      "    \n",
      "    The above equation is not symmetric in `a` and `b`, so that\n",
      "    ``allclose(a, b)`` might be different from ``allclose(b, a)`` in\n",
      "    some rare cases.\n",
      "    \n",
      "    The comparison of `a` and `b` uses standard broadcasting, which\n",
      "    means that `a` and `b` need not have the same shape in order for\n",
      "    ``allclose(a, b)`` to evaluate to True.  The same is true for\n",
      "    `equal` but not `array_equal`.\n",
      "    \n",
      "    `allclose` is not defined for non-numeric data types.\n",
      "    \n",
      "    Examples\n",
      "    --------\n",
      "    >>> np.allclose([1e10,1e-7], [1.00001e10,1e-8])\n",
      "    False\n",
      "    >>> np.allclose([1e10,1e-8], [1.00001e10,1e-9])\n",
      "    True\n",
      "    >>> np.allclose([1e10,1e-8], [1.0001e10,1e-9])\n",
      "    False\n",
      "    >>> np.allclose([1.0, np.nan], [1.0, np.nan])\n",
      "    False\n",
      "    >>> np.allclose([1.0, np.nan], [1.0, np.nan], equal_nan=True)\n",
      "    True\n",
      "\n"
     ]
    }
   ],
   "source": [
    "help(np.allclose)"
   ]
  },
  {
   "cell_type": "code",
   "execution_count": 24,
   "id": "round-leonard",
   "metadata": {},
   "outputs": [
    {
     "data": {
      "text/plain": [
       "True"
      ]
     },
     "execution_count": 24,
     "metadata": {},
     "output_type": "execute_result"
    }
   ],
   "source": [
    "np.allclose(L.dot(U), A)  # Why? "
   ]
  },
  {
   "cell_type": "code",
   "execution_count": 25,
   "id": "champion-variety",
   "metadata": {},
   "outputs": [
    {
     "name": "stdout",
     "output_type": "stream",
     "text": [
      "[10 31 -2 18]\n"
     ]
    }
   ],
   "source": [
    "y = np.array([10, 31, -2, 18])       # Is something wrong here? \n",
    "print(y)"
   ]
  },
  {
   "cell_type": "markdown",
   "id": "unauthorized-stamp",
   "metadata": {},
   "source": [
    "$ Lm = y$\n",
    "\n",
    "Let's move L to the other side of the equation. \n",
    "\n",
    "$ L^{-1}Lm = L^{-1}y$\n",
    "\n",
    "And cancel out ... \n",
    "\n",
    "$ m = L^{-1}y$"
   ]
  },
  {
   "cell_type": "code",
   "execution_count": 26,
   "id": "contained-distance",
   "metadata": {},
   "outputs": [],
   "source": [
    "m = inv(L).dot(y)  "
   ]
  },
  {
   "cell_type": "code",
   "execution_count": 27,
   "id": "lightweight-nickname",
   "metadata": {},
   "outputs": [
    {
     "name": "stdout",
     "output_type": "stream",
     "text": [
      "[18.         19.         -6.85714286  2.        ]\n"
     ]
    }
   ],
   "source": [
    "print(m)"
   ]
  },
  {
   "cell_type": "code",
   "execution_count": 28,
   "id": "dense-vertex",
   "metadata": {},
   "outputs": [],
   "source": [
    "x = inv(U).dot(m)"
   ]
  },
  {
   "cell_type": "code",
   "execution_count": 29,
   "id": "timely-simon",
   "metadata": {},
   "outputs": [
    {
     "name": "stdout",
     "output_type": "stream",
     "text": [
      "[1. 2. 3. 4.]\n"
     ]
    }
   ],
   "source": [
    "print(x)   # Match this with our on-paper results. "
   ]
  },
  {
   "cell_type": "code",
   "execution_count": 30,
   "id": "direct-transparency",
   "metadata": {},
   "outputs": [
    {
     "name": "stdout",
     "output_type": "stream",
     "text": [
      "[10. 31. -2. 18.]\n"
     ]
    }
   ],
   "source": [
    "yp = A.dot(x)\n",
    "print(yp)"
   ]
  },
  {
   "cell_type": "code",
   "execution_count": 31,
   "id": "czech-alloy",
   "metadata": {},
   "outputs": [
    {
     "data": {
      "text/plain": [
       "True"
      ]
     },
     "execution_count": 31,
     "metadata": {},
     "output_type": "execute_result"
    }
   ],
   "source": [
    "np.allclose(y, yp)"
   ]
  },
  {
   "cell_type": "markdown",
   "id": "settled-clear",
   "metadata": {},
   "source": [
    "## Gauss-Seidel Method"
   ]
  },
  {
   "cell_type": "markdown",
   "id": "measured-highland",
   "metadata": {},
   "source": [
    "$\n",
    "\\begin{eqnarray*}\n",
    "8x_1 + 3x_2 - 3x_3 &=& 14 \\\\\n",
    "-2x_1 - 8x_2 + 5x_3 &=& 5 \\\\\n",
    "3x_1 + 5x_2 + 10x_3 & =& -8 \\\\\n",
    "\\end{eqnarray*}\n",
    "$"
   ]
  },
  {
   "cell_type": "code",
   "execution_count": 32,
   "id": "electrical-publication",
   "metadata": {},
   "outputs": [
    {
     "name": "stdout",
     "output_type": "stream",
     "text": [
      "[ 8  8 10]\n"
     ]
    }
   ],
   "source": [
    "a = [\n",
    "        [ 8,  3, -3 ], \n",
    "        [-2, -8,  5 ], \n",
    "        [ 3,  5,  10]\n",
    "    ]\n",
    "\n",
    "# Find diagonal coefficients\n",
    "diag = np.diag(np.abs(a)) \n",
    "print(diag)"
   ]
  },
  {
   "cell_type": "code",
   "execution_count": 33,
   "id": "bizarre-negotiation",
   "metadata": {},
   "outputs": [
    {
     "data": {
      "text/plain": [
       "array([14, 15, 18])"
      ]
     },
     "execution_count": 33,
     "metadata": {},
     "output_type": "execute_result"
    }
   ],
   "source": [
    "np.sum(np.abs(a), axis=1)"
   ]
  },
  {
   "cell_type": "code",
   "execution_count": 34,
   "id": "union-version",
   "metadata": {},
   "outputs": [
    {
     "name": "stdout",
     "output_type": "stream",
     "text": [
      "[6 7 8]\n"
     ]
    }
   ],
   "source": [
    "# Find row sum without diagonal\n",
    "off_diag = np.sum(np.abs(a), axis=1) - diag \n",
    "print(off_diag)"
   ]
  },
  {
   "cell_type": "code",
   "execution_count": 35,
   "id": "broadband-paintball",
   "metadata": {},
   "outputs": [
    {
     "name": "stdout",
     "output_type": "stream",
     "text": [
      "matrix is diagonally dominant\n"
     ]
    }
   ],
   "source": [
    "if np.all(diag > off_diag):\n",
    "    print('matrix is diagonally dominant')    # will converge (sufficient condition)\n",
    "else:\n",
    "    print('NOT diagonally dominant')          # may or may not converge (because NOT a necessary condition)"
   ]
  },
  {
   "cell_type": "markdown",
   "id": "educational-morrison",
   "metadata": {},
   "source": [
    "Re-arrange the original: \n",
    "\n",
    "$\n",
    "\\begin{eqnarray*}\n",
    "8x_1 + 3x_2 - 3x_3 &=& 14 \\\\\n",
    "-2x_1 - 8x_2 + 5x_3 &=& 5 \\\\\n",
    "3x_1 + 5x_2 + 10x_3 & =& -8 \\\\\n",
    "\\end{eqnarray*}\n",
    "$\n",
    "\n",
    "as: \n",
    "\n",
    "$\n",
    "\\begin{eqnarray*}\n",
    "x_1 &=& (14 - 3x_2 + 3x_3)  / 8\\\\\n",
    "x_2 &=& (5  + 2x_1 - 5x_3) / (-8) \\\\ \n",
    "x_3 &=& (-8 - 3x_1 - 5x_2) / 10\n",
    "\\end{eqnarray*}\n",
    "$"
   ]
  },
  {
   "cell_type": "code",
   "execution_count": 36,
   "id": "ambient-thunder",
   "metadata": {},
   "outputs": [],
   "source": [
    "# Let's apply the iterative method starting at 0 \n",
    "\n",
    "x1 = 0\n",
    "x2 = 0\n",
    "x3 = 0\n",
    "epsilon = 0.001   # also try better precision\n",
    "converged = False\n",
    "\n",
    "x_old = np.array([x1, x2, x3])"
   ]
  },
  {
   "cell_type": "code",
   "execution_count": 37,
   "id": "iraqi-macedonia",
   "metadata": {},
   "outputs": [],
   "source": [
    "max_iterations = 50"
   ]
  },
  {
   "cell_type": "code",
   "execution_count": 38,
   "id": "cutting-export",
   "metadata": {},
   "outputs": [
    {
     "name": "stdout",
     "output_type": "stream",
     "text": [
      "Iteration results\n",
      "k      x1        x2        x3 \n",
      " 1   1.7500   -1.0625   -0.7937\n",
      " 2   1.8508   -1.5838   -0.5633\n",
      " 3   2.1327   -1.5103   -0.6847\n",
      " 4   2.0596   -1.5678   -0.6340\n",
      " 5   2.1002   -1.5463   -0.6569\n",
      " 6   2.0835   -1.5565   -0.6468\n",
      " 7   2.0911   -1.5520   -0.6513\n",
      " 8   2.0878   -1.5540   -0.6493\n",
      " 9   2.0893   -1.5531   -0.6502\n",
      "10   2.0886   -1.5535   -0.6498\n",
      "Converged!\n"
     ]
    }
   ],
   "source": [
    "print('Iteration results')\n",
    "print('k      x1        x2        x3 ')\n",
    "\n",
    "for k in range(1, max_iterations):\n",
    "    \n",
    "    x1 = (14 -  3*x2  +  3*x3)  /  8\n",
    "    x2 = (5  +  2*x1  -  5*x3)  / (-8)\n",
    "    x3 = (-8 -  3*x1  -  5*x2)  / 10\n",
    "    \n",
    "    x = np.array([x1, x2, x3])\n",
    "    \n",
    "    print(\"%2d   %.4f   %.4f   %.4f\" % (k, x1, x2, x3))\n",
    "    \n",
    "    # check if it is smaller than threshold\n",
    "    dx = np.sqrt(np.dot(x-x_old, x-x_old))\n",
    "    \n",
    "    if dx < epsilon:\n",
    "        converged = True\n",
    "        print('Converged!')\n",
    "        break\n",
    "        \n",
    "    # assign the latest x value to the old value\n",
    "    x_old = x\n",
    "\n",
    "if not converged:\n",
    "    print('Not converged, increase the # of iterations')"
   ]
  },
  {
   "cell_type": "code",
   "execution_count": 39,
   "id": "automated-rogers",
   "metadata": {},
   "outputs": [
    {
     "data": {
      "text/plain": [
       "13.997673687371334"
      ]
     },
     "execution_count": 39,
     "metadata": {},
     "output_type": "execute_result"
    }
   ],
   "source": [
    "8*x1 + 3*x2 - 3*x3"
   ]
  },
  {
   "cell_type": "code",
   "execution_count": 40,
   "id": "excess-twins",
   "metadata": {},
   "outputs": [
    {
     "data": {
      "text/plain": [
       "5.001948405718945"
      ]
     },
     "execution_count": 40,
     "metadata": {},
     "output_type": "execute_result"
    }
   ],
   "source": [
    "-2*x1 - 8*x2 + 5*x3"
   ]
  },
  {
   "cell_type": "code",
   "execution_count": 41,
   "id": "mysterious-inclusion",
   "metadata": {},
   "outputs": [
    {
     "data": {
      "text/plain": [
       "-8.0"
      ]
     },
     "execution_count": 41,
     "metadata": {},
     "output_type": "execute_result"
    }
   ],
   "source": [
    "3*x1 + 5*x2 + 10*x3 "
   ]
  },
  {
   "cell_type": "markdown",
   "id": "certified-backup",
   "metadata": {},
   "source": [
    "Let's try one where this does NOT work!"
   ]
  },
  {
   "cell_type": "code",
   "execution_count": 42,
   "id": "solar-inflation",
   "metadata": {},
   "outputs": [
    {
     "name": "stdout",
     "output_type": "stream",
     "text": [
      "[1 1 1]\n",
      "[6 7 8]\n",
      "NOT diagonally dominant\n"
     ]
    }
   ],
   "source": [
    "a = [\n",
    "        [ 1,  3, -3 ], \n",
    "        [-2, -1,  5 ], \n",
    "        [ 3,  5,  1]\n",
    "    ]\n",
    "\n",
    "# Find diagonal coefficients\n",
    "diag = np.diag(np.abs(a)) \n",
    "print(diag)\n",
    "\n",
    "off_diag = np.sum(np.abs(a), axis=1) - diag \n",
    "print(off_diag)\n",
    "\n",
    "if np.all(diag > off_diag):\n",
    "    print('matrix is diagonally dominant')    \n",
    "else:\n",
    "    print('NOT diagonally dominant') "
   ]
  },
  {
   "cell_type": "code",
   "execution_count": 43,
   "id": "loved-denial",
   "metadata": {},
   "outputs": [
    {
     "name": "stdout",
     "output_type": "stream",
     "text": [
      "Iteration results\n",
      "k      x1        x2        x3 \n",
      " 1   14.0000   -33.0000   115.0000\n",
      " 2   458.0000   -346.0000   348.0000\n",
      " 3   2096.0000   -2457.0000   5989.0000\n",
      " 4   25352.0000   -20764.0000   27756.0000\n",
      " 5   145574.0000   -152373.0000   325135.0000\n",
      " 6   1432538.0000   -1239406.0000   1899408.0000\n",
      " 7   9416456.0000   -9335877.0000   18430009.0000\n",
      " 8   83297672.0000   -74445304.0000   122333496.0000\n",
      " 9   590336414.0000   -569005353.0000   1074017515.0000\n",
      "Not converged, increase the # of iterations\n"
     ]
    }
   ],
   "source": [
    "# Let's apply the iterative method starting at 0 \n",
    "\n",
    "x1 = 0\n",
    "x2 = 0\n",
    "x3 = 0\n",
    "epsilon = 0.001   # also try better precision\n",
    "max_iterations = 10\n",
    "converged = False\n",
    "\n",
    "x_old = np.array([x1, x2, x3])\n",
    "\n",
    "print('Iteration results')\n",
    "print('k      x1        x2        x3 ')\n",
    "\n",
    "for k in range(1, max_iterations):\n",
    "    \n",
    "    x1 = (14 -  3*x2  +  3*x3)  /  1\n",
    "    x2 = (5  +  2*x1  -  5*x3)  / (-1)\n",
    "    x3 = (-8 -  3*x1  -  5*x2)  / 1\n",
    "    \n",
    "    x = np.array([x1, x2, x3])\n",
    "    \n",
    "    print(\"%2d   %.4f   %.4f   %.4f\" % (k, x1, x2, x3))\n",
    "    \n",
    "    # check if it is smaller than threshold\n",
    "    dx = np.sqrt(np.dot(x-x_old, x-x_old))\n",
    "    \n",
    "    if dx < epsilon:\n",
    "        converged = True\n",
    "        print('Converged!')\n",
    "        break\n",
    "        \n",
    "    # assign the latest x value to the old value\n",
    "    x_old = x\n",
    "\n",
    "if not converged:\n",
    "    print('Not converged, increase the # of iterations')\n",
    "    \n",
    "# It may still have converged but it didn't ... "
   ]
  },
  {
   "cell_type": "code",
   "execution_count": null,
   "id": "improving-approach",
   "metadata": {},
   "outputs": [],
   "source": []
  },
  {
   "cell_type": "code",
   "execution_count": null,
   "id": "adjusted-anthropology",
   "metadata": {},
   "outputs": [],
   "source": []
  },
  {
   "cell_type": "code",
   "execution_count": null,
   "id": "timely-typing",
   "metadata": {},
   "outputs": [],
   "source": []
  },
  {
   "cell_type": "code",
   "execution_count": 44,
   "id": "musical-conservation",
   "metadata": {},
   "outputs": [],
   "source": [
    "# Just for reference, here's the code for crout's method"
   ]
  },
  {
   "cell_type": "code",
   "execution_count": 45,
   "id": "forced-watts",
   "metadata": {},
   "outputs": [],
   "source": [
    "def crout(A):\n",
    "    \n",
    "    n = A.shape[0]\n",
    "    \n",
    "    U = np.zeros((n, n), dtype=np.double)\n",
    "    L = np.zeros((n, n), dtype=np.double)\n",
    "    \n",
    "    for k in range(n):\n",
    "        \n",
    "        L[k, k] = A[k, k] - L[k, :] @ U[:, k]\n",
    "        \n",
    "        U[k, k:] = (A[k, k:] - L[k, :k] @ U[:k, k:]) / L[k, k]\n",
    "        L[(k+1):, k] = (A[(k+1):, k] - L[(k+1):, :] @ U[:, k]) / U[k, k]\n",
    "    \n",
    "    return L, U"
   ]
  },
  {
   "cell_type": "code",
   "execution_count": 46,
   "id": "digital-restriction",
   "metadata": {},
   "outputs": [],
   "source": [
    "B = [[ 1, 2,  3],\n",
    "       [ 1, 5, 20],\n",
    "       [ 1,  9,  7]]\n",
    "B = np.array(B)\n",
    "L, U = crout(B)"
   ]
  },
  {
   "cell_type": "code",
   "execution_count": 47,
   "id": "protected-incidence",
   "metadata": {},
   "outputs": [
    {
     "data": {
      "text/plain": [
       "array([[  1.        ,   0.        ,   0.        ],\n",
       "       [  1.        ,   3.        ,   0.        ],\n",
       "       [  1.        ,   7.        , -35.66666667]])"
      ]
     },
     "execution_count": 47,
     "metadata": {},
     "output_type": "execute_result"
    }
   ],
   "source": [
    "L"
   ]
  },
  {
   "cell_type": "code",
   "execution_count": 48,
   "id": "cellular-stationery",
   "metadata": {},
   "outputs": [
    {
     "data": {
      "text/plain": [
       "array([[1.        , 2.        , 3.        ],\n",
       "       [0.        , 1.        , 5.66666667],\n",
       "       [0.        , 0.        , 1.        ]])"
      ]
     },
     "execution_count": 48,
     "metadata": {},
     "output_type": "execute_result"
    }
   ],
   "source": [
    "U"
   ]
  },
  {
   "cell_type": "code",
   "execution_count": 49,
   "id": "hindu-frederick",
   "metadata": {},
   "outputs": [
    {
     "data": {
      "text/plain": [
       "array([[ 1.,  2.,  3.],\n",
       "       [ 1.,  5., 20.],\n",
       "       [ 1.,  9.,  7.]])"
      ]
     },
     "execution_count": 49,
     "metadata": {},
     "output_type": "execute_result"
    }
   ],
   "source": [
    "L @ U "
   ]
  },
  {
   "cell_type": "code",
   "execution_count": null,
   "id": "smoking-pledge",
   "metadata": {},
   "outputs": [],
   "source": []
  }
 ],
 "metadata": {
  "kernelspec": {
   "display_name": "Python 3",
   "language": "python",
   "name": "python3"
  },
  "language_info": {
   "codemirror_mode": {
    "name": "ipython",
    "version": 3
   },
   "file_extension": ".py",
   "mimetype": "text/x-python",
   "name": "python",
   "nbconvert_exporter": "python",
   "pygments_lexer": "ipython3",
   "version": "3.8.6"
  },
  "toc-autonumbering": true
 },
 "nbformat": 4,
 "nbformat_minor": 5
}
